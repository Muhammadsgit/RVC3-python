{
 "cells": [
  {
   "attachments": {},
   "cell_type": "markdown",
   "id": "5ee3b8fc",
   "metadata": {},
   "source": [
    "# Robotics, Vision & Control 3e: for Python\n",
    "## Chapter 2: Representing position & orientation\n",
    "\n",
    "Copyright (c) 2021- Peter Corke"
   ]
  },
  {
   "cell_type": "code",
   "execution_count": 4,
   "id": "9fa014e9",
   "metadata": {},
   "outputs": [],
   "source": [
    "\"\"\"try:\n",
    "    from google.colab import output\n",
    "    print('Running on CoLab')\n",
    "    output.enable_custom_widget_manager()\n",
    "    !pip install ipympl\n",
    "    !pip install spatialmath-python\n",
    "    COLAB = True\n",
    "    SWIFT = False\n",
    "except ModuleNotFoundError:\n",
    "    COLAB = False\n",
    "    SWIFT = False  \"\"\"\n",
    "#from IPython.core.interactiveshell import InteractiveShell\n",
    "#InteractiveShell.ast_node_interactivity = \"last_expr_or_assign\"\n",
    "#from IPython.display import HTML\n",
    "\n",
    "# standard imports\n",
    "import numpy as np\n",
    "from scipy import linalg\n",
    "#%matplotlib widget\n",
    "import matplotlib.pyplot as plt\n",
    "import math\n",
    "from math import pi\n",
    "np.set_printoptions(\n",
    "    linewidth=120, formatter={\n",
    "        'float': lambda x: f\"{0:8.4g}\" if abs(x) < 1e-10 else f\"{x:8.4g}\"})\n",
    "np.random.seed(0)\n",
    "from spatialmath import *\n",
    "from spatialmath.base import *"
   ]
  },
  {
   "attachments": {},
   "cell_type": "markdown",
   "id": "b1de4c86",
   "metadata": {},
   "source": [
    "There are some minor code changes compared to the book. These are to support \n",
    "the Matplotlib widget (ipympl) backend.  This allows 3D plots to be rotated\n",
    "so the changes are worthwhile."
   ]
  },
  {
   "cell_type": "markdown",
   "id": "e8db33c6",
   "metadata": {},
   "source": [
    "# 2.1 Foundations\n"
   ]
  },
  {
   "cell_type": "markdown",
   "id": "470988dd",
   "metadata": {},
   "source": [
    "# 2.2 Working in Two Dimensions (2D)\n"
   ]
  },
  {
   "cell_type": "markdown",
   "id": "a09d2f95",
   "metadata": {},
   "source": [
    "## 2.2.1 Orientation in Two Dimensions\n"
   ]
  },
  {
   "cell_type": "markdown",
   "id": "9efe5df0",
   "metadata": {},
   "source": [
    "### 2.2.1.1 2D Rotation Matrix\n"
   ]
  },
  {
   "cell_type": "code",
   "execution_count": 5,
   "id": "c5483e87",
   "metadata": {},
   "outputs": [
    {
     "data": {
      "text/plain": [
       "array([[  0.9553,  -0.2955],\n",
       "       [  0.2955,   0.9553]])"
      ]
     },
     "execution_count": 5,
     "metadata": {},
     "output_type": "execute_result"
    }
   ],
   "source": [
    "R = rot2(0.3)"
   ]
  },
  {
   "cell_type": "code",
   "execution_count": 6,
   "id": "64540c28",
   "metadata": {},
   "outputs": [
    {
     "data": {
      "image/png": "[encoded data removed]",
      "text/plain": [
       "<Figure size 640x480 with 1 Axes>"
      ]
     },
     "metadata": {},
     "output_type": "display_data"
    }
   ],
   "source": [
    "plotvol2(new=True)  # for matplotlib/widget\n",
    "trplot2(R);"
   ]
  },
  {
   "cell_type": "code",
   "execution_count": 7,
   "id": "5af45966",
   "metadata": {},
   "outputs": [
    {
     "data": {
      "text/plain": [
       "0.9999999999999999"
      ]
     },
     "execution_count": 7,
     "metadata": {},
     "output_type": "execute_result"
    }
   ],
   "source": [
    "np.linalg.det(R)"
   ]
  },
  {
   "cell_type": "code",
   "execution_count": 8,
   "id": "c16e841d",
   "metadata": {},
   "outputs": [
    {
     "data": {
      "text/plain": [
       "0.9999999999999998"
      ]
     },
     "execution_count": 8,
     "metadata": {},
     "output_type": "execute_result"
    }
   ],
   "source": [
    "np.linalg.det(R @ R)"
   ]
  },
  {
   "cell_type": "code",
   "execution_count": 9,
   "id": "e310167d",
   "metadata": {},
   "outputs": [
    {
     "data": {
      "text/latex": [
       "$\\displaystyle \\left[\\begin{matrix}\\cos{\\left(\\theta \\right)} & - \\sin{\\left(\\theta \\right)}\\\\\\sin{\\left(\\theta \\right)} & \\cos{\\left(\\theta \\right)}\\end{matrix}\\right]$"
      ],
      "text/plain": [
       "Matrix([\n",
       "[cos(theta), -sin(theta)],\n",
       "[sin(theta),  cos(theta)]])"
      ]
     },
     "execution_count": 9,
     "metadata": {},
     "output_type": "execute_result"
    }
   ],
   "source": [
    "from sympy import Symbol, Matrix, simplify, pprint\n",
    "theta = Symbol('theta')\n",
    "R = Matrix(rot2(theta))  # convert to SymPy matrix"
   ]
  },
  {
   "cell_type": "code",
   "execution_count": 10,
   "id": "7258a4db",
   "metadata": {},
   "outputs": [
    {
     "data": {
      "text/latex": [
       "$\\displaystyle \\left[\\begin{matrix}\\cos{\\left(2 \\theta \\right)} & - \\sin{\\left(2 \\theta \\right)}\\\\\\sin{\\left(2 \\theta \\right)} & \\cos{\\left(2 \\theta \\right)}\\end{matrix}\\right]$"
      ],
      "text/plain": [
       "Matrix([\n",
       "[cos(2*theta), -sin(2*theta)],\n",
       "[sin(2*theta),  cos(2*theta)]])"
      ]
     },
     "execution_count": 10,
     "metadata": {},
     "output_type": "execute_result"
    }
   ],
   "source": [
    "simplify(R * R)"
   ]
  },
  {
   "cell_type": "code",
   "execution_count": 11,
   "id": "3b01396b",
   "metadata": {},
   "outputs": [
    {
     "data": {
      "text/latex": [
       "$\\displaystyle \\sin^{2}{\\left(\\theta \\right)} + \\cos^{2}{\\left(\\theta \\right)}$"
      ],
      "text/plain": [
       "sin(theta)**2 + cos(theta)**2"
      ]
     },
     "execution_count": 11,
     "metadata": {},
     "output_type": "execute_result"
    }
   ],
   "source": [
    "R.det()"
   ]
  },
  {
   "cell_type": "code",
   "execution_count": 12,
   "id": "e67d0f7c",
   "metadata": {},
   "outputs": [
    {
     "data": {
      "text/latex": [
       "$\\displaystyle 1$"
      ],
      "text/plain": [
       "1"
      ]
     },
     "execution_count": 12,
     "metadata": {},
     "output_type": "execute_result"
    }
   ],
   "source": [
    "R.det().simplify()"
   ]
  },
  {
   "cell_type": "markdown",
   "id": "9b39fceb",
   "metadata": {},
   "source": [
    "### 2.2.1.2 Matrix Exponential for Rotation\n"
   ]
  },
  {
   "cell_type": "code",
   "execution_count": 15,
   "id": "31f1d102",
   "metadata": {},
   "outputs": [],
   "source": [
    "R = rot2(0.3);"
   ]
  },
  {
   "cell_type": "code",
   "execution_count": 16,
   "id": "f19d040c",
   "metadata": {},
   "outputs": [
    {
     "data": {
      "text/plain": [
       "array([[       0,     -0.3],\n",
       "       [     0.3,        0]])"
      ]
     },
     "execution_count": 16,
     "metadata": {},
     "output_type": "execute_result"
    }
   ],
   "source": [
    "L = linalg.logm(R)  # using linalg package of SciPy"
   ]
  },
  {
   "cell_type": "code",
   "execution_count": 17,
   "id": "a9a341f8",
   "metadata": {},
   "outputs": [
    {
     "data": {
      "text/plain": [
       "array([     0.3])"
      ]
     },
     "execution_count": 17,
     "metadata": {},
     "output_type": "execute_result"
    }
   ],
   "source": [
    "S = vex(L)"
   ]
  },
  {
   "cell_type": "code",
   "execution_count": 18,
   "id": "77731ef6",
   "metadata": {},
   "outputs": [
    {
     "data": {
      "text/plain": [
       "array([[       0,       -2],\n",
       "       [       2,        0]])"
      ]
     },
     "execution_count": 18,
     "metadata": {},
     "output_type": "execute_result"
    }
   ],
   "source": [
    "X = skew(2)"
   ]
  },
  {
   "cell_type": "code",
   "execution_count": 19,
   "id": "86db1b29",
   "metadata": {},
   "outputs": [
    {
     "data": {
      "text/plain": [
       "array([       2])"
      ]
     },
     "execution_count": 19,
     "metadata": {},
     "output_type": "execute_result"
    }
   ],
   "source": [
    "vex(X)"
   ]
  },
  {
   "cell_type": "code",
   "execution_count": 20,
   "id": "3508ab12",
   "metadata": {},
   "outputs": [
    {
     "data": {
      "text/plain": [
       "array([[  0.9553,  -0.2955],\n",
       "       [  0.2955,   0.9553]])"
      ]
     },
     "execution_count": 20,
     "metadata": {},
     "output_type": "execute_result"
    }
   ],
   "source": [
    "linalg.expm(L)"
   ]
  },
  {
   "cell_type": "code",
   "execution_count": 21,
   "id": "cec4db4a",
   "metadata": {},
   "outputs": [
    {
     "data": {
      "text/plain": [
       "array([[  0.9553,  -0.2955],\n",
       "       [  0.2955,   0.9553]])"
      ]
     },
     "execution_count": 21,
     "metadata": {},
     "output_type": "execute_result"
    }
   ],
   "source": [
    "linalg.expm(skew(S))"
   ]
  },
  {
   "cell_type": "markdown",
   "id": "87688725",
   "metadata": {},
   "source": [
    "## 2.2.2 Pose in Two Dimensions\n"
   ]
  },
  {
   "cell_type": "markdown",
   "id": "055de8ed",
   "metadata": {},
   "source": [
    "### 2.2.2.1 2D Homogeneous Transformation Matrix\n"
   ]
  },
  {
   "cell_type": "code",
   "execution_count": 22,
   "id": "b018f9a7",
   "metadata": {},
   "outputs": [
    {
     "data": {
      "text/plain": [
       "array([[  0.9553,  -0.2955],\n",
       "       [  0.2955,   0.9553]])"
      ]
     },
     "execution_count": 22,
     "metadata": {},
     "output_type": "execute_result"
    }
   ],
   "source": [
    "rot2(0.3)"
   ]
  },
  {
   "cell_type": "code",
   "execution_count": 23,
   "id": "909d6608",
   "metadata": {},
   "outputs": [
    {
     "data": {
      "text/plain": [
       "array([[  0.9553,  -0.2955,        0],\n",
       "       [  0.2955,   0.9553,        0],\n",
       "       [       0,        0,        1]])"
      ]
     },
     "execution_count": 23,
     "metadata": {},
     "output_type": "execute_result"
    }
   ],
   "source": [
    "trot2(0.3)"
   ]
  },
  {
   "cell_type": "code",
   "execution_count": 24,
   "id": "7319f76a",
   "metadata": {},
   "outputs": [
    {
     "data": {
      "text/plain": [
       "array([[   0.866,     -0.5,        1],\n",
       "       [     0.5,    0.866,        2],\n",
       "       [       0,        0,        1]])"
      ]
     },
     "execution_count": 24,
     "metadata": {},
     "output_type": "execute_result"
    }
   ],
   "source": [
    "TA = transl2(1, 2) @ trot2(30, \"deg\")"
   ]
  },
  {
   "cell_type": "code",
   "execution_count": 25,
   "id": "79d9175b",
   "metadata": {},
   "outputs": [
    {
     "data": {
      "image/png": "[encoded data removed]",
      "text/plain": [
       "<Figure size 640x480 with 1 Axes>"
      ]
     },
     "metadata": {},
     "output_type": "display_data"
    }
   ],
   "source": [
    "plotvol2([0, 5], new=True); # new plot with both axes from 0 to 5\n",
    "trplot2(TA, frame=\"A\", color=\"b\");\n",
    "T0 = transl2(0, 0);\n",
    "trplot2(T0, frame=\"0\", color=\"k\");  # reference frame\n",
    "TB = transl2(2, 1)\n",
    "trplot2(TB, frame=\"B\", color=\"r\");\n",
    "TAB = TA @ TB\n",
    "trplot2(TAB, frame=\"AB\", color=\"g\");\n",
    "TBA = TB @ TA;\n",
    "trplot2(TBA, frame=\"BA\", color=\"c\");\n",
    "P = np.array([3, 2]);\n",
    "plot_point(P, \"ko\", label=\"P\");"
   ]
  },
  {
   "cell_type": "code",
   "execution_count": 26,
   "id": "edcaf26b",
   "metadata": {},
   "outputs": [
    {
     "name": "stdout",
     "output_type": "stream",
     "text": [
      "[[   0.866     -0.5        1]\n",
      " [     0.5    0.866        2]\n",
      " [       0        0        1]]\n",
      "[3 2]\n"
     ]
    },
    {
     "data": {
      "text/plain": [
       "array([   1.732,       -1,        1])"
      ]
     },
     "execution_count": 26,
     "metadata": {},
     "output_type": "execute_result"
    }
   ],
   "source": [
    "print(TA)\n",
    "print(P)\n",
    "np.linalg.inv(TA) @ np.hstack([P, 1])"
   ]
  },
  {
   "cell_type": "code",
   "execution_count": 27,
   "id": "5c994de2",
   "metadata": {},
   "outputs": [
    {
     "data": {
      "text/plain": [
       "array([[   1.732],\n",
       "       [      -1]])"
      ]
     },
     "execution_count": 27,
     "metadata": {},
     "output_type": "execute_result"
    }
   ],
   "source": [
    "h2e(np.linalg.inv(TA) @ e2h(P))"
   ]
  },
  {
   "cell_type": "code",
   "execution_count": 28,
   "id": "2d49d780",
   "metadata": {},
   "outputs": [
    {
     "data": {
      "text/plain": [
       "array([[   1.732],\n",
       "       [      -1]])"
      ]
     },
     "execution_count": 28,
     "metadata": {},
     "output_type": "execute_result"
    }
   ],
   "source": [
    "homtrans(np.linalg.inv(TA), P)"
   ]
  },
  {
   "cell_type": "markdown",
   "id": "84d879f8",
   "metadata": {},
   "source": [
    "### 2.2.2.2 Rotating a Coordinate Frame\n"
   ]
  },
  {
   "cell_type": "code",
   "execution_count": 29,
   "id": "3bfe12ca",
   "metadata": {},
   "outputs": [
    {
     "data": {
      "image/png": "[encoded data removed]",
      "text/plain": [
       "<Figure size 640x480 with 1 Axes>"
      ]
     },
     "metadata": {},
     "output_type": "display_data"
    }
   ],
   "source": [
    "plotvol2([-5, 4, -1, 5], new=True);  # for matplotlib/widget\n",
    "T0 = transl2(0, 0);\n",
    "trplot2(T0, frame=\"0\", color=\"k\");\n",
    "TX = transl2(2, 3);\n",
    "trplot2(TX, frame=\"X\", color=\"b\");\n",
    "TR = trot2(2);\n",
    "trplot2(TR @ TX, framelabel=\"RX\", color=\"g\");\n",
    "trplot2(TX @ TR, framelabel=\"XR\", color=\"g\");\n",
    "C = np.array([3, 2]);\n",
    "plot_point(C, \"ko\", text=\"C\");\n",
    "TC = transl2(C) @ TR @ transl2(-C)\n",
    "trplot2(TC @ TX, framelabel=\"XC\", color=\"r\");"
   ]
  },
  {
   "cell_type": "markdown",
   "id": "cd1b5baa",
   "metadata": {},
   "source": [
    "### 2.2.2.3 Matrix exponential for Pose\n"
   ]
  },
  {
   "cell_type": "code",
   "execution_count": 30,
   "id": "ed8e7626",
   "metadata": {},
   "outputs": [
    {
     "data": {
      "text/plain": [
       "array([[       0,       -2,        4],\n",
       "       [       2,        0,       -6],\n",
       "       [       0,        0,        0]])"
      ]
     },
     "execution_count": 30,
     "metadata": {},
     "output_type": "execute_result"
    }
   ],
   "source": [
    "L = linalg.logm(TC)"
   ]
  },
  {
   "cell_type": "code",
   "execution_count": 31,
   "id": "134d047a",
   "metadata": {},
   "outputs": [
    {
     "data": {
      "text/plain": [
       "array([       4,       -6,        2])"
      ]
     },
     "execution_count": 31,
     "metadata": {},
     "output_type": "execute_result"
    }
   ],
   "source": [
    "S = vexa(L)"
   ]
  },
  {
   "cell_type": "code",
   "execution_count": 32,
   "id": "bcef0ac8",
   "metadata": {},
   "outputs": [
    {
     "data": {
      "text/plain": [
       "array([[ -0.4161,  -0.9093,    6.067],\n",
       "       [  0.9093,  -0.4161,   0.1044],\n",
       "       [       0,        0,        1]])"
      ]
     },
     "execution_count": 32,
     "metadata": {},
     "output_type": "execute_result"
    }
   ],
   "source": [
    "linalg.expm(skewa(S))"
   ]
  },
  {
   "cell_type": "code",
   "execution_count": 33,
   "id": "8c3345ba",
   "metadata": {},
   "outputs": [
    {
     "data": {
      "text/plain": [
       "array([[       0,       -3,        1],\n",
       "       [       3,        0,        2],\n",
       "       [       0,        0,        0]])"
      ]
     },
     "execution_count": 33,
     "metadata": {},
     "output_type": "execute_result"
    }
   ],
   "source": [
    "X = skewa([1, 2, 3])"
   ]
  },
  {
   "cell_type": "code",
   "execution_count": 34,
   "id": "b0571db2",
   "metadata": {},
   "outputs": [
    {
     "data": {
      "text/plain": [
       "array([       1,        2,        3])"
      ]
     },
     "execution_count": 34,
     "metadata": {},
     "output_type": "execute_result"
    }
   ],
   "source": [
    "vexa(X)"
   ]
  },
  {
   "cell_type": "markdown",
   "id": "1c53c8fb",
   "metadata": {},
   "source": [
    "### 2.2.2.4 2D Twists\n"
   ]
  },
  {
   "cell_type": "code",
   "execution_count": 35,
   "id": "5e10e01c",
   "metadata": {},
   "outputs": [
    {
     "data": {
      "text/plain": [
       "(2 -3; 1)"
      ]
     },
     "execution_count": 35,
     "metadata": {},
     "output_type": "execute_result"
    }
   ],
   "source": [
    "S = Twist2.UnitRevolute(C)"
   ]
  },
  {
   "cell_type": "code",
   "execution_count": 36,
   "id": "5aff09e3",
   "metadata": {},
   "outputs": [
    {
     "data": {
      "text/plain": [
       "array([[ -0.4161,  -0.9093,    6.067],\n",
       "       [  0.9093,  -0.4161,   0.1044],\n",
       "       [       0,        0,        1]])"
      ]
     },
     "execution_count": 36,
     "metadata": {},
     "output_type": "execute_result"
    }
   ],
   "source": [
    "linalg.expm(skewa(2 * S.S))"
   ]
  },
  {
   "cell_type": "code",
   "execution_count": 37,
   "id": "75b4a37f",
   "metadata": {},
   "outputs": [
    {
     "data": {
      "text/plain": [
       "  -0.4161   -0.9093    6.067     \n",
       "   0.9093   -0.4161    0.1044    \n",
       "   0         0         1         \n"
      ]
     },
     "execution_count": 37,
     "metadata": {},
     "output_type": "execute_result"
    }
   ],
   "source": [
    "S.exp(2)"
   ]
  },
  {
   "cell_type": "code",
   "execution_count": 38,
   "id": "1d759daa",
   "metadata": {},
   "outputs": [
    {
     "data": {
      "text/plain": [
       "array([       3,        2])"
      ]
     },
     "execution_count": 38,
     "metadata": {},
     "output_type": "execute_result"
    }
   ],
   "source": [
    "S.pole"
   ]
  },
  {
   "cell_type": "code",
   "execution_count": 39,
   "id": "3a201e7a",
   "metadata": {},
   "outputs": [
    {
     "data": {
      "text/plain": [
       "(0 1; 0)"
      ]
     },
     "execution_count": 39,
     "metadata": {},
     "output_type": "execute_result"
    }
   ],
   "source": [
    "S = Twist2.UnitPrismatic([0, 1])"
   ]
  },
  {
   "cell_type": "code",
   "execution_count": 40,
   "id": "9f45a848",
   "metadata": {},
   "outputs": [
    {
     "data": {
      "text/plain": [
       "   1         0         0         \n",
       "   0         1         2         \n",
       "   0         0         1         \n"
      ]
     },
     "execution_count": 40,
     "metadata": {},
     "output_type": "execute_result"
    }
   ],
   "source": [
    "S.exp(2)"
   ]
  },
  {
   "cell_type": "code",
   "execution_count": 41,
   "id": "979ff0aa",
   "metadata": {},
   "outputs": [
    {
     "data": {
      "text/plain": [
       "array([[  0.8776,  -0.4794,        3],\n",
       "       [  0.4794,   0.8776,        4],\n",
       "       [       0,        0,        1]])"
      ]
     },
     "execution_count": 41,
     "metadata": {},
     "output_type": "execute_result"
    }
   ],
   "source": [
    "T = transl2(3, 4) @ trot2(0.5)"
   ]
  },
  {
   "cell_type": "code",
   "execution_count": 42,
   "id": "f1387dec",
   "metadata": {},
   "outputs": [
    {
     "data": {
      "text/plain": [
       "(3.9372 3.1663; 0.5)"
      ]
     },
     "execution_count": 42,
     "metadata": {},
     "output_type": "execute_result"
    }
   ],
   "source": [
    "S = Twist2(T)"
   ]
  },
  {
   "cell_type": "code",
   "execution_count": 43,
   "id": "32bc8c36",
   "metadata": {},
   "outputs": [
    {
     "data": {
      "text/plain": [
       "0.5"
      ]
     },
     "execution_count": 43,
     "metadata": {},
     "output_type": "execute_result"
    }
   ],
   "source": [
    "S.w"
   ]
  },
  {
   "cell_type": "code",
   "execution_count": 44,
   "id": "c40397de",
   "metadata": {},
   "outputs": [
    {
     "data": {
      "text/plain": [
       "array([  -3.166,    3.937])"
      ]
     },
     "execution_count": 44,
     "metadata": {},
     "output_type": "execute_result"
    }
   ],
   "source": [
    "S.pole"
   ]
  },
  {
   "cell_type": "code",
   "execution_count": 45,
   "id": "ab1f355b",
   "metadata": {},
   "outputs": [
    {
     "data": {
      "text/plain": [
       "   0.8776   -0.4794    3         \n",
       "   0.4794    0.8776    4         \n",
       "   0         0         1         \n"
      ]
     },
     "execution_count": 45,
     "metadata": {},
     "output_type": "execute_result"
    }
   ],
   "source": [
    "S.exp(1)"
   ]
  },
  {
   "cell_type": "markdown",
   "id": "26a02f07",
   "metadata": {},
   "source": [
    "# 2.3 Working in Three Dimensions (3D)\n"
   ]
  },
  {
   "cell_type": "markdown",
   "id": "bf8037f4",
   "metadata": {},
   "source": [
    "## 2.3.1 Orientation in Three Dimensions\n"
   ]
  },
  {
   "cell_type": "markdown",
   "id": "9bbb219d",
   "metadata": {},
   "source": [
    "### 2.3.1.1 3D Rotation Matrix\n"
   ]
  },
  {
   "cell_type": "code",
   "execution_count": 46,
   "id": "1bfaea18",
   "metadata": {},
   "outputs": [
    {
     "data": {
      "text/plain": [
       "array([[       1,        0,        0],\n",
       "       [       0,        0,       -1],\n",
       "       [       0,        1,        0]])"
      ]
     },
     "execution_count": 46,
     "metadata": {},
     "output_type": "execute_result"
    }
   ],
   "source": [
    "R = rotx(pi / 2)"
   ]
  },
  {
   "cell_type": "code",
   "execution_count": 47,
   "id": "424a2cec",
   "metadata": {},
   "outputs": [
    {
     "data": {
      "image/png": "[encoded data removed]",
      "text/plain": [
       "<Figure size 640x480 with 1 Axes>"
      ]
     },
     "metadata": {},
     "output_type": "display_data"
    }
   ],
   "source": [
    "plotvol3(new=True)  # for matplotlib/widget\n",
    "trplot(R);"
   ]
  },
  {
   "cell_type": "code",
   "execution_count": 48,
   "id": "1ee4b844",
   "metadata": {},
   "outputs": [
    {
     "data": {
      "text/html": [
       "<video width=\"640\" height=\"480\" controls autoplay>\n",
       "  <source type=\"video/mp4\" src=\"data:video/mp4;base64,AAAAIGZ0eXBNNFYgAAACAE00ViBpc29taXNvMmF2YzEAAAAIZnJlZQAAn4xtZGF0AAACrwYF//+r\n",
       "3EXpvebZSLeWLNgg2SPu73gyNjQgLSBjb3JlIDE2NCByMzEwNyBhOGI2OGViIC0gSC4yNjQvTVBF\n",
       "Ry00IEFWQyBjb2RlYyAtIENvcHlsZWZ0IDIwMDMtMjAyMyAtIGh0dHA6Ly93d3cudmlkZW9sYW4u\n",
       "b3JnL3gyNjQuaHRtbCAtIG9wdGlvbnM6IGNhYmFjPTEgcmVmPTMgZGVibG9jaz0xOjA6MCBhbmFs\n",
       "eXNlPTB4MzoweDExMyBtZT1oZXggc3VibWU9NyBwc3k9MSBwc3lfcmQ9MS4wMDowLjAwIG1peGVk\n",
       "X3JlZj0xIG1lX3JhbmdlPTE2IGNocm9tYV9tZT0xIHRyZWxsaXM9MSA4eDhkY3Q9MSBjcW09MCBk\n",
       "ZWFkem9uZT0yMSwxMSBmYXN0X3Bza2lwPTEgY2hyb21hX3FwX29mZnNldD0tMiB0aHJlYWRzPTE1\n",
       "IGxvb2thaGVhZF90aHJlYWRzPTIgc2xpY2VkX3RocmVhZHM9MCBucj0wIGRlY2ltYXRlPTEgaW50\n",
       "ZXJsYWNlZD0wIGJsdXJheV9jb21wYXQ9MCBjb25zdHJhaW5lZF9pbnRyYT0wIGJmcmFtZXM9MyBi\n",
       "X3B5cmFtaWQ9MiBiX2FkYXB0PTEgYl9iaWFzPTAgZGlyZWN0PTEgd2VpZ2h0Yj0xIG9wZW5fZ29w\n",
       "PTAgd2VpZ2h0cD0yIGtleWludD0yNTAga2V5aW50X21pbj0yMCBzY2VuZWN1dD00MCBpbnRyYV9y\n",
       "ZWZyZXNoPTAgcmNfbG9va2FoZWFkPTQwIHJjPWNyZiBtYnRyZWU9MSBjcmY9MjMuMCBxY29tcD0w\n",
       "LjYwIHFwbWluPTAgcXBtYXg9NjkgcXBzdGVwPTQgaXBfcmF0aW89MS40MCBhcT0xOjEuMDAAgAAA\n",
       "RvFliIQAP//+92ifAptaQ3qA5JXFJdtPgf+rZ3B8j+kDAAADAAADAAAEMCOP9CT+H5qTAAADAEQA\n",
       "CwhDqAn5UXXDswU6jjGRxjbBdKSOVpPbRKbTXh/lxtMNWi8eNPtUufg/Gw2AssCtkd+pwOZKjSzp\n",
       "DBR30s50ZKeTJ8JcrG87lcwlSdx9XNGC2y5rVbO8KVCgJk66bpjeXsq+j+QJ/Rd7NIODOTFhdlf7\n",
       "NQT39imRc1rbxjawGm9IpwNPpR2X7FCjnz3Uy5+2k+kedRkj6P+pbDJK+RGCOLEL9CBI8FP15vRf\n",
       "vtLEJETwHQOiaX6u7hv8nIht5UWt9s6TO8V/NwV/5WxH5ueMZ0YscE8SBvCKBWeRDeD/tU6aRTvN\n",
       "dKha5N1+Ek9FvyYmmM1lVe1KgYEYxGe8hywZJYyfqgr5aSYYFFCwLyBBmZVg2L+YVyGon5/q1WKs\n",
       "lKuuSilnNlOM+tOAmJB61/pAx7p3EBrVZAC2DSOVDH9KQFSDIUporsCtim9Me83MbZ65FOqIJFWV\n",
       "F4NsNM4Nc6DSl5U68yf4v0gk4/u6TetLpy9c1c4jVEFzAS4K+xfGfr0h+TVtY9/zQxy1t4cOwghL\n",
       "hU3zJnm0LkGQ1lMvkr7GGbN4lZ1zeMSmRaX/pfyNICN4jguC4GnWw/TQ+vz+LGbkQdfF406XIP0p\n",
       "8cf+LE4HHbZrUyMewvcpiVV0JooEmOcXCBmpEl6jc6GxShIC7jeZE69Iy2sLqlgOrYP63KwneI7r\n",
       "disGEKcF1PaZlYkFLwpd3MHRbhU1iCZnzoBxlHJafrdENaxRaJoM4OOKcsi4iZ5z24n+qdSW4pPI\n",
       "1oRZ0FF00HFVbpXUDD50v0Co9/MPOA5N0KC2fF1ZkX1UJf5deZiJDOSFUP6aiz3H4gK5jY2jfpyv\n",
       "Dh25PWiNjnDJnknyIlKbcJfvSnGQJhbudW89j1ZKdWdlQjKPMbQKYiKvoNfDQh/T18bj01jmu4Wm\n",
       "S+s2/tgn7GqN2EkCmnE2EJ5/a1aCRJOzZd+S2o0cgwaREbw0uF3jxLOT/07hVeWV9iwjBXin7FtT\n",
       "bXEzlkk3x6jQlao4eVn/VyBlMisWqkX294P1ai0MaBIZicZ7yjrX8H+ZALYD66+w/Y9aGHVz5icn\n",
       "wcPqzas6R66aKiUTGBZc+ISIi7xniFoS7+T7Mgo04rjQt9NsvtR7jFfw0FH6SqWUt7F5bx2HBSmR\n",
       "nfbqbVzvO58P75tGlepatxRZRc558Fzlncq1DG718Eb9XcjvDiGOhngAGTaR5aD5GxPufAbFXHIY\n",
       "QF/F73gVccc2Rt2Iw3xXwET1qwhcgVbLN6z4kd7SQBvBisKCkiime28jrqx1n9KHEfWiti00LNaz\n",
       "OLm8n6DBI+4Q1ERQI5kkGLv2SGQQ+/jJyn85ehL3cYqb0JEM1g+Fr7TG5nCGDlgdWCmBtBVd914a\n",
       "6IyhHduG/0Fey/8t+ec0Peu3WCm+hGbuqB//mXntlMUdm1lTW87q/RkVkmLLfvweLUaoclDaXlMp\n",
       "KXvxxb5EoNMU7xMVz2bYxBD/T7gYJtpRqXA68ykYauJNSHqQI8TNKgp4xJ1CEITO9Upj2lpAFaGQ\n",
       "2fhyxpm4lXKcW/6+/u4Kk/gJ7YTYEfrzX6xyLwiUTki9u0w4VHoYIW/GmX2R1eTLAEeovix0UFTs\n",
       "iZBwDJaXukVGOaGoAKOtkJHpSPjxNaXNv42pllmTCREnNZepu6w2Zwzp1wrbjuAhuNJJv1zST6Ye\n",
       "QTammHNAhOnCvn03oEejg/Zi2daHZWrHwZPYVOYndpux2OXM8zDxtDVtR1WlMBlH3/zGRdMp69sj\n",
       "h/CgLzSi94XUm3NkhRPf1O/stu1Dmx7oo3peIaokt+gBUPOGL6IJ6bvpNDTk178svSQgd0pxWTwu\n",
       "yJjrntczHmLTmd4ieAd5IqZr3SHJ9Kq+xIZVAFUOBRAo8XJcoMpm5yshSOZ0wXkMNFJ3gYBLkhLE\n",
       "0AE2qz4Y50FlUklsGLDAyZumjg3KX6CR5+D/5AkNQ5QNZDipvDk3BfpRyR3g3cp8fGv7zXFIczcq\n",
       "evHzjkrruk3pQj/28vjIsLLer8AzgSGPV+hlpPpabiYYfbvfmyrA6XwEZ/DlVdfShaFjqNlLonCN\n",
       "OG1Wj6caTV0tm5xZsk8aQoJ4beuV2Raimw5CI6y2P7Vi4/gQGkrvRdgB7yFohcoJxHXUqU7E+Vzz\n",
       "KwJEZd8nyzfQKZIWblvhODHD+ERK9bOMCtSHimXkzmutz5aLkfjMf+4Ce4mymIo5sVvK2l0NZTdi\n",
       "LBhe9cGtSvXBiEIB3944WxZ1Phl9jynVm3EkxQne/2n0Qk/lyDN1F6rgm79b4lREcU20e+CpT2Hr\n",
       "Kz/DD5SBoMIvZNvvLpxEkTbJroi8ybYV4PL2ei8e813yP+ktcjPn3p85ES+THCg49pHob5eB89RP\n",
       "yTVrIb2V2q0h9RG5q5antZ4Y9GA/95W7b/bYnepQxO5s4/lx0M+XG7w392+9LSSGKN6kUm1pQ5I/\n",
       "aWDI96AaFyt6vcFFUbf4kr7hyMVe9klxlJCUHu1jlQRtMdFV73W33iCFLe5Nf/gQK2k2tC9kNzif\n",
       "6Z1ac2VNfUASUGvAbUpP6oZSYobkTRRpgM9J+jA8fGDT0P14cUAJaKCF+6WssGLEKb4VaY5asPOT\n",
       "2UuDgEsx0/4c6XxxT4zfj/MwS7BQTdMF7G17v/5AWe1F+lmab9vRIuXTcSOXPkYssk345UUOB//g\n",
       "bKjOAUtU8IEz52DLVJntV3UgBOZkh9uHhWX6+MNEAq1UyvaE6nJPKuzpoUBXqyo87p9DY29IAWeh\n",
       "1DgVj0SetBAzkuUfcS8VmwwsoMq9cjWv71/PyVHS8YP9ZQazkGrnHRI40I87cAONVEcmF+stuU8/\n",
       "zEqXZ8bg0tDtkIX5zG/yN0QG6bzu/l58X+5zihzVuJlRD8YZ2h9YLmSitj2wVqlKU/PmM5Pv/7KW\n",
       "3ekwRqEVlV+wmNe8dIakuia7kjG16S/HLZdaDk2M3Uw1OoHzpvMtdx4HuEkg66G5J6luSPzLgBX9\n",
       "FrXK8qaqy9A7mx6uhEtKcY8Ei2TjXucav4KZJ6wx77PXabDD4XtuadZIgj3FTxNv7SoYYSfbNWxg\n",
       "JvsNgL8b4zRTZvwmGcfIAekra7k3A32XKlxw2s44JMLA6EsdZbD7468A8Sl/WJYCHisMH/QXWQZJ\n",
       "Nn0QkkIPAMRTlWCSON+Dl2nc94Y6fnB/e7V2qP0xJ0IYjzdmQvsrESG5uf6skgPsQwOTLUzKYNdY\n",
       "PviGU+4wJnrDZ57/kFZx3sV3j2ZGFMIIQTdNnJ0td+aa5zA2HsjEvkJ5sKPv467RjX0TYvCl9Pcf\n",
       "S9taVmKfdaZzqbjWIavxV1gbTLJQAmeTS1vMO+cR7Jh71s1d3aj4nOaooVGFK7PUC/XWCasKEquV\n",
       "p4R5zX/Gr2AtHaVCPj9Y0iFml1IHAhP0/0tdagnwRZ8g3hADS6Sn8uJR4VF1bZIznB1uPqxuxocl\n",
       "6PlNRqpGJD0jiJQqRdII0svsCoEAYRkrLSUMwD1NmhhOqo6MJ7oNQZjO///2/dgGEsASy7u1JU49\n",
       "LvboEqQfvOf42Ra2xjRxPv86U2jehVs1HyUiP3j+OpYhFK+6cGaCZvv89kIjEUfAmn3ufPiy3w+V\n",
       "DB6R7bn7gjBQISkyZul7kSQC90vPzeSf7GWA+h4H9DKGbOJ7OKoaKjpyb3E0rQeOr5iVr6Kg1PzE\n",
       "7qcxflw0ZVDdjea6gbGETyZ64uV2DcEHICMnzdJg+Z5PK0uAW7LB0jkXNxUcQsl4MdpMXvzSqg3/\n",
       "RMTlFHhv5wleRfFIofxNvOd6P0PscSsZQ0FsZlmUSE1ua1q5pEJhIk/dJQeMbPj2TUpsNigjRywo\n",
       "NCFMsKtuMxIASgQnH9GyCf1jPMwH3e8LB+dJ0m1c45u+4GZEfO7XYFhf/HkkFZ2Ar9qvpb7kjpiw\n",
       "3bOjNs8U/+nLcoCrjzPbjEuCCRsWn+TaEH6z20HhNpIESbsSH1ptLitbuAGgIIQYc9YR3YAin1el\n",
       "QW3JSqSHdU1CgIdSOViHZ5nE3oUNG5lUMZEh+wvAwhA9htaPMzaeP132YvfLYd35LtRZ2KrYvJbo\n",
       "qutlTFhP4mPmest9Ezdat+p8ovbXmZ0JhtMsDdKZ87HEkhZ9QleSgav+9lprHNdFWwzBZ6LLWIF0\n",
       "P4q7pQP3KIMxXQ6uyY0Gyo7OyZNLMKqCWun8sVtKT39B9/BsecH5veUeSWwr9gfyaBFmDzbwHvJr\n",
       "cAiMOEWBCGqLFOe8qdk414opunu9suQYL5PvdOl3YACr6wHE8xWnGA4IK/Sz4Bv9QtvaZDuBgYmM\n",
       "vw3FEQ4P3987IJ+BQ+oRcdIcTUJCGG/UnG0b5iHlRZkE6lStcuAH2eOODoAVak8+GKpwS97VLm87\n",
       "6pOS+ctSic67xL+qpk9MSFVr4A7cEjwiuMUMezwkLyAekjIavASzVWI+R5oQbCWfJLNRt00YJuO7\n",
       "MhiVblhq8XLGdghkAvZH0BlCAI5CndB9vyfXPMWSJNjrBbw+B3wV60LLIPPHBVXbgJprmppEltZV\n",
       "iNxcO8TmZ9wF/iZfwp10UJJg9rEUrl+9C+273cxHDsDNJzzFm23lAzIFQR7CLVG5/22TyhTSrDql\n",
       "szC1n+Tmvk/R4AJXQrUOxWy6fJVbFMCar9yIGiel/EwLKJdtPHk/Vbk9TrApVtXRTesd1/IEnpQQ\n",
       "OpgrR8HWDBq6xqvKqtFwlVxx9WXOPOJDu1A+loyic8eCCGmEvUZgz4Jf5D3WDPwynFqs+8ieNSv6\n",
       "bEUUdJf61gJ9OtBcCQOL54rqsBP2go6g6Di1Ag3M8jpKkGHG3ngfO21F8iIiFnfl9Y9Hs7HzBaPv\n",
       "yzmSocHO/GJRHcdAjXA2P41Ixb843ep3Q5fN+YoXcO8SjhLwx5f7AcuDEFUwqmqaXqtZDxFKYK24\n",
       "Mo2WeOWZUE6xKB+gni9s2/a4p4GbjNHlxNvEXvzL7colF3vIqBTpJxhof2xbqvwjBgiMlNn+ZSxY\n",
       "AgkF+c3uhaMhfM+YjSFO0QuHz4fTgtmknHx6+k44Hj/MuaUiAirVFAqcgAq26qLfD5tiauCd20Iq\n",
       "CrAyJk3/fDxnJHE8W13dlRC2gSxecGF59jDS5XQPgFg1crHms2zG2Yv7/vUVqFb7IU1pIsS60RI1\n",
       "rBhxnMk/cnl2vl3el8k6+SY4o56GFE1qmA/1BkMuq9PMf09BxIEHLAMTBNdQrfnnbSBUSJr7LVTg\n",
       "PWportM5Y+4lPGTBwalCyZLI0bsb2pJ4nOFZ7SgEsw6vv1oQlQ1+PL4Ex43s/H6SOT/0EAMy0Vsm\n",
       "1VWwDzQXo0mLsPBu54Ua+hJAGXHq/JIQOWKO3hd7QTrLJDjbP4OJHkWt1ui9RteC21m/j7ycE+zK\n",
       "sJYj/WSECmHH8e6zc6HuP9/Z9n6cS4C/LDK6WL27RB4q8t+4q26IZjvSKzS9dMKwu4F0PdYesKax\n",
       "KgReQ0z1i5fbTwQHdu/eBd0zeMR0mumZZDVSgUCcyGcQvEdCog7+jkjX0J20XH9Zewtt7Zz445E0\n",
       "oGh6LX/8pV9yTkDEbSo6PFrPZoPjFUbZi5Jx+vWI5lEBOXzrlyR6hVq57g8OZ2eyH/LtyZ35Tuea\n",
       "BqM2jO1SYcSKjU2OkiTZEJG93mHCjeLsxaqWqjhqEBOdr585pbQAZbrTglm4a4wE+yBxoDXLzoAc\n",
       "542C+I186Doj9QA35ziQmAhoE0buWXahQmgL7OawbvZb/LWqDXMsOXiH9eLV6FFskgfgHKHct2aR\n",
       "rX1KJeCk7Kxpw4iqLE6ss6GVm7ZP4bQq/nhSH++i3++k0X0SG8zdM5L+czptcshKKi7F0Gd1yvY1\n",
       "XAIr4FwUNgwPbe1hf8LWQJGtpRLxmOZ08IItG5HIYrohUh5QY6uyVso9IP5nci6rDrv86d+B4qIy\n",
       "esjSpJWQ+YwwHTtaJ3l7xtLTt08ZagD93WmEfjfztK4imw+xOjXfb1EKMJYNhCP1Cu2dB9SK02An\n",
       "GBEJ980/tN3RQEKPdsImE18SEq6RaUgH7dXZ0ZG2hrx9m0tt285vC7oKy4lcfjEwIDLPacJCAO20\n",
       "CRPi7YO971y/dHzbeJlfbdtoWStY4DFZESNs8P8beaSlhmAypDL1I93ie68m9YNTq4Pmn3R2cTyH\n",
       "OZ7nBPaLAqtk261FW080OUiZu/j7H4nb3NLW6bmOgqsKElphpteQLYLdShHs2dZJyshM/M+x2vlq\n",
       "MBuxLxx0vVcHLtjygkLu7rNEJ/hpM5AZWeRCm8P3hZJQNXbVNqdyOls2S2fFMLtcbAvzMNJsiNYg\n",
       "HQ7ras4kG6mORj5q1x5clWHWgS6tOVlO0Khr3eoDEjg17XAGGq4ZwP4w6phhAYY7eCfsWmQuxrRv\n",
       "hSsw+ZmrMu0v6ap0IEojR3LpJTLTB017qdxYDZtvYbQlFL/MNhGA2nlQwdkHRBZ5yn6b0q5ACzJO\n",
       "aHOEwifjIsn7kacZckdk8y053vupKbMY5A8FA6Ny3VVcFwvnc3usIRrPmGH5ZMDx4txzh6PKJb7g\n",
       "A+1K3ZS7zJNxj+UKWaDM2/zNoHXNRo3CHxKRI0mf3RlAGoDuG4JzpvwT9xwIQdILqCNF/NgTrFr8\n",
       "OGR3/FpYLECN5oHrnfCbYRMHOq431rC2AN/oBNGv7+I+GK85tSv4ghr0EzBtJcawcO1aiS1ksIP3\n",
       "ndpIEylD7YEQDXx/+ePt3dD9f6aUXM+5au5UizQIlTijRh5PSqbHPJ0rlItK70MYUkp+eeMtjXH8\n",
       "oU8RML9aLxW5xNCuydNZ6dscy2/0J/noXzis/54eJ8n/bVL4ciU68ThVgXBAKSBeDuZ0FmODtCHz\n",
       "wIcGNwqPh4a5AU1GXUEdpCyAHfELbmXpYjf9xWu81BHDMrxHT23ItPUtkLF2bCCZT+leZUTIbtW6\n",
       "+Ndk3hhO0JV03DmHPNq5R1upWVanqIH3snR44Ez8Du5keHeE0BBIUyDczNWRtsaEMndw7RmhKsmr\n",
       "MqmB3NOdklKXONWpEG6GMjd5DLOUwxN+Q/g6sIWJM1PP9ou+BsrbiyyotHoSJ+zQYKugiG2DLcU0\n",
       "PMLwV4FXkCZqJ0pNtDLQGCWALQyqzdhqHUCW8GglB4ZQPUuPsesoOdI9J/FyPX1A5JOKGR7t0F/J\n",
       "6CQm3vx1AxNkjKt7r/5pHyplFXWmVBgHulNnJJhEjcH1FDWSBX0dXJJVcBcM7IovE8TZ388AbvMS\n",
       "gr7kbU080O8LGBbJR53XY6Sxs4CoO+r3fVF9pecK1cE4nZfif6QQI+Ot8hoeUKLKeHwYni5Ig7iF\n",
       "ISVSJmf5lpH7yEO/xb4gPa+K037QQFV7eXLuVPh4gUEI8fXJiN013MuWIvt5EUGCfPmRZRdgbdRa\n",
       "jO3JOeEzWP69GpS0/5CqD3fupmhc1EggJ/xJB/+du2uhyCAi62lYrn8bB7TD5U2Ap+o/iJucTRJy\n",
       "e1va2+rVkCW+e5ZLOnW2L3rg5Vo8qyuUQU4XDnp1IT052tiCxADP2Kw6hDUwbpLEdQPyYMimS7AQ\n",
       "4p3JkWaETjOQ+I6IrwSd+3iH4pYx1GX6Qh780q1aKrbVYnUOHEh5U9jQGgrf3PKsF+I1ebaz7Mi7\n",
       "ixWylyQG/xXA3m5u/byX/zJbEMkLpKlRQlcrizbJjhdYuzAwj8EQfK0XjwaCyHEa9Nn1QXGmpRPT\n",
       "WPVYJOoTXQJj5xUD4UY+gnrOIwFPtVnn3zh4T0K39xBgQHD/WqNxcTYsYcf3WUFs441DbWXcCPDi\n",
       "DGAEsDa6br1iimfOA0Z3UodukAjiCvz2EOIAYnozfgGep1rfbLo9G3ILiMtfsk8gW+LWThpi1JEA\n",
       "Ie7GknVcr+J7FRsr45vKcq06R+UuPPDVw8bpTpMZ+2mYFW+tkv89jt2C7WM4kXE/bC9cSgm0MdF7\n",
       "bcAc3DEbhk+bPvIuBctVsgLDoT9k63TpU1P7GoLEIiLTaYGD/RIeANYE01WUB0+e+f7QL/qYujAG\n",
       "X8BmbqofRtNKoomo07zyUegkV/BlqZKiJ8IIXl6ENH5Yr3ZhSYdr0WdUnBSH+KzsUrkcDOv6rTPf\n",
       "ANg4Y0FBv6tTjdAeqTjnyydKw7FcHXcmBzDfVrqeWXuQzfBF3oCtXWiPUM2HZziwj7b4xT6iRYgY\n",
       "kfiuDxB+D9NDdhmDXdSHKFy5h1VwYHwQ89ecxL1O4AJvnSKRzOPHXs6nXSP4jBtlLYPWBu94+G4C\n",
       "7LQWc6Xs7H8YzapTiK45+4lpKzQ3lSq5jegAHyf0SMYwBo9q78jw1nr41i0DXOwLnqYh3BC/ppBZ\n",
       "/5ZHXT4dim0QhdfkSXt4pY2m1DBzxYzrMsr11XGuZUs116/J1QiWLF4rUagHKYW7ceJ0GYpjz6ua\n",
       "lpG1UQYIQr2KYRNSWw3moOaf1bykgpLa8i0ZM2BOztiFio53u8Syp5o3BOGKXbpXRt9q2cgW13bm\n",
       "wOGpgWDj2xuKZaPBk6syF2QDO4M8uTR6qZ9QtwPId9iCPmFzrcE4bIkt76w0VuEdWu8O+Nl1PrsQ\n",
       "ubN1WSrlqSoLBEmFvi6rnWWG2bCcieRJemvkFWTopzQQXAhpBFynUB3w9hi7pkCaYToQBEvNrpfq\n",
       "+IM5R5AbvsCGkHZhsznjpAjAX4PJeOpZ5NiHDhkvjf2+tAuACRqbnGbCoVfis56UnQUs495eRU18\n",
       "XGIWrvnPYxLQNPdZcFJ0MdcnW574AfGOPvPP+qRytDwKBkvQNZMG39ehxnIDTgoPCzaHMbQ0lhtR\n",
       "dFw/L8WOuQl7T01+N7eLoRqvkFbvky+LDqZUURA2sM9pTDMvOVV2UXeXhQfMbmLVU2dUTZB7mVWu\n",
       "3jmSyxAJSezsKqYMg4wP/MQP/fW+eX+VN25ZXHD9QeEPHKyiYXEQwVEDJCAzwFcGX7uD8yAsisu9\n",
       "hM37+Pw+MSQRotFUi3qNTjtcF8kXPBqCnc7MHQMF0TIPX16if6lW2/CSnCz3VClEA0ccmub8ZceD\n",
       "bSN40uMxc5OLDHwJHoZXd+0JIpTxUeAsX2yKt/ri61zWHcZilj9qjurr+LU0EFAS2D9vOyPmHj+h\n",
       "KJqw9UPmZzWWqL+WguBn+awuEluawSsdPO6Afza0Hq3/ujkniLOiAB9RqzC8HdCGBiLxaRYM2Zu5\n",
       "QXSdsgNbRFV0Gj8tvCjkvNyeJdxoS5mxqSO7MelnUDqdVVgCcyzIa89izq9Ut+ftI1YIg/tcLGta\n",
       "5mb/yhTpuZBauc6I0M4fXHd8Cl+UUqbGzkxmE6mHTocwNT1xnU/oUqzi5YXDIpW07dYRaPwUYIXk\n",
       "L7GmtGYMLFtQvnXjYDzq3FAM82Dylr+7YkthykO8bi7IfhwsW0cySCMVf7xCrA/I/8X5qwtfJyUP\n",
       "P1Ssf3uLG+UwJVpxt98buSO32lTzMMSeymxlrjTedwY7CtaSuPovpLsErcJX6OFZNwdo9mTqdlYs\n",
       "yRxN5IGnlu0RVfrDko2MPuM21cETg6EnRTo8AFIsW7xdqnTyZOyvd3MwMv5DtPTuZJo6XMzJOM3P\n",
       "vA+oRlPwm0y1QcAbQT716F74NFFNnA1F5udD3aHZsN/eP439koSYrxWgOgILaUagtOrrIk4OvXqZ\n",
       "ebICZul27M82sP3GI3QTwtZJ6Q1hj4W+NZvVPBQ7WulnDIa5zI/21fzOYXj0xSsKU9U0Kho/+zkA\n",
       "m7YzwSLFHSmsIOIo23hsIoNvRShOieeDJTGSOf9bLHTk5JcEatcvuRoWY69CNc94PMu45uRxQPci\n",
       "JQ4jcly4y2YrYcispgBuKkoBTmM2MVkIDQ7v3rzyRthZ9zhnQCSZRXETV+V4p5wR9l+cMM6asiUU\n",
       "keSAvJoJAmjio9Fst/Qbh+E7om0KGXG/5JzlU8jTLf5F8mf5g53reA5qoYri+f+itt2fKwvMVqAl\n",
       "pLcGrkWbkYWtU7QXlJZmuqbcPmbuNRS6wN/L5VTpUYtC0hgnYRCQFDHp6G+nAlF1nbBEw68Hb8y0\n",
       "57bWgksZBPDh3Xqu/xcYSxjQ1/gh/7lhKXKzlhGlICzeUM/YA2fyYY5aj23NHcWf5ZcZgtNle3O2\n",
       "/tJ/1KJ9uOHa1qRWTO3I0VWidOFKF8Lmj4yaeJ2qtOptlH/iztHpm7xif7sDe5/bgGXoKFZogQ3+\n",
       "LhneFq2C3WqyZMPLbsgKD/0FVPbqHWRUGJLyxiCCVeGPwQEIWirt9ui3NvB80OmT7qG9KwpN9aeJ\n",
       "am3GEYd6PxePBvpzZD2QzXmlF8x2CclxC7Ttch8Ga2bkmkgPPer36nmrHun95Dl6O/R6wop8bsTh\n",
       "Oy2vZ/3Q2ogcMI5SrZW1uY387yXEPF0Vn9mtNwm7HutUTJhFL0QGP9ntRwh8Q1ibS+nTyJDjc0w6\n",
       "GLK5BtkWBVpf/Q0lIaUjuTgHEFyb65OeNQw8pkdnmzmvYgcCbZU8zB749mUFHE9nGdVg/R79gZZO\n",
       "DWD0FlwLQdoXOMRXzXNN0bVpVBQ5Ie62hzt9J8EO0Kqx0bSxh557BIorkmNjhygNUFOHC6u4tHCn\n",
       "fI/MJYfhCnC/9FisVojQZ8Fq+Nsx8h7QMH8636JXRfxQY1M+FCHZ7w8bG1z5iXmhzq81VXz31mLW\n",
       "D0eTViydD6VF4bIkSbcStxmH/zcsajI/uzFWPuwMLJZy2NFsJZdSTHSlJhvjZojr+co2adQVx7NZ\n",
       "kXfXjavXl5q05qQ2mM0+yjaquN3EsZLstqClOosF2l0jCdSI5/e9gVNXN0yUQEYYSg945Q8fRicQ\n",
       "gDawlljRDT+wWyEq7VywDz0mmNAJszSI79hC/vdALdY+/1TeozCI1BggSnPBGWnWybONDeQxIA4y\n",
       "4SE5iT+EaCjNabvSosFeMNuO5ZVP3Kouap9SfsVLgi9fV2HLcxzgrnepGX3O77jg0oOM/jXd6xa2\n",
       "bo5mhuPpYgWATd2HsRlvcDLTt77AMLW2ItAVjSXD1ZM4TOi7AAgjl2Stl9nFr67hWtKaITsZyLSL\n",
       "EjgGcWF9c2yGHj48JA7TbQPzhne9qwBMjzW25lb6zbiQTqpkIRjexzdXFMD01sB9ccgSgl0Hb51/\n",
       "NY1lxxg+PcFYf/1919XdGQ/RZKTkDcgJ8CNu5hIQU08FR7MmQKdoFNtGs72UpwxC8wMKRE+16/hC\n",
       "nD85KtaYw31q8jY5uqj9ovCQcPSOmoDfS2WI9R8/aT9rlGSI3xPKF6KiWwbh2AMfcDD1SH9aZbxn\n",
       "Vdf2Ouio7rvN5OdNhVToN7vYx2I1Z9ckpxooM+eH+2jkWeHd6OdkKSoWxcYhxKTqhIIaxdTAk7EP\n",
       "ap9qYPbOJ71rnYzaq1nK5x3894Ihe/1JSWbY9aGmuo78CcSmD57CkEfynXoNGXILX5PGxr941cJf\n",
       "ihzblwD7xwUuBQZ9X0BPvjMDDbupaeyR2EuOsFZsG75g3TcSvKQbo0CQhFvEnqh19862OxzlUpA0\n",
       "FIVQ+jNJE3C8erfabraNMntYprPMF8oKM1GAmmOcQzSj+z9FGRSNgcsK38Ovv2Do8TLm2EWo0dYI\n",
       "ZjcC5AKCnIm6xDRVeJB8gxfmHz/cImfJ3DcLgycXas9+VBBNR8JD1LIqfYTHk8M6c9SnoQzSQU+h\n",
       "tGfL/haX3Zqfot6wRuzDCvE8np0gwCZ7LmaPx9kib6ijdlL04h9dtnxhirDund/BGG6z/kkfMpIH\n",
       "hv+zJMhu/wH+BigRMsLbcCASY+FFxinYvDLUY/ExiuCcW+vbCqejXX7V6EyaXIQyXFsoFEj/pzJI\n",
       "ViqP+yS4U0RMBVojtB8V+Xa2Lqt2th82hgTqy/VcQTB7ARwe4+pqXbH9yN5GEnx5Wkanw/Tssclo\n",
       "aUDSpVHNeEe6OuGcmlp3mQaTplIn0cnEASRGq/uTFH+ndq+3oUT0zyd9l87qEVLDx4MDiTxH4oqU\n",
       "0CGSn6v2tGOooYH/MVVF7N2GCGPBF64WHcwE7ON8moTcYnGVqZdIppXA0mtpBQwKeukzBo25VuN9\n",
       "RAYzgdCDcnYx/UPjc/xS/YpBtYTPs9v9R31iHjV1VkOdqbkJBqHoT7D/eXTr7CbmHRPR8feBwCBq\n",
       "TQgn8x5vNY5/Alvn+esyiU3u5RzpK+WzNLAkeTMqnL7AWQEqJFFkCEosZnUr6LA80ecLduP7dhD9\n",
       "3pOUP2RaiSHe6MDS7H7WsFRE6KY6VlgoRtLkmJf+sYehxC6JsgJ05KlZ9JhPSw9IkFKOfPfzZovF\n",
       "ao3aASnVXgcssvR6HQm1Duk65eA8PTpxfdfeaPuRC9FgTbRHNmMtRgLrqCfy6ZuPkGGqaRV6RH9Z\n",
       "nE9O97MQalOB9FzIeKth3GHoZWcZwtV9bY4Imts7OusJB5+iuvXPINxVRkwCfhVUR9SOur8utZI2\n",
       "0E5M/xss1js0z5/8u9F18NM3vVSI/rUJ/UvkMjgwHmr+lIiqbbzryLSIy9RkuoqMgx+4ILgQ4m6v\n",
       "Hb9BLBt8+KLCImOCL16k1lq6nmtm7pUsbeQIuCaspCGgYYtgoFB8fSIiWInBc+lsEpl4YBVe4eB0\n",
       "2X66uWMmj63RzP4YSoa7ub6vItJqHni6eqlMro8cn3V0u5RqvOsu6D+TvrGoly6skDTsbSQ3M9fC\n",
       "hHnCCE/BFSQiA5zdxaC1SrkxodEcn8jdbNwZkC7/iCZcs7+6iV0hYa/aPLr7i1Z/2Qdwzp8tHqYG\n",
       "pNWhCCrKTnWAGJKdXZVyGlQ6bK4WWOCjTZP2digWVUfOIm18ztHosYGXSZonSNpWl703I0GuQ1qQ\n",
       "Z0KSIUYx5SdZd4+/82oItHGtn83Rv+fZ9s21OrXQt3tUgq7AM6HUMyOgG68TlUzyRVVPZxiWe9mr\n",
       "KMwgh/jjrvOmAfpDPKSh8PipvyYDY/XxLb1RhTDyIdEbtQKhdMVKnZU4FmQMLeceIbqnzb2H10+Z\n",
       "wUxdQkdVwfjR22J5qRchy4agIpgcY4O2/gMZ4QK3r4vS1ztA3COsRH7ZhNMI/CJr7Xs1CBNshnlo\n",
       "OW+5AfysCucEatbgKgUxDdCWFieoA4wkOwAaRLgPF5oPptmEj5qI8hxuVYxVHMiheR1TS/Sh9fgg\n",
       "H5o7U25jVkbwI54SRc9NdIff2/HqWPBp8zaqKJ3RMrsJt1Vl7OrlBiT+bwS+f7J34HHUvj3bh6wn\n",
       "1IoUqryPBk9yoNda3KeoRv1ZmB0YIGlGqBE6VUFigO2GjYloNkhoVAnbQudjgjt70e3CP9IR/9Lg\n",
       "xZBDRIgTLp1TE5iRjB9z1gjGBTRfHZoGbGGCk8NhjJohh0bPqc98HL7/RGsmt5BCSb0j7xIRQtxP\n",
       "vL1XCz0FroH5YTTG9Q7d+K3nWA4VIpVOk2iWKFjjd3iwpQmrmxlVtvkGOX9j5iiFQ+8KmW0antr6\n",
       "f75aDXnZfYqZt9o7MSzHqaUIRQcfXl/AeEtv+Ib7A66qKgxC3+1Wbivhmpszvhc/ArqdE0QkofxP\n",
       "oN8pPEcVpYbHrbZRKbrqs3dKqu22krOlOPyq9NF6Cy3AmBdgluhDydmMAbmZS69dXWlxdgxc3JJ3\n",
       "YDoWUyAPrJcroBR1D/LnmZAQ0si2S3D1LDLMNhgkSB32ZCe5sZykzxTjpRd1NS8M3N3jP0fMKv4e\n",
       "eHxO6MCdMIE/CqnhzeTsvp3jCGlNhGgfZ1I1/nwNErDpyhkzMSbOqDe7UjTIzDaat8VSHnD3omlE\n",
       "+0OP2MYpz6fpAOnDWkUIIwfFnbdSLv/5UGNALU1FMd72SKbq8aszsEdHCq9G0JjZwPhSU0oqzrFN\n",
       "VWdcVJM+lYm40XWd+1OrYJWYmvYBwkrewISxu5J+eCJMeI9Wp2TUxzQ9dX7GdVpIyOFB/DYA8eYA\n",
       "qOqO+a/3v7yJbh5oT9z9cwLNOSCvkrvMob7NM22Ud3aT3ZvWTVxaKEBs1qoGRAGmABQbU/ktaPPc\n",
       "tKRfl6oSPmWlFPkog1M9FGhu70W2JsBerKqns6Z8G2XmPegSqEK5puQ3Fy+5gEq8/yEkbxl47uO5\n",
       "3QZJ+bGsEaDD7csL/82yjhdwqd5LldeikNciRahPmWDQUNIBqMDUel/U+ralGrbBZ4I+R3VWgFDA\n",
       "9HzOJ6ev4KaoMSEk/xWm9W4tNCoi057KyEIxBuNHTHOkK16Ho1Xc3o90h/JjaZzELYqDOdrPM5dn\n",
       "p4QzVkp6rAX+9TDFKZIYcwyDEv7ibKVzl8iGtRioAy/X2C4WAO+tslP2qg1z3Da3Tiy60Em+48+k\n",
       "J4j4rgWMU0L40NA5TdjHpYgpk6GxBmK6uBOpOqdVT3xGv39+uG/uF1Hy260lH//8fWmTt318jVoM\n",
       "i3MA2idxadIA+dMXGbH8HeFg3KcuCPa6zrtGglhJNPEXci/957Rm37O79FLSLqclzM6OAHRlk6hi\n",
       "tZgQ7TgAEQy2hKZrw3IF2PDW36OX+lW5vhjTwXCpUx90B0cZpC/14PDgJGX50Ts097KNQHL93DtK\n",
       "VuIPWGwJs/qzHgmS9K671rmIDHGrzf6hQx7xuFr2DKjwJuWog3RlkKqpu6aWCc1HgL7nH4yWeMxN\n",
       "bw8OoGFP/bnD5C8Oa4q4MltiGzJq+zdww2kQf86wRRR/i7tV4viLpBZUdqEaQV/XQ/Gindnfmxyf\n",
       "fv1MQgwTAdHTVV+KRDOjzfBIlFNcT+WnA22foDj2mTFodPHcb/EQWCflFy/4Tr5qRSHuY9t2ZpGH\n",
       "C+oCehyuI6r4npvvSqX0ns3KYaT8XPQ+ZqIYCuQZhW/O7R3IFGGIaQUOqFLxq6QcJJVrW3UJ3PXv\n",
       "q4IFkXdf8NqHEismkNIIsGmQdIoKobEMAadGz1M43ojKKZ6z8o8v31B5PoGenl02gYQfgJWNrlAu\n",
       "vzhZOC2amteXKQBJr8HJ25lETGqGsJHtk3OH2VLAX5myFxP3rbHE+Pzxl+8t2M3BMsoFSxzH6bd5\n",
       "rScgwAGlVK6mzavNptqbZx2J4bQM550YiC9VR9JEaoHfXxT7dpunc0An0C14TujhrE8RPEAwjNz+\n",
       "5gQqPiKa18dfdvawTlb+aqKVsKkOsqOm2cLAkIMEUXldyGFCZrE9SAsSHk8VpcwFiqVlM85iTCJw\n",
       "OMzK9jWgZDwhrrtTYLT7zkqAfizFJVGV5lk8jYwchnMrc4bW08THNe7P30TXGxDgcjr23SWANJ0a\n",
       "rtrfOrSZ6aOD0rqga/cDZzf37vDjQ6o3v3dD8k/05UGfHLb/cp85T940dFrc3Bxee6CBEYnWAKk1\n",
       "C5NJRuOpeQl/MazeHyHTHs/9/35q8fj7yE/QU/sIC69gPo9UPmWlKgk45EWdi0+g8JDOdCHpVDTv\n",
       "Wm7hpDhti/uP+TE1PSpM24yykPUTthnHEzmo0n6pat/kl/m6+gAiMYv91MlUu+gK5CY9iioxlBIF\n",
       "objsMr7lL/Wfx9wCpKGR9xFaZMME3CgD8oHkLjvh6OvZ6WpDgMO2yO7/HR+6UXiKMnV/a3nmmlGP\n",
       "HqhWE/NkaHzwtASBQYQErDKpbBBgPjFBS5vJKRQNG+xVVHaeLwLhQjSYAcQqgt4y5vkXjEryPHT7\n",
       "sR+LVAKVVJm2XCeMfNo2WPZWD5tN11Yr827TQw1dbwbSjTCQZtKdsM2VicKCwRiBiudQ4Wvtpo0t\n",
       "+s0tnaVabr4pb9ubgZxYtvlYBGa1M5mXRFPuCghXOZhTLBvfESLrKfo74ymYRvQyEa84qpRP5Roe\n",
       "qzd+OnCDkc1xH8cL1IQ0SU8suiOm+gVn8nxqFRlkocfU0U1/xhIdm2FD0fWAYyGoCiyjsR3/mHtk\n",
       "OWxjLBb82rnyO80+zR2hw4AaV1HkfpPLF6UeJBh3JWfmYvQIfy6+OvTEbTHnIv8hw/qOF08SwE4b\n",
       "Mp9sXb7XTKvD3EcLKNu3sEVuZxrNXqRJ1ynYE663EPu7slf+FPWdIYh+tFnLXEpJlhSlVDTS9SxE\n",
       "zffg636KEU0rckkSRQVVoIHZm+rPuYId7GyhTrQ8+BXamkYbucLC9VN4DRBZrs+D+b/tkDdaxmIA\n",
       "zdHVd9VjAc0Zaz5CugmCkN8ggkcBaiBotILpQeK9qlggQptTqkrrvEWZHL6X6JFRBkEcSvo8BXVQ\n",
       "zf+CDlQrBGK6Zh2Q8Lee5VeoaKSIo0aiycLlbwgCBEcpl6Q/QoT3VQOaJnyI29/ClEVLGzQSobak\n",
       "fA/z47bf44Sub8EUTaF1e8A4NA4m9cx1HwqLX/ALLG5DZ1A2xCyD4SDYhNx89TQSiosx5By6h/YJ\n",
       "v1RXpAGjSwX6cE3RS6PVxrMiI68htyuKMXCEnfmg3d9+c7MHX6gRAAEk/5Ax2shdJLR1h9Ze07bS\n",
       "Spq1B56VRhlscZlN4Rb/eBaVVEb5Jd9Ig3nAuHimO6cgv4AGaNhhpmxXwk39I0m/Aq7JSS+Y0Mq0\n",
       "peuWWN/b35FTdO3Ln65x4fDWNqSqy265pA6dZkaQnR/xEBfWj1nMxmK0JG3705V9V5agLUZgzvZT\n",
       "GiAkhcy2lNe/59cGGDkJObr6ew/GpSu5s/ElPWv9rA9GasmWXjl9DNRAev4tMFrEq9Vn1qTc7qXh\n",
       "Pqpkl6RjkMAL6iTLn1OlALC7ivgdKn7llIf3Oi+83NuvdyC7EJb84JrSyaZJFWNa6/D83fYwWDsR\n",
       "WYpc1sCjdb6jRGkOoNELnqL9a6u/XfCP0nTJGPioWDkq/dlKSVE7WhpovUEu23syPmKa34ADuSu9\n",
       "+ElMnYAEf0ZXSsaTfX27HCtMhOqQuDbwWtaesiyzwvcIx+f1ZRLek6z8EbrE/TmQzUC/JMqaitgn\n",
       "WdDuK1mpoVJUYjgJB4pDUT1ntMcZHc2f/6LItsj9S9mkhPHb9Kyh+8xBSWOY8wlviknim0YKrq7q\n",
       "54TJEACNoHdpIRNflJ+vwUUU0GKA/dSxa1L0ZIJ5hmlIHTCtaMS4Mt/6KoBQud5vVYV64bHjvguZ\n",
       "sCt4HutCzB5YXKK7oB+8bUPzCr5x8URjEs6RbukTh8jYZ8qPCiHTUFEMXcI2+1qy+7LhGfboOWwA\n",
       "9lvQE8cyFG20by6xS5f5AtkFv78Ti65QDQ4DVBZ7dKA5fRDyAQEK2789qOw/7ghcR8WzmwRRi3d1\n",
       "Npm7zaK/tW4MsPZvnnWEVv2SY6YDHgmk1qBhBDSjJRzoUwHIjTtqiVwqnGKTz8KCWSkACH1e0CId\n",
       "pSkQmdVi0gk68YOo32tYDIPCsDx4eKYtx37IXbHt0kA8UeFNZhN68fg9yO9vzqERNfsh8KK+QSDu\n",
       "3pQDUumyFUxj6sryNqsHJKsMt5p3v9QqgC0XQ1sjdSYaXx3/+UtSB1BGKq3h/y1ZhRTMbv6lgjhZ\n",
       "WJvB4CiX0ZKnZ6l7FMdqPAzFod3ML9dZlZletrKeLaW+TA90ltlShJ5cKQKB++Qze8AJjoBp7JCn\n",
       "++1hTf+x7loKPMKVRhkaZ4wkTWEYJJPIzFXKoqmRqobrrlCq7RnLU0v1xrTGdhkP2JGIlBQDskzJ\n",
       "fHqTfUL3rXWVtZ/R+EqMcHhCU8gTwXgaeVqEA1Rmtb135m9H/f0gA7x/Qqv16Pqujxb/pzMQEVFW\n",
       "s/VElPeJ3f2Ph6tZu+qXJmjF7nb8Qw0cX0DNImnR7KzU2vbZoKVie3Ss6Qo3W2EoYpgh4aIWusTc\n",
       "ukAx6/93uBPsnGPIovpossbwEASBUdjhPY9S89VX0DhSlgFa+oZ0Cy4qDIcOQu8WaDmV0nnvY0/c\n",
       "a5NXQk0XuLPvq1vvhC+mkCTNcv5INUyV83puDKVs1FkYCoct7BivX/Osx4obSfAj9bLSpwUUFo9/\n",
       "eqqaNC3U9C4WSWniMG2l1lB14hMSqlYNcy2dNaF1Qv3hql/UjeO5dIoCuSurmohYT/Mn+K88vx2k\n",
       "0O2guAj1yXhx6AvbG/zKLtIoe2+2ubWsjOLosl7M3FuxosxgaZyq1OlHybx/UzXAEuPknL5YXyv9\n",
       "bKkKZTKa9znziBieTdfke0v0baWEaD0ekG/c/vubKdjwu2hlhq1rHGLvfdytzivh6A6mvmLdMLMG\n",
       "Wo9PP+We9uah5IglL7saHfktlhEFwJLDKLdd5d0ZRcssLoAsyGRIDeJ3kk9G/BtWd4+HLodXtIMA\n",
       "Rib5kS3dMMoZy+Gn6qGmH04++N1w3Y4HdyyoxqLYA+WXOywruLq0pP5vwdX3uN4SuTRBFFoLRULe\n",
       "zbuwit8FrK/WIwIvAPKnv48gP5SvnXagqhihZKgCk6LDDwGMNxES/bej91MTDCMS6AqDSpWjpU7J\n",
       "hG9IldGFxENPUtz7EV58PIV6kX+NB6UBYZUqIq3VpmDW6DbAf1oqZeH6aiF442CN1gQAMjJI/yYS\n",
       "z4ENcPi0durPn3WfHj4MAaaPsjfnWlIO1X5eNemQefFMwAfCp5nGbXX2FIjTdjgv8wuvS5z/mO2l\n",
       "J16AdhBHqGPreqzr7xKMKv1ca3IYzyupFfY3QQnxJtuPjuD4gd60Q6GONq+jLDQ2SMkDB2jtfj12\n",
       "BANB7vdmzpFetqpxrtjPOh6ZJNSbOsrp7fXATLmKtxLOjgs2hoGJBpJq5s6M2xq2jUyzu+HiHsG3\n",
       "cjF/UZcIhaHWNv+SA84/APohqey2DFo1CN6gbwTFEVQ4yD6JnIM4NGDNxpoPUtK3AA/l+Os4N63h\n",
       "+/t3vESBWWbHHDo/+DbXj4ECcOIEZNfQjPaU1tZ8POk43tFkPOsWbwaRWtUcAVWe5eqmVVZP7RND\n",
       "UK06zC235zA1n1saSFbWAgGvMIK89eLylnLbzm9gL6+rtcX0XFybzXVLQYXiRaWha1vQKcTTeuV0\n",
       "IDEBQ2OFdoXp5TVnN/6IxJWEmJQWcfD0XpQEbX0HcB5Ugop7IM+C1YXZz/Mk/vLPuE0q5sWY7+1O\n",
       "OSeKmF/9N0v0Whq0wD62tVqye6f98spcOGwngy9EFjA2yDXeA6Ejfhgwec+lqS5KBOWaJ/Y955eK\n",
       "OnZ8JAp0ohFWOSUiq1HtB+l3yJpHegWLA4g8bqujxBW2oEC9cn6oQnUWLcJyxCX96E91SOgEVp67\n",
       "HH+OZd6zfc78BdQ4rjXooTTPx/xctCEd842DwufiRYn+KxTeoB7FSOB2iaDIX3fDzbccEhRMSRVP\n",
       "WIVBj88xj74yAu+xCyXPHyr9qKpwqSb9wWiVe3AjXYC1eo+pFKpccsxcHXW1LclxlPjwKrS9yt/U\n",
       "4EIX2DBStxr/j3LgAP11m8ecH/8vt/XYGO+2H7KPGEYHwPO4p+BkZd56hPnWaNwXx3/i08F1BFZz\n",
       "NWYv9BeVULJg00pRC8J77KxxzV8+qYrZF5MZti/jGJB3jzTUpOXhY1FOc4ulXsE0XiwzQoao56/H\n",
       "ZV8sJWN2cS/614xST7NM4JhcpNSjiSvTjnHKqRcsc53qZhQb3AsoP6urv9BaeSpna7J62SJrEPp7\n",
       "EFXL+CLghV91E06ShVc86iaGZEcTPBXSvaAVYx042ySmePV672vgXV8heYeo8c7Z+IaBCDHrJcRV\n",
       "e7e8GB24DImHytuBE/EOhP8eD3fSWK/MnuUqOxtmPwt2nbp5EPhX9JSFzHmfuZjyzTK1I1+wakWR\n",
       "FsCMh4PLAw7c8+vSHw5DyHqIcSIV0T+ndsCMMEJ/7PwQSEKf2M7k2ayfHIGLE7AEtricv7Vp5JmD\n",
       "a5KzmgZEHAkbl3APiJ1MRpBaY9KFWyGrS07nGXkkJrkzz2TGBaWPR9sRncNuTsY83kDRut3wGkQ2\n",
       "wMnLP3TyHtnbYGQ3Y2jJ1fAe81IVFZ94sZirf1HLUhXAnb6rK2PiZR0iz35gq9RcIG6NC3uFJJGn\n",
       "rhM0kHapk0bBV9Xhig6PNTVLCM1bWfBIOPddzmqMSTKFblyFS7FCQltaGQpFqVTKde7Nc7CRoCrJ\n",
       "FiTAGoYGzr0LrHttuhbmwFwVpPG+wQUDRIhyud8gt4JHfqrjXg+isDdWKA4dirD99GRy/3FPCY/O\n",
       "s9Rba94eZVZs5aroG7cJ2RSNdROjraNMYXyp030a+3D+7GWoIeG6+rXLHQRgUEKOOhxqfgNeWJMY\n",
       "CmzB/crB+349F2/oEhrkixxg9k+lrYLHwHSFtYimBZauCOByUXrvtS88RzELU+istaL26EmuK2gT\n",
       "+2Is4SsP740Bh/WoKeCuwLom4yA+zT6KQl5cDtF3NRWT8w977jdVK3QVj3KIZYdJOFTNldSUYZQL\n",
       "4rwV1C5/b8E1/ngRja8ljm20odd/YgLPvs1jIsnsQ9b+KtVlRoDNLSSdd60wmRxfY763VTqEpQdK\n",
       "y9QDY5zYZIzZmcNFeCyceDPhI3F9CvbUhi87yXXXheqaak+DFhL1LRAAQAX5U35CkhjMMcxfapVO\n",
       "GG9zCjfmQV9hY3zacqFk9Sa5CsaGlD3NgPtGuQoVZARslzqVt6dLJXDRoeTuyRyJ+XnozTSpNjoB\n",
       "kT8w6tHvhLIrOWVUh6Jrtaa+2Kxfqk3HRMjpTiC01UAC5ESUy8UCBJZ4kjPA1GwJ5JlpvxV+aqAL\n",
       "Vd1+d7JXZn8ntxxP/FVDaG+khufPpEet66+W/+FVOM80I7QtmZV+2Nx3ZtgjeFiNj2fAxAhgxdRu\n",
       "G4iVEZ7WeX/9aMW447W+Qgs9XDTlABmvcfCON0W4XPKSx/ctRAoUqAfXMWvIOWgIGlPyf05VSgMx\n",
       "x+LxJWcyIs3VgYJUVl1HTrm2hNLauXlcDaTCbpGVC63ZmK/vvCzu+V30as7hFiLeySUOpQ7CNzoS\n",
       "gYfmog/KieWG5dFqJdMvEIf0dA+MJFwwagdfCwrpImFFObTV6wxT2BvGuQERmStrWkv7k7ZvmLSr\n",
       "TbJaY7kO9tIEoIq2eJyQwibDeiWAY6cQenI0nWOZj3pfNwP9A+1AKfuhl6SWnqb3KG7tQbjeeXq5\n",
       "U6abMZtmmyqCnnt2fuhiR9v6/2kGXmZsu1KXFXXy4kwnK+cRVNuNQObhAHUQDvnK7Oz+OEVrUxAu\n",
       "fBU8JEzu8baiVAOlLh2ByaV+XzCOPIeWeWKnd7deAlic0IBl21vEqiz2RdgtT/8PgzUJUo9w9UIv\n",
       "mROAnmUJo2MzuStxPR7acw0GD85KuGQFbX9UJKRkzPZeHk/QCit2LEowfbTKnR1CRXPSgDXRwCaN\n",
       "vJ/S7970p7EJiZSH90CmA9xWay4xGKZEPYdL84FHtMFyFrrX+ky9MYwTkrzJxcXMAjzXodslVEEt\n",
       "OWt6Q3vOI/tUpNHPe1iOLPuOdFnjrHibSr6Oe7P88sb5fhbnqDjioyIBCTcdlGydDk7Qis2d9u5+\n",
       "42KSH2sK9VWOMVuCFPXF7cewPKT6SFRXr6fCwLV0JnUust/XcvPPru7N6JCp6AHQYlfbXc/jVRrY\n",
       "lYq8Yj8BDMQBQMfFEdbhHqLNRah3DDJHCU4gvxrHln6Q7MuOnfx6P+50RqqrUSu8w5t6vN0EeL2v\n",
       "7F7cS6rprg9ZPMwETHybwVaFk+AxVRuXuvT9z2hYLRH5GCrfJZCvIEY9YtIHM2qAXSiJT1qBR0/D\n",
       "M4lsTu+adnBWX1e9Oyp1O2KBMJHsHqduoFm+57cA9R2+pw0HDWOM+eW+2vu9/tl1Nb2F3y85CSCI\n",
       "PrdRgFELBO8OrhcmAgfeYuNZCtpGTIcfe3cMHHXszKLQfxJcswn/q5NZYVMFgMQCtQRJXAPKT9tu\n",
       "H4IsS2lYznvtJdqOfRQ5cYGQ2KHGIhfUIp1TtHgU+Zk7CDmZ1Gb9JUVWxcNakA5+08t/1X6WRa2L\n",
       "cn3jqjwi5W1MKn5WlKy1mffNn+Pv1PiqcipYvh+sjvWPWc8CBjLnNpKIM/ahH7FEG0CmOPHbLmv5\n",
       "XPCCuDhLUIFDzttLqWr9+9EDeq75WFgl2t4O0fHrxQ5QzfyGCngfEAbfbrgRizr67P4SKhZsl0cc\n",
       "nAW4ol0KZ+zd8kiCUZpfOCK0B0bovlDh6BhZ2T4oV5m2oP6GD2of7aZR2T3ykJlO5shyX3stf+K9\n",
       "djjNFRwY45VVIByC/NXSX3+FQ9WVtjFacKy1vcBtxe5YiukckWX3SdpVX3Ok7jZNdNmNXTrGjPDo\n",
       "juzS3l2Woj52lzdv52dIekF9CW3wuUqQXDO0q4XvCbOQ+px0a/3SUu2YQt2412tHDitTriwMRIWJ\n",
       "cEA+mu5k7OKyfleZk7DWduLXOK9DoGTgyCQf22iEqQegmQzdwumTxY+n/wop59Uzre004H/gwg6f\n",
       "vxi31nMIL+00eDxe+4/yQ8B6MtvBSZQ7otZwgpMX6u0eG/3vOmesUmYUUxkeomhL91NXFH4gxZcR\n",
       "lC2c5kRAoFAaJyUoxy4DNjxmkJ2QfyDgB60jN69neJaEoyEY/WBo8tZZbq8+cxEWjbuZQwEXQI64\n",
       "mC7FTypcd0xYIbUfESI2MU+GEKTAcL7Ih3mWDGZmp9jAXud/6QACmk3nQfvXTlyzRnGYD6mKu/3F\n",
       "lOh73CdWuv1J3EW90+Dyz08rtlNZC3VXyPHvlCGCqjJGElo1wUJZZkw7LtFH7XAAp16DpbfiGRuk\n",
       "u/EYJa224r8GttuxKoqA+I8Rvd8oVEa3p8lTUKkvj8eUi0Nexc6QoYDl5T8VRU+E5IljlIMGmwLq\n",
       "cRHkMzyklnT79uUvlGTm/dsOHMUmWU9Qk7fKLMPLYIj2g8FYFwZWBErX41+REicZz7QFLT77JYUk\n",
       "CRKRbnlEpqcuOWWTq2v24vZySG1td/sbMsknRZILWIoLpDBJ1lfjqy8Tu1YRy80M5NH16XGxEk9Q\n",
       "/GxevIvcB51pA3hOZcihCZ1MWk3kDjZ64B/IZyLS6qZBCY+r6UgypDtN0kxqrBoicwaH4anq9CIo\n",
       "UfEDMAXCpZPvjn3lyOyPmcKvWK4t+jn+0BofdMgTsgOD2FlOjMSKaPRa/dKfTIZfOsr+nVEARNMn\n",
       "G5+m/FR247ftRvlUlcQlrNR0WbdsIvq91hbUMWBOy6CXcnoO2Lwgz4YbHr4gVCoztfrJPEi9gGfA\n",
       "1WyuR40CxKqgBDMD7bbuCneq/TSt++NDDy3NeuoOmPvsYMl5oK4nzyhiMriNQa2fank4XH8vhqNM\n",
       "NAilkFQNL5DOVP6udpCcUkBzpf9EmMX7Le9V4rV8/t1DMulyH2KesrEkZJcCrOJwRnA/U9+V4/Kx\n",
       "v2UOW7hV0frCY95SvAeC7vGPnW1uLo446lluNZO3VtK13XTGkCXv8Gmv1VVlaA2Y3b69d/DESSMN\n",
       "EOt3O3AYtE2kRfufDE7EPl3QSUQzPk8ujo2tH9pzb7crljDH977ISnrIqcTrl2zYeXa/tvttM1CZ\n",
       "jEmSE89G8Biclo+8YeyST3CA6EKlwVpDShO8GV197+zVCYj240ZWJxPjn6dfHuP3plaoF2R9T5NX\n",
       "g4KxZsTnQXe9v/stWEEWJNk8wuY24nqWSB4YGNr9TUBo5IoVanLlkHiMGrrHZm6QbsheIG/+n1Ed\n",
       "WV+hP+C8dvb9wAGUlXheSr+Bl+HvbjnfCp7AzN37QaAcD6luvC5UKkIdTa4evAo8uLCfRjOqbHQj\n",
       "nFk7PpJ/2WDNxCan3iVuz48n5KbKaU9nnyWIqF6Bhb3whEzZe3/U7FWzpstWyJwY7jIDFEitkunJ\n",
       "IeQFEQywKxVYiDdh3rYyCB8h5/Q1J/LY5Z1d5bsI4kgx/sIsuc6qReD0hV9B8wXb8iwWUbBTkwt2\n",
       "yJWyHAsyJuwMoaUbzbT1qDnPiOY9FYs7qQ23WRPqXTN8PuoXK6lwCsAIlHFaooklfwniIoEJ008+\n",
       "8/nQfbvLZMb2Sd7QRzPBORrHPYtooVDKq0taeUZyG9//+AA5ykKYrUWHEq9e1SdKJSPu00zeo0ZZ\n",
       "VrHgK9IOMa9gko9OxtGK75rD0Rs/EjTcWXV5mtXSMI0FgopRtIQ+VqUCC7QdVdhO+bHfesvKyiTv\n",
       "I6YrT2RUAid2OCeKgnuepqfGGx06PAYupcErvTaFRBTr3LoSkjyt4euYRf0/RUI6/hzzoejVzNfi\n",
       "4iULbuQFbGipk5cJkIbt+wLzOPfQWLERAJ8o/ShprbSXPefjDU4MDEdqCjKyS8sREfYjGiALSV/2\n",
       "Ku/HX3IJI/dm+viGV1yWdTIZX/LF7D+ChzAbAkg/6DXst2PHUSOy0aEYP0Mah8GOfIWnSykCN+BH\n",
       "XMEtvhO+N7Ccfwu+iQUphjyJyVE4Pj8DvkoqIC/09/+K9kAkHKKC3Jjo6M1fPJjfE4wYnturI7Dp\n",
       "olViYTtREcxAnXMn1SLWlSn//h8JccxOrcMMLAejauAcVbRjznkARXoLXVaMEEHfkntmGvxVb27H\n",
       "HQKRL4cFygj7BG3HS1kZmN5tzRl6CRQ2Fk78UOIC8Go1iymf+L2vYVGO64bDtbY5d1H0RSeJGhvP\n",
       "zZG1zX5xOfT/8EShW4CwUdy9P7ENGraj+agbP4ntziQSXjQd8tpMu6S4+VbmXe1MJrbp0rOqbgH9\n",
       "/ZZ1Cj8p+mXEk6UUWJ5hn83TWSwK4PNuh11/8YAsAAADAADAgQAAAx9BmiRsQ//+qZYAADAY1mAz\n",
       "ShAYpK/SO336k0C9q4isjNokz10WgQduE/pLJiZM/vyR4Abh5aNc6gtbhoUDHoxSppFotG9Ii/tJ\n",
       "mUeXhwFN6uEKj8B3HurZ+sa/FVlAWsPXhz049zvE7nrTg2B9M9koI0WSAHrktnBgBe1mh1faOCnS\n",
       "oBteOV8LFshoHFdzCPsFkAO0O7wzQmcH+5zrptjqZrGaf0kDJi3ADSeNYtGdHFYBZRXokfKQpl9l\n",
       "8Ukw5yGuMuw+gjcW8vq4XgqD0GRdcj4Sfe0h8f4ruveP6iUcqEiIR/0rIK6hJTtyXI0nv3neDB+5\n",
       "jdMTgBGxA7IviVEEqOAaoG5ib2ljp1GKEtf6rUlLg8m3yk8QLS/rUjkpL3fX+WUZGRTbwlbCHNSf\n",
       "HNLSO1vDXjqJZV7SzJ+lR83U/Lp1kga8ytSiD/vSf8ZjjRA41ovVyV4V6+EjPbYPN5cGEW2W7f/i\n",
       "pG879GLS2qw5UZiQG0U77VD591pEF7/aLyKQrW3Iy0qq+v2oTQF9E4UGIMSeAaW7EtAx0GYGG4hM\n",
       "CuDEnSJGvUywIFBrxbMjj7JC4vpBf2wH2/S5woc8zR0EQp/qeV3NCNmGmrGzGvhLNp4WWIMe7FeB\n",
       "LQKVyvJHj/FhcN6QkKfefAACZGJTy4JxX1r8518XL88bVeogN1PCQhGvy3BEf+Yel4PJmYZAT3/w\n",
       "rbxrYxgGjmNWEsYhr7ajjVtUG6X86esaASSr/dZeA2FX/VSAleKhb2AdxaCt3Wj5P2kTIit9WV5d\n",
       "BTyYYXswfvTnocCDJeLwiwpcdDHoSlFyMrRCKK7LiBzTU1WIRxuA6K8SXpuL62b0EXKd20cyUsbY\n",
       "qmefu/GPpJ6TnKcu9Tt9xyl2mkrvOmZ/qPm34RfYuulWL/pfG1xluagswC3QpylzR7L8ua8W0TCq\n",
       "XJc0EklfxMsJnc6k7lEKkuc+i8qSZH12z1wIuX2OMxWhddkBdjIUL16YZKLW7Nz87BXRlRoRkmfT\n",
       "bMJjqkiXmmlZkuic9gJHBVfARuABBoftUqQlfS4I/qgx4oEqGqeLP+TAAAAAtkGeQniGfwAAKgob\n",
       "dGY/2EE2J7vhgKqIACNB0zBAsYpvxvcxaX11T/yJou29o5SePinjkddY3qa6WUs0rSXMcSgPRNJm\n",
       "Riyx9lsvblclHbUxyvOtmKGo2bNscm63MKkE9r+7+uWRREZztxHcT6F+fC2vBlp5ZUMsOGORYWnX\n",
       "EFCPckgHgeDFbZ4WBL4DFfBtP68TZmi4wUgZmxZKDCi047jonn2Cb67CVAjrwGS82Rdwq3dtIMCB\n",
       "AAAAawGeYXRCvwAATV0J9UiuWV26ZAAEIGl4G2qhYnmE4AHkEWxqgiTmtaTNl7I5aQQdcGjdF9U7\n",
       "x7mazWmzKHmXRe2NgIpJhp/nheAU4acQ1fSwsR7Nh+bJ8g53xRFVC7GDOdnRfN+fdB+IQKmAAAAA\n",
       "YAGeY2pCvwAACAwjRj9SfYlQAH0svI90vcmtqkWXwyW1fNb3BHvuYDfCfW/uz62lwVYI5xbYWi0L\n",
       "iWC6Axkzuogbrxxb+PmsOydt93W3k6HBViB4NO/+Pj7JKGzNIBONwQAAAj5BmmhJqEFomUwId//+\n",
       "qZYAABET7zzGA92fY8/XACWQ5of/hPmwzSZ2ddCe0RieOIBddI3FalcNVcScEAIQf1Oz/hqrLIcx\n",
       "mZnVDSDeUwUZ7gnKW8HOpsm7d9RJkr7xQPJMn+iByYierYkFOmu0YbhVoN+6tJQpJ2rmH2RComx6\n",
       "w32KyvArLFbmaqpLziCXOT2nkElLiiCd4oX4xDgxcIWMmSsLIWyRsaF8wbdIkf25V9QBBS6ZT/1X\n",
       "Otm6ibApVULaZIfN1Ux6LS9mosMh9fiq3JOBo3scM1AmfpHzSO6qKwehdEU6nAUSAcIKukwh8TLo\n",
       "ROJiQ0T6Pv5ALs5L6CsmwJpU0Lg8wc9e0LWhgkXXjuQnmpq9lyzroix3agC+y1+GGSxl2qW72Zd8\n",
       "D66yjDM3JnNCHbYeH5nADWb+OaUYgPcgrHbvNS5Np1L4szFC9WURQx7UNZs4mqFhVAixhexCo8fZ\n",
       "EXbVwzXIur9O382M0EguySIfa1YdBNFfNewYqaAdI5juD/vCGX2QQEat0mr/XOL9j7B/ySVnHdAQ\n",
       "B5ptNKfpG/0adow784Ad8Y45UfO07ZVgymM1fK1aZ9qXBdKtMAFEVOVooU8OfoFo+P2wUFUVGFVu\n",
       "+9zMNlmwpNVfH45dsmreU4z/Gd4ec8BiWezJAjMFf9a4ZKlqpiCd8YAzCcrkLYP6UxVrxiG1vhLh\n",
       "qskvbY0Z13Eenwak1eq93pWw/pzZydXjcYO8fkgLz8Wb/0p+FDSSM2cAg0/SsHHBAAAAzEGehkUR\n",
       "LDP/AAAEdtHYwtYAIXR/uXqblKnhABAQ/pbiAZxcRCL6IJ2+AVvQwWBiXxkAkF7ZIxvXr3sbyw+U\n",
       "zQ65mx3R1O7hhVe1pxEC2MwBra8yWaxqNcUlaC8DYtRDPnGqYzJ8obKKySx5CdLVOQgI+BRWBAtm\n",
       "A8CABsEVKJ5MDTChctWo19u3Q0s8OYlC2gPIH567pjeDypSVqXetTotyOFnSBCmvkUi+PStbp0x+\n",
       "ZKXR8YgX4r4cUes6ZTbANtFxNJe6rqPDzPLCwQAAAHIBnqV0Qr8AAAgwiqPUAH43/79yPoYYNK6a\n",
       "shPu7vvB62GsXj5CGVSGiWWX59oD95ImbO34Dyoxlp7yuCkXqjIRW5WfSekLNejnTdUXMP8Il210\n",
       "Ojd9IEBuXkAPBMibm/ftuAZKQ2X7bETJlBoPvpyNAxcAAAB0AZ6nakK/AAAIIZL5DUPmAFXiCEeQ\n",
       "d7JjhdEHPRTLREGGLGv1GrxI4cXGjlHBwpBsdr1vwT3fyrHbRf1cPjEXBgg9guR90TmAgBspK3yS\n",
       "h9Cl+E4LtfaLMCv/YqLuhHpOXN4K3+u2gxgUlev3o2w1AjB4HzAAAAHRQZqsSahBbJlMCHf//qmW\n",
       "AAAFLWA7wuXRwArMkO9yzof0TVuPO2PrUeqqVdGAMclfDFeiOUk7jm9nmKSjnwzeZYDZ+nvgHnLp\n",
       "GuhAGHj1m54GLFtFn49yO3MMa9giRwe8pRRp3LNWdor7924EfUeQTba/KBQPFRHIcQbhntBpDoUC\n",
       "9+VnFHGdK9nz8JkicmukNZMht/dIIUcIctcKHvP67i/T+HNtjaXfnrSF4k291yWrPtAdPMc5z0t5\n",
       "VO4lMjwMpassiJLboZcdvJyCHcXW027427mHbypWH449aWB0ct6r7FaUFzppfiS/V7tHd7VrdHDz\n",
       "hF6G9z8uCbxwFY1xj0+tFnRtmgBoRZ4AX+vFgA+nS6fri7Szw438dV+j2oKdh+bsd6h3BzzGzTXs\n",
       "co1Yu1SnL4L1sCh8DEKyCmcOA++3KNZGv4t6/J6jj/6RVd1wQfsqcKaNj6G2Jnl2TI1vu3i1E8xD\n",
       "YyOfcUW9ocgICbkwwO6EpRRRYemkovVvqUvSebAwkoh28j81Vsqbz9bf5BAjYbUSQQb3vyB03khB\n",
       "LbQf0oizf0s9Z4Qr8B7YiVfIGdzHb5aqN3tDfvFJ+nLR/2K9T82OdotRyNWI3PWJCBFwAAAAwUGe\n",
       "ykUVLDP/AAAEZx7tcBQbPWYAVd5aAU/00hjrRosOdNYhCWI+Hlp2xXPzqMyl5aAUHNjvCgheM6K9\n",
       "v1h3/fWUvmZ8FcxdwIXeDgoTfUBM58RVYAJfqwIyQfhe/WN9zBC/YnmQYO2OmTBEVOyi67pEr+Zg\n",
       "6Q2P8h2hn6wASw5B2GADKL95COUzGjizkq6AixJTa/HLsbWgLom4BzLgvlrjwln9aH86QTWNFWyl\n",
       "TckViiTkm/y6ry85j7h5KMiAd0EAAACBAZ7pdEK/AAAIJ0jvNoAK+TKS6g8zIuP93Pcriluiar7r\n",
       "41QSBj6zANz5Nn547xYOSGPa0oE5Gb8ilhylvodnvenQFfGLZExp5/nri4J4xqkEgXgXVR96vh7W\n",
       "1o5Y8QdMZ1eqJGhWQFmoNOLtvvI+h6Qt3dXCxBgzIT69jHduuEu4AAAAZgGe62pCvwAACCWDwWhA\n",
       "C0GrJIa/G8ELvzONmryGjTdXFi6/LjPY2/LNKPDk1rsxz2WuDb31s1AN4jzYEFzpQuqdhSnzO9q8\n",
       "+l6YFsw0KDppVCXjj6xA7iywjPqC6PZbnuDFD2ArYAAAAYBBmu5JqEFsmUwUTDv//qmWAAAFJ+En\n",
       "9wAkXwcgMCTNG5TQHJVfpQ0/txzVFEzvX16Arkoox01m3iCAmTN60JwaPsQ6cyTR33nGFAfui9bJ\n",
       "mbXJJxTUOR9vyfkoOL8b4q5iPcY/9yz3nydS55G/UhjXWsgWD3uO8oisHlZlqt/LLb0DejlwixFb\n",
       "vISAW1LXPecs7LkU+CPKMqblLTS/v9qPaGuT+NmDw81u626eEpI1Mvc1f8LFPDgQoMWxEANwzW5Q\n",
       "fT1ZacenjI19xlubrdgV0C0Sa9XeXpxJKLokBXVtq5/UE7+dqRYBrfi8Ka80+S/JEOB3d/JeyRo/\n",
       "ManSxMxyYbrQrU9JMIQR014z2eMZG36Y5OtFYLW+a8rkS5TjuQizNrw6ci7A+F5kkBgSInDAUQFf\n",
       "0WHcnIzqB1wJ9+uNSRoKW8P5DKQemUcyVmgAoZJ+amXEeU1FzLR1VQZ8pBxx+0EjWSn2kvxkVEGY\n",
       "dwz5o/auC7VVrl84dy8jbbMAB6UAAABoAZ8NakK/AAAIL1aYSAFgqbThfrOb0cW+bor/ppJ78DuJ\n",
       "BdD5Lh97QkEYrBqH6EZnacPqxTIZx8mwnnmM3WrvZPZfqrJ0s+9CxS3KM4L0k/lmDzsEZ4zyZUgP\n",
       "+mfoWlQ+7BEfe9MADPkAAAIZQZsSSeEKUmUwIb/+p4QAAApG2Ia6+0AZnAE1FMVfhL15vD6NH1lq\n",
       "D3aZsTtvCTyfExGdR/+aaN1aiTFnvem8eb2nP9+ZnfrCmT5waLshvoKbhw+Hg37eKxgiPZCSpSq5\n",
       "MwtLRGleMgkRFJtNjayyh2xpjbDl69zdC2pyrSNYLHuRqLxSFzyUPuT/hSegzlIDJti7kltinAWk\n",
       "3gK7FwkNQ5+Eg8ZiLcbImWdpZs1MTrZq88kM3kLV+M4xdZmwVoBGEascaTRPn0zX0jvj1IsNxgZE\n",
       "Ntx+ZoYzI2kKYwjQk1wmk3b63VhA7M2ymbTXicwjVN89iXr/6PwokeC3u573BAFNS3ldOcchNlxd\n",
       "0parRdc1TSFrrEZL1Bu3lv8WCyq2/G95JjETebOIFMWA3wlXBM5yLF894gsVoGH+k1ZQnyjl71X2\n",
       "whJObQQDuQbA0ZY1ta3ERiVm1/9h50uU15e5vOngLzPxaJN6QxoKqLqACqmn7U8sj1CbZhzEcGmF\n",
       "r7ChIrNip6O76CB0XUjSzO+155YDxJBncPQBapRJ0D/jPsozGH/rTPGZ6Bljjn3YqmPQjw4cREl1\n",
       "EO4VZ5HxV0wps5Aj3brmc9z9SXJ1spxkytg68rQ1ooiQGh6EkU7TPWyK7GMFQJUBiQkUn5ZA7o3b\n",
       "GabeULUQWM+mE3B8I4b2KMclgCDjsquMqG3ZyfoGBifTfmv6h6KAQAHpAAAAt0GfMEU0TDP/AAAE\n",
       "ebrgBa67OGM4L5zuaShWGMXgXTl/Fia5TP6oc8cvcBetmg+G+E5V0y6Q3pdThkRDcevNEQAy7cc5\n",
       "8hbyzeEB17cuhSNu70uHhf31KaqSGtIHSJqIg9qS1bjd2TS/QFxcBXowFiFcc/77qXuCkr7RKXIU\n",
       "8T1FBgnuKxPQfUVxmVBD/49VZi3+lbR1ykT+lHINx5rhENRPyle0vdxpokbjR8R4G2v/pgvRbpwX\n",
       "sAAAAHQBn090Qr8AAAgNem4co4ACpCVdw1/bCSlNJKX84BhyFD5rUzt/NuR8z0ajEA96FEa95b3+\n",
       "07rgWOqBPUyszD/xPmfYLYC/2M01NxHLZdM9GbkPHQBHPYLN+rssPtKCmRIYc6crfbnQuB4wBOZN\n",
       "AJ95Ai+pgAAAAHUBn1FqQr8AAAhzxEAVvzgWStk8099nAPrb0GjCVPURVq0Webr7looNRCcT3ELf\n",
       "HeLAhI0RTK1FNvtE3QraknVix+rjPcgs4cuD2CiQ8bRalvgn+rymeTTuKmp3Xys52zO6h4R39nAL\n",
       "PiprcSqWbPAX5pz/MKEAAAD+QZtTSahBaJlMCHf//qmWAAADAd1oPwiDgAQU8onV61ZrS49nBO94\n",
       "S+3Lg6U9bQt5myotiAAa7EeeH9oUPBa7KgGeBe82hdc7w38w1h43bOWe8DBI8/XnR2aYSpwc5Y8O\n",
       "9GwrOGndJQdqg46uAbZzHfIcUzOR0OHKPI5b23ulaaoJxfzrsdUanSYIOHyZfBIENIoVVHAlIOPG\n",
       "OiFdGmNp5AqogDNk8wuYWZ0TjkqZ5JeibIbJBIRVrCDtv19NtMDDPGNBEWTwJUXsH/J32sdrTDNy\n",
       "OdQ25b/3dymonAYQYF5/zEFYCa18wBt5UzFIAPCSej/93wRTSwAOh4AAKuAAAAF1QZt1SeEKUmUw\n",
       "URLDv/6plgAABMF9tAGvUoyr0yfXcXda4dkRgeSQdzCZQwChoIo97M2VXGxxoICevlKx6wbTWoVw\n",
       "k1QlFT/hoEbL6OUQmRYLSN3GRxEfQKfIgKVlgTSl9gXL4TGpDZndC3Ql0ZT7eb7hc51iVzEgkeqN\n",
       "/gZPdA7Aj3hjTNV4Qg/kJPX9R+356G3OAZbFDlto1vr27Fq+27yBUBzL7BS0YALzyz/c7m17J0Nj\n",
       "L+3qnpcrz/EBXBglw6/QHQrI2Aei7wDxqS/FjRTaLpW6mHIAggqscKAK5kPOsw8zkAipfOgPffui\n",
       "yv0/eXv3MySnLgKyCxkLIwZCw2xjTnjLVaPzLEO5yAEjiuFij4r2PN8mvcE8Kauck6i6QcEQAJzy\n",
       "DXiaz+ggXBlGvdIH+WVJSqJkLErcDL6hTnvIz9sGxLCMgj+oFWTGoG6FEtt0se8J9VUN7QmLOHEF\n",
       "EERUtdaMXPRKw7vWqlT9wdyJKABgQAAAAFYBn5RqQr8AAAMDEJlpRgBbrfcxCA5pGgQmu+EjQMdN\n",
       "Um0+engeiuebbMOHdEAM91EOYBRjB+wlXAk7hl+bLqxZzBC9+ZGJkK/5EqQo8vVn4p8xuAACVwAA\n",
       "AbNBm5dJ4Q6JlMFEw7/+qZYAAATg2moS/w0rJekk/Pj0l7uzkfxYMA1w5rm3/i35eab+xdoCi662\n",
       "Ecex3WfM7E5T1+ChjWhsunwFUlrMsEceFogWtP33ZTv2XNCish1Lh3dyX2JNvgkP6kv3CDLMFYFQ\n",
       "dX8I6AYsS7Xb8q8GreIMS/xHK4TgjelGvI7ofHBmplEGME3Z228dMmdCGcMN9LOxNzt04hbOUbz5\n",
       "YNfdWdqjF7pT0Eh5gNg/di9IqovnikcqmiY6ghAG31zzxxhwXF+lgOB26nc7BZU4fEzJFrVRzmY2\n",
       "5794hbtcv74CWwwld/3+ZfKAEpT0HaH/TwMTM0zE7Ht923JTkpAFgdmI6BlWhnFxfvS14B3McUzv\n",
       "edRX6WUrEcdgP/PCTxuNFIZUb+HWY5LquC2dCZ1I5vcltuI8XeRQ6+3tS/0I3WvACRCZhMdOEijI\n",
       "RLRBkpnfWZ9ZTREJONOlC/Rs9P4oMA6fFX1lOmClLWdys8GhUjoEixyO1WdiWJf3KOqP40ptqqm7\n",
       "9GFArYKOnPI88BW2GNNnADQiRi5MmxP1slW60CK9FjWSxzOwAZ8AAABeAZ+2akK/AAAHxZCln0xC\n",
       "qeIc3YARlkOLqAd0s8tYqm6a9tj/U9v0Q4Mygn3SPV8/KHHtZ9Comk+Y63d02sS4GhcyDhNgWOZf\n",
       "yF/aN4yxWNjhvWWAetd03CTGvQAXcQAAAXlBm7lJ4Q8mUwU8O//+qZYAAATinODODyT4rEjCH7Yd\n",
       "SNECZiYTvUKfTJPMBo+oILWiTAqK2YQRb6AhMx/cG0B7+KvXjwO7B3JX8U4LFFcCnlbqXHQaxCR/\n",
       "C5PsBRWpS4hGQkrKvstQkLPnQmm3Wt3Hj8ZqIUIGQ4lF+QyDnjSh2uT71M7L8sC4F6D9c2jHoPQC\n",
       "c5PpRseGC+DVl+Bz6/q2ltOWPCb1Z/0iQswBxgat7IdaqEKqQu0fOlYw3U67418DZcMXyGK7o/0F\n",
       "os2AfhPMm5QqCS66GhImKr+rt1Yy2ngAQl7P7mwx0PMyrtqaAqOUOiZ/1PYWdTSZRolrRaSgCW9q\n",
       "/NlWkRuj0Z/ufKnQt/tzutR8A5E0lWJZVrlcf/utX2VyAfnJtz7sKo/ribs5hh+pV2Gq4ZkPN/lr\n",
       "sHUFvcWg5TaTAoAd83LOKy5mlSCOr/1LxT3GgzPE36/ePRotsmX0Yv7OyUULjQEln8LW35wME2m5\n",
       "ruAC7wAAAEsBn9hqQr8AAAfE3iiHYlCcZAArsz4MOhDTo3Ex2WzdRPzeUS3fZKnWItWTLPivl3xo\n",
       "N1Z81Em2qYJuqvhM19dUfMgcF3yKiZgABFwAAAENQZvaSeEPJlMCH//+qZYAAAMB3Wg/CIJgAuUF\n",
       "OA6Fohd4FUx/ae4XHU4j3zuEC6eSdJ1tyRl4wQl/u4ryeBuohhuNCXOLGpof2k4lGkqy22TmG0g4\n",
       "FyjPO94FuoeJqfmhDUWMUx7HQcaSVNFqmMlvWHHWdVUFFF6/l96vWU2odDrGVXdgdz5UyixIk6mn\n",
       "C9Md3MGWyw5uwNowQWHzEsO2/dnQSoe7XoXnzImUbuSWJxF5YMpfgOLLRW8/BU2SOtDBy+6CNgMy\n",
       "OA5NS8dTEiB55rPlhCnstAy5sjf0s+Rm35+igK/Y9LxpUuVZAYx20hb6312KSiuWbBuQqvprGj+F\n",
       "AoMgp62zuXBe+OaAAVUAAAHyQZv+SeEPJlMCHf/+qZYAAATigf17sAGEB/appK3UhGt6fWmsQ2Bt\n",
       "lswnAP5XsYpMgRIigJTdcbE+JQSG64rnj1L8t8enm/YLUt/flKqGCbTBMem4v6RZruxhPpcLGG+u\n",
       "+Cku4RydO7+cMosTp6tf1jc6iHiKrzMlpyWJc0LRkm22hafkZ8v6AXxT9AEVMMiKS+yfsqMPLPDU\n",
       "nSSwj/ZACozrFUq4GcOBRExjAjGo0ySl7DyNeZL2hrwx5sD8k0Ds6Q9aZqL9JNtDVHanzVeU4HKX\n",
       "k2SAXMclWQ1tCmvDo7IkO+KK5aLwj+cgimbWTrnFBDD8VYefkuWQMi9Un7qBLcACkmM3SHn2TlQw\n",
       "cPTMENwE1Ap21Wa2CXG7Ev6z9vWgbVmm5uUMyiKQgCO91NtG6k0tUvNObp/Ct0HuVpH+r/mXzk1d\n",
       "HBWGgv8URSHDORQbSSEG+6ypMxXKBsycwp5zUfRhFqtTM1BGxMoIVR+l8aMGA2G5+jVPcK5EGzkP\n",
       "GkTCwvP8Ujp7fznUGeesMEiffThHR1mlYMReNaQxvuNwSU2UVxg4SfEmbMTan1KbKnhk6HxDFtGn\n",
       "eDHuWrrATpII7PHsaT7H94Sf9Uy2bxVQ9XDZ1xvENwokhI6y4F9vPKx7KpnBSJHmYUOy4TTXa6fk\n",
       "AA4IAAAAnkGeHEURPDP/AAAENpkJNBulTrHfNPzglGOADUjeS+vZ4rnBcrlK9/sQN7Thqa8RDCJ9\n",
       "JSclqsqsb/dIDoyDaMSoWRF/ZRzM1jus9OXhjFnEY196uxYPeWiWDBZtN0L6FaTeiFyAhiMFjPEA\n",
       "E5Bt+30N80C9gXenwNE/SWs4k0G7SJuYHJIfdHpzisuoHhNi9uPbJnjs8aR3IwaKAAEvAAAAawGe\n",
       "O3RCvwAAB8PpFbp/EaZL9gBGWLBdE4652D7jSCQRuORiCVruLD0vnOwaP3QSevp0/DgrsNDHq8pw\n",
       "875Yahblrq4wnlVlt0lzf596KEwCdAuvvR8T0triw/a54QXJIccrlU+Q+xuAALuBAAAAXwGePWpC\n",
       "vwAAB8QHZAnNwo0SAFXBNGzw+SPkNucVpLqvkP1+SNjFoFXFkDoYxO5XtHaC86jAW1DS/w/djDTs\n",
       "xTeigyTFcCe3CYQAxp4zOVAy9okHpjdFNWTAwF0lAAHdAAACBkGaIkmoQWiZTAh3//6plgAABOJ/\n",
       "nQkMAE7xCQZplbZN4FQdWESlfsFecb/4bnORHw0iGSR/iWP4aFLj7ipj9jhgN51yhUJ04fq/EJCV\n",
       "REPLKeU2gAbA/QLUwHn2sWjtyAmLDwM4zH0o5hPjYzrDo/wfRFtkkfeXoNPz/LRKtsaH/6twDTgM\n",
       "yMFFTere01/craEJdyJ1t3nJoEGF8+K9n9CPmYgJIui9E4i7PFdV/5KFXfhhOwShWq8RbVd9zp0I\n",
       "/FP/NDwcsW5ekcJvXE9r+CJI/p4UGBtSvU8quhSoxU5lGnB6L4yWPVMjhu2/znhSiHEQfv8k036+\n",
       "7j0drsaFs7vr7HOEy1ExsLRooq3XktylCJmwuWAA5YJgbC8Db0Q6Hex1BtgASTL29lxQVMVpE1gu\n",
       "yo5BDrSVTyJMPUGQK8ko05IgEJHitNtH7CwqrpnCHbfot+r3kB76b5xWwcWV4EnwdNUD0+rRbZIS\n",
       "zMOjgbAnBCdl+cywanEXbJub2VKSaPSnWNy/Snvo62mCp0RQLPvsKZarYC+knS8IvNg0Pdxhj2nA\n",
       "7LljH4WKNcMoORSfb/a51tPHTioCDIdoLJ/s78FU2SOFkdmakz2R4ALMea2UvfsvaB5UyJZgnrZt\n",
       "yWj0Y4Ybo8lP0gG9C5T4/ZZEBSJL1IGbJSTcfITFJslAspfH6SlbAAIuAAAAq0GeQEURLDP/AAAE\n",
       "NJIDiUgAtOHnDqjl2qh6cqPMBuMfzeWmBBDMH4pLPOEWjCCgbjYb0ASvNxkNdZflajMFGcT37O/s\n",
       "k1RTra9WNHok64/IUorTCue3O7kKeEECgUqHHMmmqOaCoMcNdusfXGLkBGCl6tYVSSqzntKrAqA8\n",
       "SfqdqcKwRlM2Vm5vpfflIHxg5W6syjRUh2Hf99T+hB9sRNvUiMrV17iIAAC2gQAAAF0Bnn90Qr8A\n",
       "AAfAhXEMwYlNWPAA0PP6/KPfqgDSth0Lx7DnN8raaQtCDKut4nTWJflec5eYXmaDRzxOE1tsLbZI\n",
       "YpLm7BwSzS8lDHr/lFRWQlLRpSfxpK8qkBwAAZ8AAABYAZ5hakK/AAAHxZJWAljLjEQPHAAD/2ia\n",
       "QCFzv84v2HwALdv98tlx64XOoYjqd+U0izXuuQjOFJpzq2BoNt7QsRP+GDVUpXU9O/AldpmgJ+Ie\n",
       "0PAC8AAHpQAAAYpBmmRJqEFsmUwUTDv//qmWAAAE4p1sUACEGmoDmx0ctPXmog5b4Pku6EFloBxN\n",
       "7+5/sayIlK91WF33UGeS0V+4H5ORkXV0hI2BmMPHJ9dTMWtMutEyJWu9xma+xNwpS6N82HIJIKkq\n",
       "LA+9M6DcFphZ+GAt4087CQnrAzNFCV62bjUdkv8Jcg0Ldxc7z7ODQFgTocCKoy0JZV/Z1G9N4zJS\n",
       "RJCVPKSvzi5X+pH4bYym9bxLMOm4HfsYU4L/07+SqRuIt1QSpi/cM+yU46sfBICHTBVQ/mO3+Mf9\n",
       "ixR87/2ZkIhemJl52QpdQ72KPkSVABpGE7+/hLW3+LOz2zxr60cAYjrt9UDXhNoM9A+M+mRyzAzs\n",
       "V2StMrPYQD7EEDkDTuypBDR29iptjurmWK7S3dTONFWZej3JiatemAFVhE7AElCiXRILC/FRtDqg\n",
       "/HRrizW426+qsHxlZBx6F3t0XHGHln8kPYAMmrWfNyEK9d9TJHPwl9Zr9EPc1DdfzZXTP0N8izue\n",
       "2/LrAAIuAAAARgGeg2pCvwAAB8QHZAhbAk64pMqKznHp+ZvKqB4ADaAKhhT0heRiPSQ3yLpdsfqi\n",
       "wh6x2yg4dVugl10W/ly163e79PAAB6UAAAFzQZqGSeEKUmUwUsO//qmWAAAE4oIAneABBT87LbSs\n",
       "n4r3By7sYtogSs8tDxQmX9zr/jfzj2+EPdg8vBYVsxcozyEi5TWF963RxVFsiK0NSB/r92kYJHw5\n",
       "AgkPdws1pMM3Excy899M+YD8K8VgFgSGgpbSxI87DjIzIPTn5ezj6FIOTsBA565Py1fptRARSSeo\n",
       "8Cs153UWOgZWm2erfdUX8lLLLQvkobvqqplMd8/QUe9fBulMIqjfKavFatQ3gNxhbaiK7mSbh774\n",
       "D56JFv4j3GWLb8CQ6QPvsLELdIa1vaB1QoO//uQT7hSX8Jg3FFxnUngMnJD73b6V+f1r4apitzfE\n",
       "AoICiPnTYjdOJor3NOpfBf57HKXhI2WhiXQ7w/oB6XmTYFS6xumjzdb2kZ8O273qoCSEerAnUmTc\n",
       "6jKjW2mIyh9dS9vLAPayMxFnImveeyDx7Td3p8N9k4VJPSt5/yV1/MZGKifeoSdeuc9ItpQAQ8EA\n",
       "AABEAZ6lakK/AAAHxN4DMcG9W5QN2Gy5v+ZVtxKO2vQATqG2pLsAsNFIKnzrV7PKK6wIo6/SrCvq\n",
       "WbCrMYSJ9ChVqXwAGVEAAAFyQZqoSeEOiZTBRMP//qmWAAAE4oIDYk0ALYh+JnJ4XovfoeIX7ImX\n",
       "chrE0cBv34FWBjQL7X9B6VnqtitFj2SQSFvwLyYcL72MX3gb35t3hHde+4HVo2gDQDkjgQl32swy\n",
       "we4VcdHQiosoBQ4aNWPTJQLlQrX6DIe7Qcc/PlDqkeokfcktb2kY+0+EOv1hwdSwgq6Jd9AidHQA\n",
       "Hf+jT6hbfR+G03yxfccrujBl4xTBpPr9gQaZZk6r3akp3wRijQt1iEAdG9K7CLqjUwaLJUDfvV6W\n",
       "SP5tHHjFDt8o7PGSxJhIlT2JtDtNiY6Yf+rf7gSyY3gCjYyM2z1JER3WbT6V02mB2EoaGIa9I567\n",
       "Cf78OTSaMIxuYy5YU/ml7rwvhSTA691GuqIAvAU4NrnL2CSt+KFq6A57v3yCiFNlA0ZNkuh5VN+u\n",
       "pw1XRkWREDU1glTj4nzvMySSg7dyasheCdB5pgh7M604VwsgZl9goOvo9gAIOQAAAEEBnsdqQr8A\n",
       "AAfE3iFSZJ9IQSgA+/i492QEgKhytXXZ9UruPTy9fpcp8si3mdnQFNWznr5g3oNqT1EnAA9TNwAB\n",
       "dwAAAaVBmsxJ4Q8mUwId//6plgAABOUEYTVgfcALNH1m8Ha+JbRNqzH+2lDLjsp/m4lc9xD88lJm\n",
       "a3sAIzIkyJOUdWv+iJmbWbdw6NgyfMiewwlv5FhvYk6PipEi3uSBEivVaHBfittxut0BMpF1Kzc4\n",
       "JDxwzAVnfk6BdI9wZsnFZ9eyPjh1MOQZC2ePFc3yn/SxUMk5ryZb6AVYwOoc3BO8NiQ/jpSsTXGF\n",
       "FAPhTZhkKEyGOzqFCt5JRoRNRGeeG3kpB/KQsfjMIY1qmcxAJRvYewAIsCI7+lrzd0/wcVEM7Zr7\n",
       "RiiCJkFYm835WYB8/jyxGakzOm6PElNTSCDukVIsMGFCGwZ+KWT8exoUCPEIxP6wuR9A48yWiwck\n",
       "PzuBnOo9843uoED0KWWf97Hdh6M2W0g7/PgIfR2v+DnEVVFW4M/3DodRAeGe2RMLpaQ9usRXjf4w\n",
       "RjjeuNDqH19gSaDaA76Tj6JKcuOCTGuwr5SwFQdEGi84dLz0DLhR8M8WSONdHfQV+PhJkD/KiuAc\n",
       "0IYK+RCh/96ERYSckL/048ss4e0LWYtgAOuAAAAAlUGe6kURPDP/AAAEM/DNYt0FgBLUC8/0FXah\n",
       "yfX2gHlSRlsHv84DCyZS0vZkqZKAoKf+GNYa9sp5lQIVurcjcA2L0LZh8cExOSIPPPAgZzNwoZeT\n",
       "uLpzfAwnVNkl5GFYTW868ZXZsVmmeSfAF8SUHhWUGlmhZ6Vrv0hcFYT/dG253h2HNfwDWnjqOzzk\n",
       "2BhRW6eIAC2hAAAAVAGfCXRCvwAAB8ISOwkACWSoGsX5TXiRNNu9bLR83tXiNH4qOf3b9p+/1mYA\n",
       "Rk16/Qvo/cu69HVprfshZQMzH5zWgg4/tDEH965oF9Xtfc9igkAGVAAAAEYBnwtqQr8AAAe484Km\n",
       "2ITkprDMXr2oY5IAWqYbJ42xdwVcmDJS+wIbGt5q+t36wo3272dEuKlkmdddnRFv4HBe53A1AA8I\n",
       "AAAB1EGbD0moQWiZTAh3//6plgAADZSonAHMOLjtTm2iPBS1BihKEYPHuSj2/JAuuTvoCQp/nRW7\n",
       "T+d0i3E0/+vxIneggFO+ZirmfN2zzfzGDDBF7nzLsAkp/FedemF9U6Jr0R2DPZf0ngrWQGkSqzLN\n",
       "UCTSHGMQopwJWPr5tnjjgJRkV1t2Aqde1wWfkiWDDfrtnUWDzYuHG83YbLtj++IhWmsnO5tJZQEM\n",
       "VPu/uVoiPXxeL4fVMU9Kx7Z5g7Ef7LIxyoKkJqS0aohfMlFNgc63L5SgChJ0h5q80yyavu1HmaQi\n",
       "AY07FG3vCar3SZncr3rMQ/24iHbbPDwwCDHubeeCLaEJfF5USLexdlWrl7Fam+g4eWYAoAf7GECT\n",
       "Sbfv3ZM/UbejR5fCllSpL3Ga4AaDWw7PZ+R/7/ct8VLFjgeOFPiJyswDr0ZnFl8d/5ALw+ygIGML\n",
       "dKuXRdrVG6QpbrZwsw5dB9uw5trYjJh2rtjx/6lMJvsGPi8phv99KZ7HfRvhD4RN/zhRdbnCdapx\n",
       "Jk7oiWkq/KbxLm8BDYR+td4dMtRKAn2Ctq8K4Bo9YKoAdEbhiYIhBN7+L05454NwE6dLDnchqTq1\n",
       "Xd7A7AXWJVgKwEHfPMAGBQAAAGhBny1FESwv/wAAD+JiC7HAAuoFqGR9pSare2MGulRvRunKMsuL\n",
       "T+753f8MQDa8qA5DeaBXXczqzMUL5OgCTtQvX+zR5w12hozW9aitlG77l3XX58fHz7giCbU6EkoI\n",
       "qqJprIIajAAhYQAAAFQBn05qQr8AABXd9n/jg+ihT2cAJqddQ9Wr2dXp0y0orRR/T1BihX2HUqjD\n",
       "hHliUjiKrxD5e6QkJkmhRhcg7IbapeEK/kqak/K6FD7lHa5OGYwAIWEAAAHrQZtSSahBbJlMCHf/\n",
       "/qmWAAANlKicAVv4aSOIJqWNYGrSYf6U20XfW3B4N80oDn1vIDQu29GHFVGHDjnX3nZeXb1TIU7B\n",
       "MMixRvg6fXFID/V7Q1Enq1XlKd7l1BHzdedixFmFFEZqJ1zeDZdnSUDSnkFNKJQ6FXUK5lVimCJf\n",
       "IMCBn0OnVbPfItYkXwOsW7gREwbOcIS59WNNZ57QsBpMX0HYqaSrEayKr5/fOFtMZyHqmOoRXCyX\n",
       "orWaygxiq2Ii5MbARDZdCzNMexln8E5+Mbf5ODn/C0TOzxvkvEP4xLMuE6wmBgbj5j9Mn1AD6Vr6\n",
       "I/gMvUNwhUxhF0NkBHOiGC8p1Fb+m+VQT2BNRZLYhwL4sdOxl38ULOUY+TUBND0rgHd9xzvmGKR7\n",
       "riPYOBeM8odLjb5ebP3uPJ5/c2aNVgtrFDlEp40d/RTAuW9P1uKugM43pPLx8LrCXtyLc2+rTAtk\n",
       "2PiQiL60iTzyt7PksBubDeglnnrNL0TEMRQDt84rYxyprae0d0uiz1/9lKNmOxRx7MWf6/4oNpcV\n",
       "1/MxkBcVyOJodDvIzUCYe4XaFFgOkjaLK9N2cXLzsSJTJQJZcwuYnWXdVJ2KcfpEr0CLJVUy7eP8\n",
       "IJ2JtBwRg+T2zxQnemDp/UEV7CAA9IAAAACQQZ9wRRUsL/8AAA+yDS7cd08IHFmACIPUlx8uM38s\n",
       "IHcW9S0ItWeAqpHRIZI9zfO5/4CqzjNo2WN+ODxe25pyxue1XOT1f82mzcXxll2LeuiceZn6HwK/\n",
       "rA/qYXBIIsJJw6Ruh4kspaqXD40NCwj7PS86siFNs7I14hLA8QR+FFcyYSk4HKMJpiVkrG4AwAGV\n",
       "AAAAUAGfkWpCvwAAFiaYmz6JZwAmabMwU3FPcbC4rOHIZLIZbykk310lDGzrJ/R97y+9n7jf1jvi\n",
       "nq44gxTDMDndh5c+131Uue5z2BmWBTjR0AF3AAABZkGblEmoQWyZTBRMO//+qZYAAA2SmaOL1T0A\n",
       "ImR4J3afuhz1RRnzXWPV/cygKaT9Ukv+L+lFqKWQ8/TycOLKPEuEQ3/N4tw40/TfR1iHhCS9FhMM\n",
       "92ETUGZDiVyqFz778aQ+7+LH/WU+7vGvqtt6hL7nWPOkeva3WD0vebG3RtXsGymZNofCSSvVLts5\n",
       "AMX2iF+cb8iN0LBx5sbkqkYZOfbxsjxE9AhjhYZMgRqitr/rxUsDBs8bFeZnfyy/5eUQ610OgU1w\n",
       "asxNu68pPVFZnnhQrOLnP/WLLXJ3q2WAGqZo+zd1uXSjZSL0Dx1NZmWcs73JnBweYo6iW+7jCdLU\n",
       "BHLOCv4qxBaJfVQrBr+cDX7bd7qFpDISlJTdJ3SYC02vkplCaMlA9CwpqrrWhpJuwdLIc9kPBJw3\n",
       "1xfgOSiNuyr7E+sKxc9DHYFjVJaHDKA4x6RcgAVIuwQ+WAQFqZKgAxO+/ygAYEAAAABGAZ+zakK/\n",
       "AAAWJpudypTEAJmcbUfulDVm7ObBeX4HSgpvEKRGmMsf6Gc+TuVw+JAi2v6ZG+Kb4Dlc4vLHC+Mg\n",
       "NF44KoACpgAAAd1Bm7dJ4QpSZTAh3/6plgAADaJSoY4oQBO/QmlGAbdofYDsiQkW8Uk1CkFWPwCs\n",
       "qrhF2P0rutUmgOKs5wUTyLxkMStvIYFCr/TUhlrnBeiPVWHXS6CYyzG2ltBbcq3heYtI9ge6yOHq\n",
       "ExBC/e+v9VKs9EDxkDx8KJ2w/cjOIegUMkb/v9ym76LNxDFw/FyLDfTyvsHMgha+rXws5m7+X//M\n",
       "YkxySdwnDtMpQt/w9I8hW1dx2bf4KP7B+1Zwjc+FOpwYaVWrbY8ivXWE+iGvj3sG0QG+vRh/29FT\n",
       "xdu0atcfZlrJUYBzDUNZ+qTLT3mheMdBDVTtssOrMVqjVKJA5noAMaoZGQBudMMT7dbX+w7I/UnO\n",
       "VOec4cbn9nn3qD5Yaf6dKYIRQ3mpCoFDDpwjMn6AgdtZOQjZA9kVbkpLexl09a6fEe/prSmesxOR\n",
       "hM9bDE8ELWQX8xO+55Hxbm52SXG8txLrk5jo3bzPJsSei7LDDdSDXgxA7JOhe0HS6CKRxIuKedHq\n",
       "+xSMQN801pfp0XzNruKn7XXMoFxImsETHQGfefsmRg2C1NYi4UJ3Vboo7JRZnzh4bzsjGWPYOpGv\n",
       "HZtYDxf5c/FPQ6tDCjv0WKBW+IOvu5i8zm+IVjcgAbcAAAChQZ/VRTRML/8AAA+yFSxsjLlgBssJ\n",
       "/ox8GweUb0mxTOFXcXsZhXyB82UfaIFKk8K0afFl8MXpX0YHJCNNM9rg1Sv8xLopBnfiCkk3OIiZ\n",
       "t1sOzD7JtXdfkdBwUxY1+5otFB2gvEgsdpS585PgH6Wf1vMaqHvIHd9MKTKrQUvVWE8Wk+6CE4Xk\n",
       "X8KLcVQsfB+bJLZa1xSB7P15s3rme/gACtgAAABvAZ/2akK/AAAV3faqS51MAG0D956HUymz0oJ+\n",
       "UMi1zVIvPEDRUEim16KjDZZcSSKIVLNJuFPhlgjDAkwK/oziqMnb70u5+hz7USPNpf4ONc31vsTV\n",
       "1dEQ/lLmbwo9XDzo8ZatW6MiXWADpcAAAIuBAAABnkGb+kmoQWiZTAh3//6plgAADaC0Bt+4Ahqo\n",
       "j/g9H0Vny1H0+895KfMeVmVpbw7uA3H0vmnSeubM/uj10vUo4BDpNApwB8pNHMgZmzLnmwAtRHgx\n",
       "zc6iiDWUyBC5SehEs7Nfoa+UDxZEBVjKtZdt+tQlGS3YNPBcE+NTMPwvzF2uoc/BFUnXmNbEcb7a\n",
       "neUSjAW+iw7/lXSbL3eI0MqzgwOxdEJzj/weL/Ll/Qsiqes8zHbFHJCthHaBNFveviSdbktvoMM8\n",
       "Q4nVeqovdqIZOosLDWbb3wdcUaBoM1ogZ3vXltCXG4UBLc1J8pRr53EhXEv3i7K7p+RoUbTFqZdN\n",
       "LrFSk0XCV8inCG9SFsnZNgpGVR1N5x7DffP7kchRV6PyU3Tm4s3f5ygfGwgLAqyAxXFHMyfzkuXq\n",
       "w81sOysOTnZlE76mAfgraabEC2KTqidwADbGy9wxPQRQTkD/57rODprUO0DzejpVEuDvKRQXig4i\n",
       "d2oAd5O2M+yfjjYeyXTGN6g25QuCZnJLLD0ZTr9a8pytp4fD26PleUtP8gAbcQAAAIRBnhhFESwv\n",
       "/wAAD+Jik5yvUwBGtMh/Xrx9idO3AfsasgkdxKKbo1tZtcVqtA6XpdM2LJe1yT1kkmK6rPYg24i/\n",
       "URm3ysP970ud74yt1vrHG7PAezLWA+agQ2dCMUUwpKIer9PDVOIVJq61j6YgiIPjB3amLlWYikM5\n",
       "hzYL0AxZv7wABNwAAAB3AZ45akK/AAAV3gG08h1XnpLeiazeACUHT+HVgEV7uKgC4t+XaBDrztTp\n",
       "DreGgAxjYYLsftBNH5N/aruJ69k4hNwLurL2EiOu/P5LtuVseqxC/1VjFhTseO2rYPKx+GMrBXSX\n",
       "DcwNlNvvOzDGiQ5y+I8TNqeAARcAAAGAQZo8SahBbJlMFEw7//6plgAADaCzalwBDSQP+Dy3Hk5k\n",
       "DDlbgWkvv71oi8Dw7cx74UGQpatbZrCFs1/KXm8wlbUkf4tpNssjeIWe3SxpULTJ6SZz2m2P9THl\n",
       "2+kvV7GEl5o5OyEvFHt9OGFDryTP36TS9cymM0W60SJGniS23MLH5QFMZfTFwivpXOmupSL42XEy\n",
       "1wVygEY8JuW5XIS6yJjur8GzHvXK5Q/w6i6IVZkWfp01O4mBIBCOrYs55es73ASQrhWVSARFcOPC\n",
       "f0SkjezBDWW49kgG6OG4NNpWXqZSfV7+oNv27gR0eVKiFhTqCF4o6GGAPzTPGzyfrJLSj9bzde3p\n",
       "ZwKdnbPH1dAfJdHuMSG2bxEdvQuy2NVYFrjq6EV6cyYJZIEIUqCTz7qc6o97qfxwWlI9Aqg+tLK3\n",
       "ooFj+a37YHNc9VNryhMql3zzi6CCbBoPuZZZHPTcv+GPNQ4jnUBvOuQlJjGt1T6/amCxhGKU4aRe\n",
       "sM7fu/w3QAYEAAAAXQGeW2pCvwAAFiae3PAb+Tno9ACZ6q1MHouF9B0scOAAtv0w0vLA0Na+LfqB\n",
       "5GTI35onMvmH2p0dEBVao/GNBTIWBJqeUtSF4YREyxAtZ8C3dTiDz6wKSBa5AgAH+QAAAWFBml5J\n",
       "4QpSZTBSw7/+qZYAAA2gs2pcAUjiqs/+fxYyTcTXI0XHuAXkliY31f/kNVkHHu5s5yDv2U4ZxzCe\n",
       "KEKWNsMFLFks89pMFMwQ/ape/v0c/GFWj4W6DzawdfsoPP4DUZiqHTBbLXBRtC9aV6BrKcAm38yR\n",
       "vhaA0AxL2tRdpcnHaIjEp9t0Kr6hWpjSZA9WE0iACvHhN6jwuAfOhjixHK+kmRSwWxmsaKPc6yRV\n",
       "1lWwxbv83x89YB/A+uLKH8F07+03BscmB38H21wevyR5n8WbFJH2v33vM8Ac13m0WuuElafVO91e\n",
       "GYAeCXadiecLos+j7TVCrlamhT8Fj6Fh2Wz9aOfuAqPiZANViK2YVHS2MmxdPZYodz/9fB1U3drT\n",
       "opEhC50wXD1Dheol+zqfGyW4aAeyXigBG6wt5ZKxMaPXR2v+4IE8Sj/bpyx2meO4pyYjE+e7m2rZ\n",
       "DTK9AABTQQAAAFYBnn1qQr8AABYmnsyOCqqwHQAq7SXkcTP+PEj/boCMA2E+UpH/pE1KEgMpkUFH\n",
       "heTaJSt5/D7hJGmt9xEAx/cUqvm3HTax4T65kv7Oi/ir3gsy0AB/gAAAAYFBmmBJ4Q6JlMFEw7/+\n",
       "qZYAAA3koWgHqXqMqwGU8o/NQ43fg9Bk/4xXGgqs7nf+SQju4qknKm2TNdgMgJdfm7t5gipEiV7K\n",
       "+/Kg6olrl+3Y9UEQhPqMyI12KcyY09JeLM9HiCPBL9NFdJC6JwsGXcYrRDa7D/5wCFZT2oxjDon5\n",
       "BVPWafqG4eLh1xpSQkVI2N80cfrbyLd3631xe6ZVNTR6NPchmAFpanu51Hhqys05FNV19uvOCEb2\n",
       "y25cPC7KyOv+j2ciWS+noTVrRvCDAq4NBmXDoQVgo+V3ukGb1WL6AvX659K1Kz1lscbVsFvE9JDV\n",
       "MKu7iY7YGCJDYWJC3CooPgsc5S0HcHLiJQRpVtQc2i45+okARWDwFohAmHbkBHc598b8Ez3ICFDH\n",
       "2gVxJraoBHo3K0WUQEfJK68LUtqGo5V8Tt8H/XEiVjVdzadU6pvIvK6x7+HceBEVs86PGMz5jL4m\n",
       "qnp63b/U1qMwW70WIXFWrR3dcrkIiQlO/eObAAf4AAAAYgGen2pCvwAAFq6b5G0uDOwbDSYAJx0K\n",
       "Y7NrKU9tjn1ZHiW/9EXfnF88B2+EyBpVkq9zJ5bfJNiQiP96Jl+aVWcHgRcsnJ5+HjjargBchl+a\n",
       "8MxJnuXKRe6gKycEZNOIAE7BAAABUEGagknhDyZTBTw///6plgAADfCzRtADRMWzDmQHZa+3i/+Y\n",
       "1uFOdS2cKeEQXdnMeF+m2fNkDR5V7Tehpfo4pi8SyDiEWQiiK+ZqghXb/dvGeZQ7O8R9GQrLUjS1\n",
       "VbMoG5VVfwCfVeSc61QSoXUVjbfwXVweypa89dXoKlCGMOOiBMe9Dej0Wa/cZvyT67RXeL+LAaTv\n",
       "MCeiCXWtf+548madNfbEZfPPZQVE+8bbN4kgkTh9rQxJ/DJFckurq2V6d8/dAhvpn5sgXhwce7DG\n",
       "sEazbtz1pADTNRNs4JK6erDJV9HZPd58JyhpHpOBiW4sph58Hiy6oBih89OpKvdfxIYX/UwDEcur\n",
       "xVU2ROIcerfetDH/iPKL1en1uxJ6IC1PNBGKwIds/8Cm0jYApiZ/GuJN49l50paYi4uptGUAFDRs\n",
       "vBpSqXZSMjf35ll0YAC2gAAAAFgBnqFqQr8AABa2ieKOW8aAExDhd3/xOj+URR7dl9REX7P4L8Cb\n",
       "7pFeGGO7vV37BnQ5Eiw/sEjL2W99xshvpQiYIwPHWCDxB/N6TdbyuqN/BtZmFsngANmBAAABrEGa\n",
       "pknhDyZTAh///qmWAAAN8KnORABpHShzvlZ45gBHJjlS+ytyExq6N6vaafpmMteIC2eKj2yrTpSF\n",
       "k3u8Jh+OoCs5TffpIJCgduyra5RvSb1+3dXS6NHSl3bYRa2A8kVI9+7SD+8bTgHCm791MkfW93Gg\n",
       "eQnVcRBhvhiHNG5XmpwjskZXVmSUH+QLBCjgMp0972poQtLam1g0aRtuPbgD4n5VjO/o8s7XXiDU\n",
       "zGlcTMeEQYLSfWNtNwHFKHj7/ITXFVt/MAeHVx7zT9kZSPu2b6wcXakbOXtN18Z/E6+JelMuycIF\n",
       "kaFlZOOOnFETkM3mLBOiu+IQgc5a3kSyj/+Kpq6M0RYb2u8023HkyI/zxX9UglnU6BgHzJYxKS8q\n",
       "jPOElUoNtdOEGhsXATQPm75RcdxmR1QstR8pR9VwBGlNwsvy8N1ePKZp7IgD/O5OTasnZYWGDmMH\n",
       "bMZ0l1gmEmRtcH3DCkRa972TmZVC1UmpXPI2I/p9gWaJt+QNPWh9r99fSVavK48kXqq+FANCLoeg\n",
       "oLzGxT30I7dzPP4BbShFuLvL8u05TE+0ACbgAAAAm0GexEURPDP/AAAMPEWKIADRfbSz8xml9gEC\n",
       "+VjnILM5VEsKC12VpyKkl3sEvMLEzIFcsIyrHB2j6zVinpggqK5JzacvrTaRtq7Vaw5Ptbb38mVu\n",
       "7VlqnzJe3lH1LQZ1in1cIZe1DDRO9U2mZLc8pup0N9P11huJgBsPRIf/dQ0n1KUTfYl3rXJCLYXu\n",
       "+xaBXow9DBXfCne0ABexAAAAdgGe43RCvwAAFqq6sfAA0YlAsy119dGzT0mvRTayqesUSig5jOPd\n",
       "3uCA/31clCgH5+7u6nmdJuScjVns/qj0olo5mschPAjwJNgdiaj560K97aSMWYNpI0zESOAKwNCt\n",
       "DU+Q/4n0n5GhPZdcsBz7//b98x1AARsAAABAAZ7lakK/AAAWuvcuir/7uAB4K8aiSFXuX565LFoQ\n",
       "It2Wu3bs4ga2j/9vafqlBWHL92mWDZZAQKtXKWM+gACdgQAAActBmupJqEFomUwIf//+qZYAAA3i\n",
       "zIuD6gAA0h+XtOMt0Iibz7v1xh+czPRmI18Rc1j/DMA7P9QV02e2b4C0js+MMojz9YSLXpTN4T0r\n",
       "Bz2gkvd1640PtgUiVGdcRygCN39QGYEuoiNCBTQCB0lZAGhxVZKh0bPMy7ni4e5bmd5Xz+i+ytX5\n",
       "tb/y7yf2B2vmUj9iGiLINJA/FMBsjh0iM9ayuSbtMqwiBOwWopwA02pi32XHxy0MAXZ5f13Mr9Ur\n",
       "CsIYLxcsZW9v4l22mr8h9UrLqQDwFtEvxFCKRtaEnTpMI7nkOuaBsRySO7Kojnc7Rrd8+4yYPPj0\n",
       "4bu13AFQYgqwWQ5nuAFSGnrkYfgAwPlRk5Oz1icnF1ndjjWFnNkD7FqZrxCpHV7f7NhX7xmlpdYq\n",
       "BSqz/8AK5qieAf+urcx3KgjfegLv51Dzuurzih/HHtrWkrB97+p5kIARA9NHnF897i6DxQlLT3aH\n",
       "zm90MpQ666zpR3SA1C8v1FwoxNgT91FIViZnC/Nk0c2iX9xa8da3RpNnK2HhQ9OAkkqioFcKUIct\n",
       "M3nIZoGra7xJc7DnhvEac88cpNFRAXJa2VAoiyrohPS/m+LFqfaABN0AAACTQZ8IRREsM/8AAAwX\n",
       "0/WR0tABK78oKP7U2prF3daeMDFWZPugCFSBz2ME4T6Ehvu14LRhd/OJP8l7ueH5kijnw6B1bJfv\n",
       "orfyCdYhDVSNfyCUEv5dNbjwKxDIfDFuWtIbpYFB9XsriyIjpZY84MDwE9rR9dpzMMO8k40ZCSiM\n",
       "5T2F3L1ScdvyJn2eQ8OTmbqA4AWUAAAATgGfJ3RCvwAAFryGPoGJvUAHof3tKdSYljVP31MstKN0\n",
       "rdK+v2jXcQkedgiMjkGMI1VH1PfAaftFufGgvY6WGG3mYdO/p0CKxBhVskAEfAAAAFoBnylqQr8A\n",
       "ABaum5JtexCzPmV1bOAEnu2zGeR6+TVWnZYC5W1bLkBSr78ed9UouiNjusB+FvDNuQrnNpBaV22i\n",
       "p2Yjk9kHc+4sWt8W2uFz1qieEpc8aw64AWUAAAG2QZsuSahBbJlMCHf//qmWAAAN8KnOkABpeBd3\n",
       "gINiGGX32d3kS2U50jSnEwz2kPfmPOl8UdSTr6PAp8ePNP4pBIJFfVAckf9H0hmndn+bBms41tR6\n",
       "ZW2L7/TluPAXCkZryvSzj+aXKdYhV5SvV0wWCDZ7OdydgfkB+HaSMv3svJxxXiaDsP5hA3913Mhk\n",
       "wRDFSF+OlmhkmePIiW2y7DW6a7wq0luqZhLMFbyoHsbO8jbowJLdWk6766kyHRmw4K9Kit+EtMPF\n",
       "1k1RtiMokCM2hyLje4i0PmHuye7RwqK4xwkgentnfR7Y1D4o3rX6IU+xDBrJfyxezRNFq9hRTVh9\n",
       "vMH5nDJ9nCjm1Fup3pklp01jBWYZoTKWTrzsvcAwJXqHRcboPxQjhC0eVVgb7CEFD9C5AgT7i3MQ\n",
       "NOAWEexkndKvkjn7A7rKuczb4hqX9G19OgPn8svBxfnKPe0VyJCnate2er+l7vHnqjIb+0uM5y3G\n",
       "WmhPrjoOaLFKsGWAJ/jspnpjHdyuaTqN60vpkNK55ygnDWldGvZCWcV1ylnhCi4z8FpOwuB5C1DK\n",
       "JtyoTxUIc9BUADQgAAAAh0GfTEUVLDP/AAAMPEMS+/WcD7l1ugA8IkeHjz4GinjISSuwYYQgXyGH\n",
       "2PDLzfCKW0FkFxnV4P5XGuqLxVLxxX7ZGk6Z2PnfNL1msc6B7bNFL9O7JzbYT9AGz7gBGwYHFP7q\n",
       "0XxDVS4VIz5mG9j1+w6j720esoDpSqIKteFs/TsjOl+whgAQsAAAAFsBn2t0Qr8AABa0tjNV6cBq\n",
       "AB+JMNuE4wWL2ltHw34sbGrWXDXTxbnYREJBsY4MrflfgbyObza8Js/76nKMrzdQajxaRvmQvK3K\n",
       "7XVm7m3zCf+sx+Cr+K6OAFlBAAAAZAGfbWpCvwAAFq5bY+ABdLKb7SxHChZ+toWdlVPgnE7lw1NR\n",
       "YAdDWzq72AGFXmW7UtGr59hLEGosCzkqDfedebdRH5OQ+2cthGXIczBVdvP6JeJlG/7HWPr+a4om\n",
       "bEYKvYEAGVEAAAF+QZtySahBbJlMCHf//qmWAAAN8K8/I9Q3EECQABcm/5rR12vMvo2Jr85meXXC\n",
       "zrARfrt6fq/htQdDni71YAuY1CIDP03+UKvo5JJaW7O5V8RvX26R4GYVjc9lkUV0uiys+RlFyqah\n",
       "or/S1kBtQH16HNH3NcUtqDYDQrxY6UMQNlS0sKRRyAfp7qSuJ99atO19FFSQaou0HWwKlBd7lPdD\n",
       "j10Z7Pa8+tUGVa9beL7bnBfmnsh/d5WtN46SVGYYgWrahtBN9g93KYFoa6mn0Y+AVHMLNKV+qnXa\n",
       "p7F8zKF0HSj/Am5WHhpHJOHguRFKWqt8dzpI+BR3utNhWk/w+FXEV2tcDsqDuWBjpvgwDBndeTe1\n",
       "qkJ/kdPZCLDBX8X0ZL0SIQmYN+kJdSCeujqM3egfgBIEEu7rcUwY19okUoYxX/vPsW6ZfnCCGmL7\n",
       "3JjBIUf1rmo5pzw/s8cwcZe/7UJ0DQS7LdICmQn2v9kLO1kW0hZaFSzEwFVQ/l+8PIAOOQAAAKJB\n",
       "n5BFFSwz/wAADDxFiiAA0yMADACKgBW0b1gaAmtnpCSDrS7P2JzlQ/4k1UXt5TggAwcdXbwECrtG\n",
       "bL8plJWV8XF98773Js78+ms7/bD9aZpQD8Rlux+WIi6hQNLdc7IrTALmnko8pEKlxcLUsxUr1HA0\n",
       "woRE761YF53v9e1iH56hepdudAbyKB81fB33cTz8JeDEyVvzXv76qMvsV+YABCwAAABOAZ+vdEK/\n",
       "AAAWvI2QpiWcAJhJ0hEvTDKx+AxBocibyXZOXp3BfpL1Jr7nJV3eVu6N3tpT7Z4OrhwuLdZi49K2\n",
       "IbhpfpGf+hOH2mV20ALKAAAAWwGfsWpCvwAAFrr8NyAk+gATadwdIrIXj1iJR1627izSricWybj9\n",
       "/XvarhJ0J9hlP7EYcNEyH+n9KhnBhDppj6nmyFs+qekuEeELnXaLBbS8ZJJ+jf0s6yIACykAAAE5\n",
       "QZu0SahBbJlMFEw7//6plgAADfF7o6skAI2KH8QfhQ2DlXn3Xw8WA9xJT7lwofEzcHX26/1wLE7i\n",
       "v6JEv5Rg844jJrktHor7hv6UVUefLNfeZ7MBGZGAEH1jPXtX8MzgRF/a5H74C6GvuaIteElW1FCD\n",
       "mz/b5uPj9E6FexgA3HexmTDpRsLwg7jb65GJO3vms+Oq9MZPQUmc8UOSRxrTrCEBGIKyOjg4Elgm\n",
       "mDORpGTNH+tXROd04R9iB8gW0K5RgcvXYyEfDin+wMyAp9fM64JtIsbLca0cfskyfDZWG4y4AT+l\n",
       "rIQZOoAbFltPPwIdwB9c4LamUfNxQjJLNEmp8zWcP0GuO6VFnB89Qc7qVBmYTT0ZMoW67+1zlwt/\n",
       "s1pHXGJVPLs7g/3GdicGT6R6PxmtaP73AACggAAAAFIBn9NqQr8AABaum552ivEkRAB/LLFtFisK\n",
       "fY4lM8FOT6cTaHF5699ZPiODXf1hd8aAcGRfUdFVPxHq154SM55SG2dL75zF/7VJAlOY2PNpABLw\n",
       "AAABykGb2EnhClJlMCHf/qmWAAAN8Kn5qqAA0W1QNtnFfTBzr5EJYdAPnt2aXZvXrXLQBKe79Mpi\n",
       "+AQG99KX0s/3wgaQwz8cLWGvHLCaj4fqpCDPRH5VBQOStlPL2XUs5Z5S93ZS8CY+1L2/blleWRI4\n",
       "7vjTEpT8DCNX3Zd5M1UApRlLXm0/pSCGYN9A0WlsLU2FogTg1Hk7uZWVftMPmC6d/YWx2J2DmlFE\n",
       "+wOuUIzzPYZNBEjRfj86brGjQY20KNjPdfihPYL3O9XVEEjof0TgGjaaj2uZzqpsVxICheQdHQ3f\n",
       "8vHRdUUABmtzl2cNeqApv+mJSAkrScx+l0sOPKSNxi106CT+Y0ma51SXd3wX+pzzcCvt+TBvwQ3c\n",
       "Ch84c/+4885YLA0RQdnWCDOBnvhwvvZ9yIJSWNQrWH1grvJlyylCL/ujOxbUtfV8GTCmfRxc7kyN\n",
       "tsAYPn0ZXWVHpmPSGJsUEf0XxV3kRUYg3rs5Ksa7bnb4wMNHsscdi4VzdqB16tXc9lu3cbvzEn0b\n",
       "pvrkjO/k/8YRh2MWU7e+BmuXyuh1suhoIU9jXvd22ViBscoo2zzARITxKA5fWNIzIvDfqkR6VCuD\n",
       "BAKh4AFJAAAAv0Gf9kU0TDP/AAAMPTPdsRZ7ZLrzKAEnfcgr9JyJxEJwB9AfAbje7Xm8oYtg3C9A\n",
       "7L+/osr1wes0AzLnc62ocTvBim2ZaMe5s2k07izOrcwNTpCHtpoK+8bvhcrOfBXIDCP7q1MNXQXI\n",
       "6Zq80EkzSiXAhnKhecFl7JHaAK/EM9HX9qoT48cIyLanlRFhkNdEKZBxVxtNJJ6XB6a8+h/NFB32\n",
       "HX148RhJE58HYLaY02pnw4MV9V2L+e/PPiQIAAGDAAAAUgGeFXRCvwAAFrTBLUQc7SlA6UQAfgHu\n",
       "xS9/UPtWAehwuCwLNloT7+J73Fb5s65uIsQTzoz3VzzErClfdmVrYJWD4bx2g83TgaSpiZqWPbUA\n",
       "BSUAAABrAZ4XakK/AAAWqrqx8AECYjqZriN2sgNT1nnTBslLHvaTWWl4xZ4oL8cAAT4oS0crk3K9\n",
       "8NLIoTgMyEfLXp2X+MYTGmCRd2ik197t7sdDtltE208E/cIkQaLBS5my/JZ4lIVIrRRyYvxAAYMA\n",
       "AAGkQZocSahBaJlMCG///qeEAAAbsSxk4E+Tm6opiwAtg7HKM93KGBeXZnFX+MwpGpe4r93RB1m5\n",
       "gPPgKV2FZtNUDyuWXcf+TeIAiB51lQmhboaHrqZh2n2FzcsZ51GxRsSTWHHhL8tXtOsJ/J8JOFNN\n",
       "YMrOFh+DM0i427+D2vxfwqxcV9f8zH4PsOCJuvG9obwPEFfmTMCUDEftqrF+rj0viwJ4tY/vi8cV\n",
       "e1S7f1gn+5ZZUUsXtEUQzA0rhnoD+IQGaUsX6edhLZ8y0iiqbKalrerhaYVI+fZAno9fnmzJIzgU\n",
       "uPCiNIrYZ6jy7Yc2Oa6vqWFkU0ptnpiQGKi+YXWFR/OKwqXxAkb6t2Pd+9lUGpJtrioJn1IFdAAJ\n",
       "8s1y+h3ILNNIfkY9FP27EamvQvduGozrr247NtpGEBtJbqoqyHp5/1iwOvWVMbaqUKWMZiCP0xTL\n",
       "60u4f8C5zHfc3HOQTpLVSCiZXl9U9q4Knn9bU4/TYDUlNenYTO1Sb2THjPEQuW6JgRL+E9nVgI/q\n",
       "i9p+Dtdf36Lx+vu+9EICg6ju5QTkwA9IAAAA1UGeOkURLDP/AAAMjF1iCcoI1Q6OO4YPUSUALI4C\n",
       "Pu0d1l5mxrrFfmL7KVr7QBBunpFaO/cUUrDOasyW24lw/84ZvLO6dX5dwbGcWchfPkryJ6QlQWSY\n",
       "8Kt6rprZg0CT66lJ5BCWA/CXZV/UPf9tp6P9hutgrWnvRghSWBiXsteZlqlut8sDcAKq6PISBSWL\n",
       "cFFCfbLqQphnD4im3BdVRs6eGdHNB7rOCU20CeIWNdef2ITaP/QfhEytJsgYoxXxkHiMMjTJC4wA\n",
       "m9OB8W4ObqskqfAD0wAAAGUBnll0Qr8AABdMdUv7hGMDP0AE6xBxQKAR03zEvRBkn5K2k46u8+Lz\n",
       "WFGv0q4dRmmBuX6swnm3VBv3slnx/H5Ghu3kb5HazjeZ/cxrGSiB/NShyTA9GcyYgFFjIBOYwW/G\n",
       "gABXwAAAAI0BnltqQr8AABc+m57Oaeu8ANspMyHVfuFttJdXfMyjQi3NAUF4uSQsEzuHf/QQhBHp\n",
       "fbPzrJvrTxTkJvpjNiPNpZV5U77PZuLh4cWAupNtmVWvvUuZ4+0YNSD6do3DG2UNKqKyniRytIG6\n",
       "pGsTTSNkszxSd3lhgrnMW2pF473oifImLmGKhadJVKQAbMEAAAD+QZpdSahBbJlMCHf//qmWAAAF\n",
       "KYyr0gA/WIuSd0Z2z9PTKFxZHAereHpv3ql02WSxXUP/BSYfViOlXTu+HOi26YmQT3PSK+bQ9fhA\n",
       "XCbtcH4USYVz9U24xoXHxoXsEt+bi5NUnzIfachBDT+uUHxI/4Sh2Hmfg3dAYRD3m30DULNmZdj4\n",
       "LJ5LKdJehW6V8lcTialiIqnO0cbJabENV+Xf8oYGJWrlHceT2gPY10BfWpWF/Yotkqk0eySlvYYm\n",
       "Nl9SAs/IFA/eh2PLB7AptQPdnSS2WtfCfZ45FMUslBke02rW9dKtFgzGbRIoiMteqPSjYT37ElSA\n",
       "HqldhAiACgkAAAElQZphSeEKUmUwIZ/+nhAAACfMjriV4AE5u5FOyxBrEVZsKMhjLlrFf1Ep4iWe\n",
       "KLQSM2X8lRSLq+nbpJFw/uIw9TG8Tx+Cp51a8hlbZekfVSeJ41hnemFZuNABCqnP993ajItpNnw6\n",
       "GDcrbJtxA+M6tKWo84VrnR9Lf9EucONhBVBtbS4GRyqh8jf+y6HlKhlPkxyqHlozomGsjnPhcRif\n",
       "iq3FgoOA22fiUd36gfkhEJGlHFMs6f825wv8QQTu0bYZ5xcwYoBjh59xKSBMX7cbsfcXkCJTeQoW\n",
       "gGNZBMjhiBhI8QeLorlx+oCbE7UO1loFeApWUVuc1jSupELViBCly0qAQlOCcSpsIj5IjswUCUYn\n",
       "QpYifD9u7N3XmaraGTdOonsoApIAAAC1QZ6fRTRMM/8AAARnqhGbrACVpwAQtUYPPpTJgZjOGH0L\n",
       "rZzGDOUjOc8Zg3Kuhc/EZ/5HLPienhGSIXLeqUA7f/8mxzU2bvWKnVD14nthQjD8Yv6g9/I088oA\n",
       "3BwTt3fha5Y8qNzYLOoGhBCUUl24Uai61ZhQNw8Ybo8xRWQRHErsiPY37TzMSzAFv5lPfVUyAQ0t\n",
       "MBQDEvnHTJV9zfNHW8airrrizdPjSiw+w8gHJ3UvAhAFBAAAAHMBnr50Qr8AAAgpb6OdACVbMr24\n",
       "aSJth2tinP9s3AvwtMAecLNWniz3kZrf9OYbNb6tPwhR9r7olpSfxzlAZwtYKq8mbtYRm/uUwTeL\n",
       "ZWeXuYQTTala2Is5jl/XiCayvRljX7/zK6Z+d8fczoHQJfH+QAz5AAAAewGeoGpCvwAACA1tnGtZ\n",
       "FgAuU/Z/o0+AukjIXv1s7+oOxjr2NKXxLa0NwsFOqXaoxOOXQ+McLzKcxiTBfqfotnuSwqHl5Sr2\n",
       "BO0s8m6fYHmVne4mr/AGrAG+vuQ1BqLtCVvpfJQCMKrGfSn3XR4LGwUUBsuK0gMWeCANmAAAALtB\n",
       "mqJJqEFomUwIV//+OEAAAJrRVWiowAtlBqe7ZU1k5D75AKOpNYb10cAI0QsDJ1M8BSB06LiAHEsF\n",
       "1D64aNPDJuEb400Ek3v9Eleknw6T+YW0v3jhikHwFMqjDYcsO+AbgQfF63Ec1VJoHkAeWvSEepHo\n",
       "ZoPWAWBMUvltEIYD2to4ef2WVI/O9o4h4kIle3/FKK7W2BFBSiILuIVLsQB/r81Qq7I2QfMxeWP3\n",
       "xqn5AvbEp8cgOq4AAOmBAAAHtW1vb3YAAABsbXZoZAAAAAAAAAAAAAAAAAAAA+gAABNWAAEAAAEA\n",
       "AAAAAAAAAAAAAAABAAAAAAAAAAAAAAAAAAAAAQAAAAAAAAAAAAAAAAAAQAAAAAAAAAAAAAAAAAAA\n",
       "AAAAAAAAAAAAAAAAAAAAAAIAAAbgdHJhawAAAFx0a2hkAAAAAwAAAAAAAAAAAAAAAQAAAAAAABNW\n",
       "AAAAAAAAAAAAAAAAAAAAAAABAAAAAAAAAAAAAAAAAAAAAQAAAAAAAAAAAAAAAAAAQAAAAAKAAAAB\n",
       "4AAAAAAAJGVkdHMAAAAcZWxzdAAAAAAAAAABAAATVgAABAAAAQAAAAAGWG1kaWEAAAAgbWRoZAAA\n",
       "AAAAAAAAAAAAAAAAKAAAAMYAVcQAAAAAAC1oZGxyAAAAAAAAAAB2aWRlAAAAAAAAAAAAAAAAVmlk\n",
       "ZW9IYW5kbGVyAAAABgNtaW5mAAAAFHZtaGQAAAABAAAAAAAAAAAAAAAkZGluZgAAABxkcmVmAAAA\n",
       "AAAAAAEAAAAMdXJsIAAAAAEAAAXDc3RibAAAALdzdHNkAAAAAAAAAAEAAACnYXZjMQAAAAAAAAAB\n",
       "AAAAAAAAAAAAAAAAAAAAAAKAAeAASAAAAEgAAAAAAAAAAQAAAAAAAAAAAAAAAAAAAAAAAAAAAAAA\n",
       "AAAAAAAAAAAAABj//wAAADVhdmNDAWQAHv/hABhnZAAerNlAoD2hAAADAAEAAAMAKA8WLZYBAAZo\n",
       "6+PLIsD9+PgAAAAAHHV1aWRraEDyXyRPxbo5pRvPAyPzAAAAAAAAABhzdHRzAAAAAAAAAAEAAABj\n",
       "AAACAAAAABRzdHNzAAAAAAAAAAEAAAABAAADCGN0dHMAAAAAAAAAXwAAAAEAAAQAAAAAAQAACgAA\n",
       "AAABAAAEAAAAAAEAAAAAAAAAAQAAAgAAAAABAAAKAAAAAAEAAAQAAAAAAQAAAAAAAAABAAACAAAA\n",
       "AAEAAAoAAAAAAQAABAAAAAABAAAAAAAAAAEAAAIAAAAAAQAABgAAAAABAAACAAAAAAEAAAoAAAAA\n",
       "AQAABAAAAAABAAAAAAAAAAEAAAIAAAAAAQAABAAAAAABAAAGAAAAAAEAAAIAAAAAAQAABgAAAAAB\n",
       "AAACAAAAAAEAAAYAAAAAAQAAAgAAAAABAAAEAAAAAAEAAAoAAAAAAQAABAAAAAABAAAAAAAAAAEA\n",
       "AAIAAAAAAQAACgAAAAABAAAEAAAAAAEAAAAAAAAAAQAAAgAAAAABAAAGAAAAAAEAAAIAAAAAAQAA\n",
       "BgAAAAABAAACAAAAAAEAAAYAAAAAAQAAAgAAAAABAAAKAAAAAAEAAAQAAAAAAQAAAAAAAAABAAAC\n",
       "AAAAAAEAAAgAAAAAAgAAAgAAAAABAAAIAAAAAAIAAAIAAAAAAQAABgAAAAABAAACAAAAAAEAAAgA\n",
       "AAAAAgAAAgAAAAABAAAIAAAAAAIAAAIAAAAAAQAABgAAAAABAAACAAAAAAEAAAYAAAAAAQAAAgAA\n",
       "AAABAAAGAAAAAAEAAAIAAAAAAQAABgAAAAABAAACAAAAAAEAAAoAAAAAAQAABAAAAAABAAAAAAAA\n",
       "AAEAAAIAAAAAAQAACgAAAAABAAAEAAAAAAEAAAAAAAAAAQAAAgAAAAABAAAKAAAAAAEAAAQAAAAA\n",
       "AQAAAAAAAAABAAACAAAAAAEAAAoAAAAAAQAABAAAAAABAAAAAAAAAAEAAAIAAAAAAQAABgAAAAAB\n",
       "AAACAAAAAAEAAAoAAAAAAQAABAAAAAABAAAAAAAAAAEAAAIAAAAAAQAACgAAAAABAAAEAAAAAAEA\n",
       "AAAAAAAAAQAAAgAAAAABAAAEAAAAAAEAAAoAAAAAAQAABAAAAAABAAAAAAAAAAEAAAIAAAAAAQAA\n",
       "BAAAAAAcc3RzYwAAAAAAAAABAAAAAQAAAGMAAAABAAABoHN0c3oAAAAAAAAAAAAAAGMAAEmoAAAD\n",
       "IwAAALoAAABvAAAAZAAAAkIAAADQAAAAdgAAAHgAAAHVAAAAxQAAAIUAAABqAAABhAAAAGwAAAId\n",
       "AAAAuwAAAHgAAAB5AAABAgAAAXkAAABaAAABtwAAAGIAAAF9AAAATwAAAREAAAH2AAAAogAAAG8A\n",
       "AABjAAACCgAAAK8AAABhAAAAXAAAAY4AAABKAAABdwAAAEgAAAF2AAAARQAAAakAAACZAAAAWAAA\n",
       "AEoAAAHYAAAAbAAAAFgAAAHvAAAAlAAAAFQAAAFqAAAASgAAAeEAAAClAAAAcwAAAaIAAACIAAAA\n",
       "ewAAAYQAAABhAAABZQAAAFoAAAGFAAAAZgAAAVQAAABcAAABsAAAAJ8AAAB6AAAARAAAAc8AAACX\n",
       "AAAAUgAAAF4AAAG6AAAAiwAAAF8AAABoAAABggAAAKYAAABSAAAAXwAAAT0AAABWAAABzgAAAMMA\n",
       "AABWAAAAbwAAAagAAADZAAAAaQAAAJEAAAECAAABKQAAALkAAAB3AAAAfwAAAL8AAAAUc3RjbwAA\n",
       "AAAAAAABAAAAMAAAAGF1ZHRhAAAAWW1ldGEAAAAAAAAAIWhkbHIAAAAAAAAAAG1kaXJhcHBsAAAA\n",
       "AAAAAAAAAAAALGlsc3QAAAAkqXRvbwAAABxkYXRhAAAAAQAAAABMYXZmNjAuNS4xMDA=\n",
       "\">\n",
       "  Your browser does not support the video tag.\n",
       "</video>"
      ],
      "text/plain": [
       "<IPython.core.display.HTML object>"
      ]
     },
     "execution_count": 48,
     "metadata": {},
     "output_type": "execute_result"
    }
   ],
   "source": [
    "# tranimate(R)\n",
    "plotvol3(new=True)  # for matplotlib/widget\n",
    "HTML(tranimate(R, movie=True, dim=1.5))"
   ]
  },
  {
   "attachments": {},
   "cell_type": "markdown",
   "id": "ef8ac1d8",
   "metadata": {},
   "source": [
    "<span style=\"background-color:red; font-size:20pt\">NOTE</span>\n",
    "\n",
    "Robust, portable animation in Jupyter notebooks is challenging.  Here we use an option to `tranimate` that causes it to return the animation as a snippet of HTML5 which is then displayed\n",
    "```\n",
    "HTML(tranimate(R, movie=True))\n",
    "```\n",
    "If you wish to animate a coordinate frame from a regular Python script use the simpler syntax\n",
    "```\n",
    "tranimate(R)\n",
    "```\n"
   ]
  },
  {
   "cell_type": "code",
   "execution_count": 49,
   "id": "58c33ce8",
   "metadata": {},
   "outputs": [
    {
     "data": {
      "image/png": "[encoded data removed]",
      "text/plain": [
       "<Figure size 640x480 with 1 Axes>"
      ]
     },
     "metadata": {},
     "output_type": "display_data"
    }
   ],
   "source": [
    "plotvol3(new=True)  # for matplotlib/widget\n",
    "trplot(R, anaglyph=True)"
   ]
  },
  {
   "cell_type": "code",
   "execution_count": 50,
   "id": "30d32e00",
   "metadata": {},
   "outputs": [
    {
     "data": {
      "text/html": [
       "<video width=\"640\" height=\"480\" controls autoplay>\n",
       "  <source type=\"video/mp4\" src=\"data:video/mp4;base64,AAAAIGZ0eXBNNFYgAAACAE00ViBpc29taXNvMmF2YzEAAAAIZnJlZQAAxqFtZGF0AAACrwYF//+r\n",
       "3EXpvebZSLeWLNgg2SPu73gyNjQgLSBjb3JlIDE2NCByMzEwNyBhOGI2OGViIC0gSC4yNjQvTVBF\n",
       "Ry00IEFWQyBjb2RlYyAtIENvcHlsZWZ0IDIwMDMtMjAyMyAtIGh0dHA6Ly93d3cudmlkZW9sYW4u\n",
       "b3JnL3gyNjQuaHRtbCAtIG9wdGlvbnM6IGNhYmFjPTEgcmVmPTMgZGVibG9jaz0xOjA6MCBhbmFs\n",
       "eXNlPTB4MzoweDExMyBtZT1oZXggc3VibWU9NyBwc3k9MSBwc3lfcmQ9MS4wMDowLjAwIG1peGVk\n",
       "X3JlZj0xIG1lX3JhbmdlPTE2IGNocm9tYV9tZT0xIHRyZWxsaXM9MSA4eDhkY3Q9MSBjcW09MCBk\n",
       "ZWFkem9uZT0yMSwxMSBmYXN0X3Bza2lwPTEgY2hyb21hX3FwX29mZnNldD0tMiB0aHJlYWRzPTE1\n",
       "IGxvb2thaGVhZF90aHJlYWRzPTIgc2xpY2VkX3RocmVhZHM9MCBucj0wIGRlY2ltYXRlPTEgaW50\n",
       "ZXJsYWNlZD0wIGJsdXJheV9jb21wYXQ9MCBjb25zdHJhaW5lZF9pbnRyYT0wIGJmcmFtZXM9MyBi\n",
       "X3B5cmFtaWQ9MiBiX2FkYXB0PTEgYl9iaWFzPTAgZGlyZWN0PTEgd2VpZ2h0Yj0xIG9wZW5fZ29w\n",
       "PTAgd2VpZ2h0cD0yIGtleWludD0yNTAga2V5aW50X21pbj0yMCBzY2VuZWN1dD00MCBpbnRyYV9y\n",
       "ZWZyZXNoPTAgcmNfbG9va2FoZWFkPTQwIHJjPWNyZiBtYnRyZWU9MSBjcmY9MjMuMCBxY29tcD0w\n",
       "LjYwIHFwbWluPTAgcXBtYXg9NjkgcXBzdGVwPTQgaXBfcmF0aW89MS40MCBhcT0xOjEuMDAAgAAA\n",
       "TqhliIQAP//+92ifAptaQ3qA5JXFJdtPgf+rZ3B8j+kDAAADAAADAAAEMCOP9CT+H5qTAAADAEQA\n",
       "CwhDqAn4LNXJFipwsdR2H8yRU2NcKytW7rYDcv3Mdfu9b78OX3U20IchVxmcjj75EJTBe7ZT1IxC\n",
       "nR3zvArmcZJ4g+cTvgkey0+IendzInAIsVoBzPMEzKKgpC7kzlWGUVfUtmZyW7ceGyCyPh7HCjXM\n",
       "Ep29HyjByjv+CGvvLIAJVfP1voF2ba62Eavyn14nFPqfdRnCvM9fXqWuQEIg5XV2C0V3AB1BPE26\n",
       "CpEpNEvx4S8q4iu1bcvBhQQDs89FiiBs04//fEw1w8XPS4L5T9iT2bjRkh5iSf0t7O1PsBl4nc/R\n",
       "H/pLHlCpf7EG7aoSsF+JiSCh3JKdm+HkZTiFmr6txSm0ZFEGb9tBx/LwsrrY4XqYtf50IoncAaBR\n",
       "2DpShoCD/n3gCX2l/y62zdt6zEm8Z/ECPPxvk+7JP/gZG9p78d8zch/I+o4VaCod2tMhbSMIwxnT\n",
       "VxNKLgQvI3UNDB77++HIsVWf91p7hT42L5Fv9HIaMzZsyptYo+PTfJPY+kLWc1sPsjfsEQfPQLGZ\n",
       "BhQtP6mvzl+eAd5+5P2kDKFFL3twP/SNIFj6nccbR8ya255A2ScZCoY9olp2bWTMwJcaJa9dpI0X\n",
       "+h4R/+oEZBpvkfdnphCmlsrd+QwbG8tw/oaOr1AZGopA30WW76Edcfe2mviD7Y6X2RQoZU7ZMsmO\n",
       "l0J0iAGlfhfTRCBKTTIDkFxqg5lTeQcHrx7MBCNzEGh4+wcWbn+4LDrvUAuz1ld2SsP3mXrTkeJN\n",
       "Sb6KAUSFl51eOkngUrEu0VOhFRXseLBAzwEBg+xW/olufLKoqnOuwuwKw9Nf9w+o9FTbVhMYkjVp\n",
       "tgAgH+/dm3uM82cCQv3pRE+dIEIcimJn80eb31Fc0qe/pxNKnEOxX7ztwlsRfDmMuZo0mZzRO/U8\n",
       "Aw9t/JVbLB/3x+jAL958MRR16VrJOD7R10I7Pj/LonjwKBkNY/KFiuHPUaRqqojxv3Dh0jkZklmA\n",
       "/LpcgT7r4/+AWQG8L2Tou1dQ9qvPeKDxaqpXJLZgc1wfChoDKkaBLCOP3EIfnQgU9Oy9PIw6qD/O\n",
       "HqCBEzN2n1I4feumbK59nkypxgvabFWO/LrWV2Z1onB5otcmCGuk842F8pESVdzQv2kuseaVPpBv\n",
       "GS5sX9+j/ECX4rs6GpY7hfZ/y787f9MqhNfaLlv4ZfylFDnfb9bMmHfncV1/cSUnIafuWw0DAdXM\n",
       "bdhGNKenrI0yLt+VsPE1clBntfPKa+4sJh3b6C3w9Ffo1RDS3G8qJsj8aFK0M7T0x5F+9oY0hvHe\n",
       "GLn/0B7y51X8yrk7KQaV2+fYGHBsrs8tzNgve1fSaXdG82nx4iWnV10HqmzdjM7Db/PAtESKAj4e\n",
       "tE4y+gSCMA4JEyPdoT/wHLH0xjLLUJYm07JCHxSL4ZdrMpQJ0+1Fjbj4FGmYtI4fzTqfNsQYVDlz\n",
       "IMSuEG24GCdGBvIl7P/qDOZG13fUyXIvGC2iVD43Z8g37C3yOjvHFWNfhAms3V2ixmc4KytyokGG\n",
       "bukmNERAEV9fNtWX9YLAfuN8AScYbZljCvTKggK1EzNStZ4ulY2I6Rwg5ZEAov6jEo4EHcQfXuPm\n",
       "lUQvAxS0Dl47/3vh8SiV9a9fHI8BI/TAqZbpDhZx34Eb36iaCwmEEiqzXRUVPKeYyifCAqM19jY4\n",
       "GKSbP6PpPW1Az+X8er/H5/xsoIGN6W/ejCGGvqHxdfhAVyqRDhqIRu9U9ECdlEAEaX1+ETLVQr1j\n",
       "uycjRgmkh7LKawTrSh2B+MlfCWh/PWRQacDtkfOSemE+J0mFBvaZHy0h/Lcxl1YMlcSVSK7AybA0\n",
       "laGpdMNLN461X6gj3K7JhbrupTafAvCT61d5CsenTMGg7DDeU+MG2TOlYGSHj4PQVRsZfeNQj+uj\n",
       "Kjmi/kYqtsPVqLN2dpkwbV7RvY43bYt5ShKRKD061UJouElXN2u4id1TniTWay+hNzy+vnbmOjK1\n",
       "VU/DbLIkMOqZRzzLyXsnBmtXwYJ/z2FHwZEXzTcSCN8LlxgrGejBYL9Fx/UPD841rFzhGmbaxSLj\n",
       "z1lFo1jvLBdCMgB0TQWqRqWJQYUbCMu6+ieggScweoMNp64MzvB7k3q3EbdO4J7y9jpbmiTDQMvd\n",
       "KS388oRy4+inSZtaUa58GBjbgb9h2AZaNdjT79rZM8unyzKZXL3KA1u9d0zqeMMIRKN/ZFVD5a51\n",
       "KPth41sJEbfsjMKBB3rnnWPhWprGu38zhPsx3T3T7N7tD6fZgOkvP85ucye2rn0tYwv1sZcWgo0S\n",
       "6/gDt3u9C1p+fiPoqocdvGqKjvnpp34GkSF13N5s+521Nhv2cUbXYKd4vYBu6rgHauHGkRq+cHyy\n",
       "r6M1KcZQANtnWf2CeMGWVATWKvO7Szrlf+uDsLBzD3+xybx0bK3suTMD1ee5+ajdKmr5aSH6ppHw\n",
       "Uzek16sxxyH5BccJ09AKBVcnuxW8JvPbumU31WIDWonxOmRlL3P8t880D1ybxuZVsrdiM542b2au\n",
       "K4z4t06rd/uJTkNvCTdUTj+kBuUeWXefg20L/kZaMsxnFI+G5Y8T9KLkae/xrRKvAmMtJ1bxh2/R\n",
       "wrCqe5zwvWXm4vlyqJNmrUX7ZyFp9Jif79czG8rBuU5QPvI0Gfiaj40jOJINQhOfKvofL2ekUXTN\n",
       "jiZkZh8gHZ2R2rtQF1+ulPVNc3M5jqqSddJJp2KZFav28gkMX6/E188TpqsYimtyQ2Hj88p/TFTe\n",
       "GNdpUgyQxRk3G5KmF3um8Mwugo1edpTcv8YOeYqkAIb54QJdKPqiVW8Mso0oTnzPxzoO/GVZOip6\n",
       "h9YdR8k3KsTSHaSEFMXmW5eAOQTXBn5+cqvh6Zj5B81cRbf/eQG1/GSZP6aUUep5IcFftat0LQSg\n",
       "zmpoqRDX1r19qYTZv0aH+NpETECvj4SGFp8scUTq6ckQiiFS649HjPc/pKbpdPq9LKIeAcdD+rOM\n",
       "HAynQKbXO7gE8xSkBsBu9SjUTJI2DWDjdS63casR/YXdPL3bVJee5STGxjnuRKOCNDVSUqPcXRk7\n",
       "n8vzFOjC7clpSArbUyDuuTE3rSo4YhP4gpwDyGbzmTZmDIEOKXiEpbydPD+4HyqW3wHU3jcZH8lR\n",
       "Rizx1IGoRLYFPmJYDhHX7jS/r5Mjo94siFWrkffTdK9ucVgese8nI1zsXeH/2WuSkJZZczvzhURh\n",
       "aahfDQdG/2I5r3ntsZSjTjhcmTK9+xW6EXmelpEWojJVJ28Tr7KclKQ0TdBPFy6GhuIDvVkeu7nJ\n",
       "yukBdNGg+ypkt1opYUGNLWTKBrbt2mJk6v8MPcGenecQVTCoKUVP5MADjQp1owTDZuU96rJSy6zI\n",
       "d+HcuWqP9OGxbyEmu3IT52E+wlBLTqltlDiuuwa36UNF1bUKGdz/ztXIDJ7JTW4kf/B6nM1Lrfzi\n",
       "Pol+97RxUtralsePZQZz+IE3vWKFarp6l/Fr+1anTAsk8yxpYUrtQkg7wYabUINsi5bFiwlpjOq5\n",
       "19/oX1jWR1nYm6DpSVlRVdSZ7NewDKCyOo0zG32h1XN48DkqK60RxL6HptPZajnqI4r0iNEC3kmk\n",
       "DwnxzTnYQB04Iot1BM9ftyyVF/rPC5nnP78o0Dp+oF+FdD4IQvPti+FJrjnXv4czAR2ZOLfQUAug\n",
       "xb0KAE0rcWF0a+kMj4BjleqWcOSTb9YkOvzkzTVfIQx8yPpLYVe71qzBvT0Ut+SUUlLIKvSl9rLt\n",
       "OY/dpvh+ZN0SJAu932NSSGf5gd5Wk5OLUZHe4/fwBRzVYEozUw+5gJtCdwo16aaeaoUXFXk5ASg1\n",
       "EdvRb//bWNawgzN+YXSl514NHuW1zlKyvDnEw4B15VBkM6HjdsCS7/G6LOBp8+u0y+59ctK2K6Vi\n",
       "WsVYTbqHmQXPzJG2/rx0y2oZx1kUvdg9P/y0Oquzxlbnu/Vto6+b4UE7Fht0f35pyKxF+kRRvA5C\n",
       "OrrmIYfez6OIeY736or4OG6TsCmlM6vzbVT7pr74dAGL7tuTxFPoXLf52J4wLpSR1sY6QCpmknDz\n",
       "IYRQzM2fw7ddecQv4wy0X40SWSUxQxBcPR6bbWeHy68H9tiLwA5hOQbDdPcz6WNu+Zu9HOoHl5R6\n",
       "RmdH7KleIOVdf/f23qkeJbuU7o02sRY7tvzvXB9tF92iwTkdKdk+NbJPOPloaXFfnjg7O4eIDxbY\n",
       "ch/H+1KcUNoXZMc43PxFX6b4LaB1vlNfeHsLCSj3Znqs2T7t/OdroY6xVKVW5kytUCWnUX8DeKv4\n",
       "i9xSqNuo4IBtitifTYQ70vti7LUjI/OQStH12zr6sCHtOJ5HC9tGUzMEH2tX5i3BZ5mYzhXDA74f\n",
       "zhiBYY5kcp7DSPYayhEBoQcvwdAZiyiu3iSCvIgKAJwo4F7Z6pW/ULwPdMlNTyuNtkw2y1XUV/hO\n",
       "4DxS2a2W9yk/H1/bP8oETWJ7+3ISekNekOJfMWkWYO8/SDDs2fa5S8ENNaZn4lS6/jESH9l+jPAA\n",
       "dSkrCbkNlTXlLFjBkBqPLO+9+rLU98CXTzPc7LmUl+89jyskunkxALW5gC0wnLQuKulWMgJDphZ7\n",
       "wJNAerUhffZ8Wcs3coXrXPg12eOFNgUw3k4oaD3oPha5PMTXDa0GCpa/+I+lY+frDTZ/YLQEr20R\n",
       "lUQYxeeeROfFLPVbLji4pojWlffyGACl376Emg4C19M4ygJ4axjxrTILsu4fNlKlTtK62Ov3FFfQ\n",
       "aN4UWhlJLpEmBYRemCBLiz5Mmm+nvG1MXIOpeDYf6hjhtEqWkVhSsKZ82dOjZq/csE6tWa+hVmgy\n",
       "JF2Z46lFPdKCHXndHv/gpvPRjtejVkZdN4qH40xV8P2TQ4oGqvji/6REEya/9uG3DhomRB/YiHsO\n",
       "QbD5SoVzqsuoMyS5Zlh/tK64D7d1OTvw4lvsvgRU5vlMeJdWWKR2kmpZuID7J8YyD+pVG384yiw6\n",
       "USY8E1ZPmx43o9fWQFaNyNP6pp9oZzYOZhwRTvP2EzcOEtVdBjqOvehhtP8mD+OuhojzEqP4Mmp+\n",
       "yWaZ8k5fesyoRBTgL7OySSGblTf9I0pKgZVtsnALP/jyK/tI2H/7rzbA4NUQSijyXJRB6mWwAOuA\n",
       "NI8KV6zYf/miMNQj9OAYjlD43KEj6KtpND74aM7uBhNws9EdkIy+XWJRuUWrx7Qm5MOdaD8Xh1vP\n",
       "OYvgdVlOkoypj7xEm5VVpQE60BVyUfjln2AOxuWpWMA+1K98FjfOaheyr6eE9pZn459OWNbhbJgw\n",
       "WvvoL4heweomBqySX2/iVRUw+ajQnxZp2N46RDX5TUXgvMBUp6HXhhPAOS/x9dOzddpw0k4I5C2e\n",
       "7GrGoUqBZZ0jVXPtBTCexaWu0pxhJXR8hOfjtbss3/qCMrYftVdGv69fk2JoJu4C3Xt9OlDfrQVZ\n",
       "1HpCea6Ik1Cao8Tj5/MAtJXUxGoZIBSRG8XbcTeym7NxZeecrcXLSMrF5kc4qd9l8qBtXaijPni5\n",
       "Z0cc0SnPlutpFUrstVtAv5tVAmeZXzvnmYGy+jKlC7dpdKpv5gGLH0/qlWU9vH/8QJRXgCQGm2vV\n",
       "8yMoO+7Z+ZCzivrf8VHEk3xeCG9g1pKZb7F1cXlmC4HiWy/tYvb+5/bXh4kPTDLW3QKa4hNrJtdX\n",
       "ZWYHrPrE7H69bdAUxjVS/Yq7t/lJLQ5ccM6gMa7IsWgFAgF0KdvYYmS3mEZBFz/VfMRmT+mModfD\n",
       "wUzP2HdDPg/vP6t8iQ7ntwo2CBQbPnsc3Iw1F1Qb9PXpamivObwaZH9YzNTuXKTrbQwA4N8rA0pL\n",
       "D3OKZuESzB0Iy0pYh5+tWpig3qp3IjE2vP6/pn3DpQPLarSUjjq4SnKv2CfkF1XvefJNKKdWrZEg\n",
       "YBsErNW9qTVEroxLoo0c+8nBSy787K2LJUwGFJ4Mebme3QgQWPZXabCWodvRkxMN0mvJ2YsfNgSx\n",
       "+MYu82pY1KtV2gmk5kWAGlaYfH1PE/rZtdsTb5e4TTW/Db4+1PAAmA+s/W9bOHL5QlYRIZW1rhlh\n",
       "xJ9I+WTqF6eGt8K9TQ/wQfWD6XAfIm+a/Xu6Wiq9AXWNvrAAQ0/QXt+lrJCYGwnS3ts909pK0g+x\n",
       "sewRTpMhgH4kYF0xI1OFjLTlFrMGwclhvepD1UbR04dRFV//9OoGj0zfH9/y0pN3Y68wjV/w5I4p\n",
       "ldz8plsSRcMRLVF4lqqy0yhRkFhSUk/yJyJ40/oNr1wK/Y14zP536RHwTmKIeqj56O5g9BGcHSPt\n",
       "/YV6i1i8vfsBSA9WC4mOdnM7qFEs3YwGQSnnnmKs4RYopYGYMIpIHgJ18ZlDYwb+rL7AkthCbCjf\n",
       "Ir6X020Az62IeUS38Qj6BEMCh4Wt8f0JJBLyDjoCPHcAnzINuiJ22JBVZVrQVV4G1Rg6frkMQz3u\n",
       "Q4Uj7fI7/zjHxdee1X/9WazaHRAPpZ1d+ma/GbzxAgf9NCwE64IZImHlfe8AWb093rXDwMHlsZt0\n",
       "91xXu8spwdRss7uKhfpf7080xPuekR9W4Pv+err3A0WarsLsTxFVlJjlM1Nx6+erxF3H+gFaGoH1\n",
       "RlZlhqZZp8ch180Uo8Mjt9dHW+slKx1Hyurr4FyV5WvLQPHb4h0C0W70dPbp/nWem4LTZu/GbP/r\n",
       "+BICSTuBLHrOg5zAXY9ul6PBrs5WpjWFiN3cVKNQBhmNPDyVbQDltdLTtFWTi0+A+Px/DSXbU6yv\n",
       "WwFgUkm6Fb8+hjE6/OKLFcY6q80zCM3Zt80JE9e0mBt9YELsBDW8PMizMRP6VqeZmReYo5g5i0U2\n",
       "45huFtAgv2q6uPh2FWirvHCyOKE7h4I8DsOGNdp6S5wdULPCaEL/J1o1Z7X0rNmpgKf0PM3y6/j2\n",
       "ByvjsSdV6gQsIMHNXFFsdohgKTa0nIRr2GqrNz68bEu33lWDbHIDFv8jwc2flL1HttQidzcoWp+y\n",
       "Ww97PivEM3bt0ZrvecOfRk4dQUfTAOSsFr6v4gSYpKqH7YC9izabIbt/WVSgpmuCQqVekH6+4G5T\n",
       "BsyoLKrQo5qB1TOy28FPfs9bZaZJmIWQjNoh4InN3f4aG0hS+qP/3mttwB5gcA3OGwviqgoAtZ5k\n",
       "hSNvLkUk/kS6HZm2v0MfeXPBfky5UjJ6c6Oxi0BxuHCFGpThOFLNUGYaaElrqLYxjynuzyjCyvGF\n",
       "UdOLfIsEeHboIDzdpWYLkYykUNN4Tu9x4YZ+Rtfl6KQyZqT+FlWgn8h3D05CrFpZ0IHfUlf40x8W\n",
       "y9hoXEmjDh0DPRiYWMmAUqzn+TAvOOO3Jp079RcISYOPb/3WGvZeUxSnfREg8Nh43zZR5cAzYlGc\n",
       "F8NwkYpPLOzPEyW8w3YhltLdr+7UJzClx+03DaVL5SRnew2C678kaSa8i4u3Xd4TRPoif9XTkfzc\n",
       "BVb6rdyxLnnUfslr7B6qrDSCCAJEgQ/6H7GVWjbFO5qY3VGjowS7MUERveuxyP6qBC1YnSebvvu0\n",
       "4nREs0sBzzFhmSIuAglap7SR/BktWmhSwzqeOAXZ97uyD75ArKtcrcAJdvpe5qk40MPpvIh1xrr1\n",
       "xpmFvfsV5PvM6jGusJzKYLPP/APfRslzKhXfSk+RtVNr47YGbXMjZ8E6U3fchJLQD/y8Cowk6nlk\n",
       "18mRtoZIXtDtv3LxUKtvWeZayEgmH+5DuNOJFebgEAdBAO5gmEWOyu6hg8KtYoNESNVZt9+uK1Uu\n",
       "CC/88/3HZJffK7rAjTUYXJCcX34ka6gvSfF1DT+jwMXuZNgAgA859E6V2Uc1yZL23/OyoI5Ji4XM\n",
       "69eIZ46/r6Usi+YM/3C/vJFwPgFsNvG+oQ++FkDpyN3r2Bqcc7HBj9JPIWUoHzE8wheON2RyAb9I\n",
       "n4ox4Gvb7FZgieuCZ447YISn/7+N46PvmOEOBccFG6oxpkWKTgD2dk5xn/4smtbqfr4QBtv1DKoz\n",
       "cxlFabFXMeP/ykD1x0unE69WI9LVDEgcAYEYazlIzQi/6f3cqgm1RpD7slSQ7qxdQpvI8X0pDVOO\n",
       "ShL6SekAnIWk5D9Q7QikmORCHb5v5hULgsT90gev9mHXnaDQ8MaV0S35Mza0YwFyfnAKO6AGrBqp\n",
       "Qgp25xKU/IRenEU6AUVau09Ow3JAoaBvBNkhpLCIUeYpiFjij4B1MW/iSSVfALW9xos6Ykbs1q6U\n",
       "jnY202AN4GiqjVZyetxfrnztN21OsU8+0jFZ+tnQ2TK9ZZEL1dqR/HgooBw6mqJqtmQSiyeAR7y+\n",
       "nlocQpVIQUeCAz09DbjT9zizNaaH5oxb2E9cOvsHiFljBGUQDy5DbHbUaOYpPfQnA+YPK6ek72Uf\n",
       "H7HunMzVeeHndcDUx8wcPhkbDM/2n5Q+gboW7oGMzoCQU349M+rLwjHc0c5zwlokSUjCuAaDNBJu\n",
       "3za0PKq2GzRAWbEHhnRp5Yq6ugkUA4xAVv6bCQBhx0Gt6xrk1021RfRdcyKXGs7YJa4DPK6lqk78\n",
       "jVmdRnJirhEbAppxEi0zIwlm404GU1cWv1O4IBxTiAE/0BcTH8qPginjUWcCgarSBLGXUHOG/5cD\n",
       "xHckBM3G//Iwm4zjbXAlhIWd1hPfzxZqSLsvkuglvkImz722h04rSH4y229PBZYGBkdc+lVXBw2g\n",
       "ar7552QyciXL/3yYMlCE4Qthl1++SaX670eRnC+NQ4162riP4tK8dlJTR6StiAQ05ZyGFEbNSiTd\n",
       "03AnqXNQWDusTHp+T+0oZzKFMkeb9fAz8F0akIM+QWX7X0O4nP/ysSd+JD+d4BwuSpx8jOEr+3Ji\n",
       "Qto/U6Gawtihrv7/Px50Yy4BZJ4lfpWeCjbrRPAMONUVMLfgytUZnEyjyHXJCRndjsNR863MIYkH\n",
       "TMSquAZuALTq/H7tiWpcNVRkixd8sPBqOaMsVcVERzdYhbfT0lC8Vdt9mmblaRDTZ4+aKGA2FcuC\n",
       "V9VW3xriIQPx5RsGN0IOm3/OS3G1gAieQClrhrodV6BGKYeRCAAp1/J7wknnEsoNmI3pl4QPk3hP\n",
       "NmuSDCu3TZy74ok59auP/eW5alv730wLfzGBJWSDaPW0ix1ZUAjfeINwa33pT02sPAwyDVbl/+YI\n",
       "iP+HpACKoVj9NRKa9ngXABT3KljcdUGZR/7UBmznV/0iq+oaFTQ3Z128zqqecs/wN9y1JNf/LijB\n",
       "G0wvfBsMmjrvCEAquw3Ca1JtSrRRopC46HCg9RUCfJ6nRlKTCZ2/8NsvABrKH3ybFdKUzg89gpfr\n",
       "6hiFV6kctkvP75MxdghCfyb4wxqk0oi2AfSAK66javrwF4ZPz2H4HW5SxpvN6UdYLHzKlDq4CJcF\n",
       "kmjMVWRrcx2T12KHDLjiqvinC5092MPb97Xz8FDmFXyPLCyyWclnDherduwmAtz3VMnz9gJWTLJ4\n",
       "ZdTnBnTDsxOcH4I3xc3towed0EFGmYD+ITswX0nUsHjNwJmzniPSkt9O72tgoKXFMakBPDS4Qwry\n",
       "m/hgZVFE8V0YydSprXId68z0x95gCZ0lpVeSucAtNQfmHUZ7AgAWEIDpebJ+w/LeUEl68rQq93yn\n",
       "qa5tUTcMI0ir1b9Jf7gfHRMepaBLO01560igeEOH/BYOOlRla9w/Lp3DISLaWOTPT7epjrJGVjI1\n",
       "FTtZpppsrC2k2IF/mPes7H9+8+5V84ihjj1ltt4PwBdQ01Fvuppo4cBPg6fIqnRAVbWteg6+8LSV\n",
       "vF226LVWsyR7GaZaMwTJnDugwK0/i7JjfWzvzP92CJu5RTQWeOkCjO+BeuW5lHcB15pe0A/sbAH4\n",
       "oHpyv2Rv2leJ7v2MM7r+iToE0pmQTgZTCl3bnVfmXVmsxPX/nG7LRh0XfqaHV3LU1KA3+3/S3sPC\n",
       "3fhO7iKP9zMt5bQy7ifdQr+pdnGm/LHXKIBUUV1jj/6V6vfnVp3+FAO/SaJC1o1Fk+nJYq4xYAZC\n",
       "NcI5hbTa4aDWucxrESC0DxhGwx/rRZyXlo27Gs5gWdn9ppJFzB00WMqh7VFcprWdPi4PuII5dsoG\n",
       "YmHeJUGcRSXG8m8wmJ1SlUF6tLl7sTHQI/oQAQ9qNqfu8O8qZ2IZMTPxV+Gd87XnC5aWBbIIROpe\n",
       "pDMdqZ7PJqLLi77cV9GDsEvQWKObiyyAb8CAf5PfRIOeDRH/gEYEnDbp3+FX2914o6T8+S4ffuuR\n",
       "sFb/q2HpRQ/V+jTPfH83yoGF1XICHg2lTPxn01GSMk51KSjLU16jTqROzTACyU9DPQtNtX5af0C0\n",
       "0a2LfQxNiAMR+sV4wsUIAd7Ppm1h5SgnDovdhTJk6XNcATOSa8LB2KOzT6GawnqZGHhPVA3F4UyJ\n",
       "IlkoaexZohhHPJTvq3w0D+y5kYb75vodB404rzIdtYqSPqiAYSpZc1hJx2Iu5v/sw+uQ6kvPO5q2\n",
       "9jJeBv/C9+3q21ehJLYiRWY4IgCMUktR8Y5kOASydG7mO8gUjgep9WdSAJOp5sUmZgEeJrOrJiuC\n",
       "KuANgZ2dfjPDeLcGRltnI3KZjJFxiq6Bog6vVBJ6jzfis9RfHd3QOCbMpDJgtF5ydjCgKkpxkY9a\n",
       "wq8axIsZcFeC5fPxn5Z9foWnF2+1zaiNuG9uL3pQXxVzUeQSYYJ7+aTvPBTMh4uEdMEZq34TeuAM\n",
       "U6Q66+3ESlQhW5+cuF2R1DIsoruF7TCflZsJYjZLu6zIW4sCNWrfE9uC5hpXUsVrp0o14hB7Onpw\n",
       "drbgLM3eA2hFmgFUMPw+geP+L0IAJ9STp5kYFZ8FfBlaEZFmS2ItMZcdm2igzVp/QbTH5dk1ESkk\n",
       "+9Owqe9Ki/ewFOwweCiyBp5JlvmG1op2N3qGyc13K3F7Rep+L+q7h3AkYed/UfIlBEbIQRof2x/w\n",
       "CX9GoHkcvaPwyk6gKvASUeXASXjyUtuRPg/sb6OHR1Ri7Xc0QUW3a99Hjzs15fDI7bee82aBnur2\n",
       "S3zetDCOgdWEnE7afuGxGVhwqvmkB65CymK+RFI9GN9in1YUMv3tjqT3W3iQLlIscT8V82pXlyIn\n",
       "6FMLwRl5NcB2WA96d4aGtRhN1j5Ov0MTQ96bbng5LrF1ysCd1uo5BGFfnzzXSgn5Xe9l9WSogl8R\n",
       "s2az7nlihKX4QwA6Rbxr2hiyBXgeGplQsH/avIi97N0HbI9J+DnFo5L/A9qxFOnx5zyMHJ3h+P+f\n",
       "vlTzsDbKbk+OAURdnVNZPCXg7COBLqUyvZtGDTgnjMGOdmcl5H/K6p+oGlZJ3SGun+y35Dk8I9wT\n",
       "ngpb7m3ulxMek6wdyJsk3NTg5Z+yb+UXWhrFsEGeuiPjMXVSzEvV8BtMsZmpkGOyYXFxuoA264/x\n",
       "frbx2TbXR1tcPqxElmD9TqnrSNM5QAoD3VzGc4hhdaqElhDRpPCSUMUyectCIebLInF8cgbiZHqP\n",
       "0TtC4mI4QinXRVdlDcT1VnUe8cd70LIpyCQAxzXWvReNJla5k0bI7RdQ9MXp78t0GmKy36e9lAQV\n",
       "iRtsDomQm//2aHZyWYuZfei8wJgSFBDVMKq1hv6coDcxXhy8QSJ8Olzklt1qZMRCujObO8ZE04vh\n",
       "CLobAJ3ftj3D3Mk80wog0RfThz4BeiEjUW/sVEeMQRl8eIPSIqaN+0gZwpPxAZ0BU0YmKRKLQ3yp\n",
       "R1gToMHo/F8Fs8+qnw9NiCLBborLq/Ms9JoHaHQd3NbkCMCQ59L9uaNWxim52Jq7ftTCrgqxbM7n\n",
       "Jl35yhvYrI2tN0YPSkDyzS0Eb4xVtn9lcZi9OH6WgWocTD4NSBhGxTU4nK7YoAa/8YUrOWvIFTyB\n",
       "8akY861lGvafJNfJDkatXvnKXIOCnXj3bJfWXYzUQMyvbmbGZP7eyR6TkU4TeAP6QEMZfmIwjlz1\n",
       "iKfcCm87m9JOPzGwOGiE9iJ7plLh8eHD6LV+t/3XQe976dtXtZy3em3JnHmfWBw3y/f5RYrPdihl\n",
       "YXhfmj4QIgDyhKBwXy9QB5/+Fdq5AI6NBBPwsNuBmuQabM4lPQqQ3B5bxuxneaK3Bz70SSbaGVdi\n",
       "921nQpWzAymFoNpHz9BaoNM8f+Y23JeoV1F/65uQ/EDY3MKiWN0+jYy+ZGH5cyvAsbe4XEc8PHF7\n",
       "4MINW+3MF1pb7MCbJMPtZonL6nUBqX71vqUJJyQIYd88F/N7sRNNEswzTZMA7lEEM/4fIx5yfBnx\n",
       "WQK/WMJ/Q7aWMiUY+aLKXfiiJNIV0BxSAZdZl4TojZgWNJ0ckN5YL/3H5UZQuGPL5UHOY63ewN+s\n",
       "i8o9MmjueUwp4AjnNSpN80U1yAoHMiSoNW/n80q1J5O0oQCvhJw1t4KEtYBYv8cFjKxJLwK7tMsP\n",
       "kjCtbaK5y7pD7S7ZUbWfWg6Bw7mP7IdEqmn9z1eg6yAO3G1fkTDpvNjQ5d9LtPkIZS+hh1RSMtGv\n",
       "6Ah8v7rf5Vl1v3IWnoyT0BEL1woixgU2ctCZIKU//EPD/8a15qmw+p/EyuAj7knhrt0LYJIf7Cho\n",
       "QtobhmGYL/797/JyM34pKkp87ysWn6UcEcOu2cYmtRqOurwhv2LZ/hHQw0bAAoFJqmIKB9XSObkp\n",
       "Gtpmk2syWPOeomyNDGWAhTVfxUF4POW2kYIqsSeAoNznRf6epRd/bVdSphjFOdb1iA26VpXkIRA/\n",
       "JLPBX1S+L6VTTwkkSyacLd0KOwkUw+i4ic2cZaPa4s7ww+wQF+SC+zNIUKfC6V5DzwUzj+7eYqbT\n",
       "nzy6WlBmsH/473HLO2pkFpJXb4/hgTBIcWXFDN7cStNjv3U31rf3nmNYwz+q2fTDXylbyesW3DU0\n",
       "/UwNxBPOSsg1s4AEE3T+PRMITuckYG1a/iErxrPMX0kwW8B+YMctO3hbHU4cRM1oO05eMIup6VKH\n",
       "5A1Bk1bfHPPgucdkZXh/KGFs8MeY3v1jKYEZKOap5+LRErKiN0mQQjEqW+RA6568IEOq/97aN4q+\n",
       "fu9rR0LVzKRljkbTxMZ/beAO0orFNd9W9GTHT3IeruByX28UIpNhvhMv4FiDmZ63YIIS/r7VDe2x\n",
       "tC+1QZd8PPNuXL+ULRZILGH3q6tfPQ00uWHbxTiBKsc+X7jX/8vxP/FyN0qwTZ3WfDsjvlAzF1mr\n",
       "APo65mtenexr17/xi+F25KdGJ3NSigcuP43MPLmXdJqd1lieGiy7YAWfGKNc7YQXaK8LdaP2UPVr\n",
       "sa0NSWnrOhDNcXfOhtuX7o3VZpoidrsnae5JbZPdRjqMuCrU4M3uDettZaCJnyLprIeOm1gNsV7t\n",
       "2QncOXwZ9gZWyNmb5tMiMWrVPpptEkeG+PwW5bRaItyef3/YTXZe+GkePYB/6Xp8ZnLbZpRdrBh/\n",
       "Rr43f4tA30/tOffhKdjegcm4Cfna9QzlrgfMIELclib1IFgsA+jPNSCghoAHEqmm+XX2GJpyI1ux\n",
       "G9j9TRryS07JYV89ob86l+o0yT4vkNWUF8SeQf5UdZ5EVxLjhxG7khvoIFrYhfys5JQsZg+rz/J7\n",
       "x96DdwoE508Tqly43/NmbHPofFEL6mfHtyWWWaaKuuCki9ILuwOMkof2aJpXd0Y8R2C4f3PJ+vS9\n",
       "T0EW6q3qT/gB41EOeeCjZ9sn4NKZS/NCFqFKf60/UrVBQ7wDjPMvLPsQS9/HVChvBkHaIf3K6mRO\n",
       "vDnNZiOD5SCl9G+oMMoEVuYk2fmTmSYbsjYbBB6rMtAUou6iFrb46HBa1+LSucUi/B6VcVtW6zNN\n",
       "PY0eH2bTVVbIz1UakQ9w4yw0+3JXCDJTpn3BuekU83hR01aXikxmw6/yEcAJ3oA10oaMF/7hMbVe\n",
       "T5HSk5QTbydDU9FTBRGivFNiq2aEeM85tFmhLxjKgczzmmg61rw2lt0in83B1BooTH6uZUdnkfzV\n",
       "F++6aXYBQcqAAqUrqEemBOiPUXQtnbi3gHi7oFtyv/cwotMOTJLK0dKqXjrajkZQLgCkWy6JXLIx\n",
       "BECIVLktsi2eKfW1vBArJx8fMqbRb6HJ8O6RmjK/TzI6F7DzzFihTEIqdSxMC59+1fZE+UND8f9w\n",
       "5AlrjnLSYsJW1HxVrS3F2vCMZHGLHGAKZoM2juE8dLFTktGRja7zSjY+nLvyK2N3vTHgH6PlBFaJ\n",
       "a1qzrGkStM/da+awtWuKP5HnNhYF/fH2H8imUzSs+rXmkE9+R2N87eQZaETtQfHntZuKFSGMDAvJ\n",
       "oWZa0A+dHIYvnRAefDpfJNXul/KFungCbuafBD/xO7//aGRqf2jMeXVpR16E57wCo9rPs2NHuEVA\n",
       "2ySTyWaD4KAfDOk/nZO067rmH6dKLnPWBJnEMsnPtAPi813YM6YRz9g2FqPmdfcNnrc6aRFqtfOb\n",
       "jMP8HoUhoNuph1fLhJLXulGX8+ezE+UeEGTPizMuOg17gFk8hpcMqq1C0dsjOPgTMTBdXoMhIbll\n",
       "mt3rfUwVOfMO5S4GTJ0qIOZkV77cmWWB12I8josHihw2hiMhl3dKNTj7tYD/XFywDPue5vtyj0sD\n",
       "AQeQu9ifvFDT/YY4LMjRQ6B7fgwWteDV60EABf26389XaUs5jOIBRwmYaCtqWnEXsdFcjENzFSPi\n",
       "bftqsk2qDu7VjAaih3WrZDNf/96/CVmlED4btlVvX24OV0TwH9EkTw7UhBE8Uokr+elaiT6H2sPX\n",
       "qBTxs5II+2JLkHS3ViL3m6LORCRXUl2nOHtTjVGbDhKoDT9D42Nwqt5qQHKrM7hH3Pdgr6SdntKK\n",
       "G3rxctUP72I5bsh+bSfaXNtl5+WkYGe6gFFzkbdM/9eIHYrvMgWmoGr6MT8/Okpst1rjze1trGNG\n",
       "69Cweh/hn7sX7AjyNohgFE0vO2ALrY+GbKmcNsspdzNFWj5DzBYm9B9ziGOVZ79ZTkVSEiR2Z1kF\n",
       "b6nbpecu/sT7Hhugf7fNFdNtqFx+5mtJ3153if4J4b4Eh615FfeEuvme7yOIJw4fmRd5fPHDGqI1\n",
       "HoN9r0FGxz8Rp4nhNJtcwBHzDJFpcnbzaLHJlKEqwup/nSKVspCIpFpw4M6QwisFyT6MgUVJPH/n\n",
       "z1jgX3ycNWbMhFv+Rc5T2paeqi7UUdnoVGbLJ8lvSwViDc5VVz9ehRkYX1OolUGSwvUMhRJ0Fecg\n",
       "GlIWqAAPvG80Tf+3syz0/zknBY2O/8vqPn0GGwxxyItpc2H9FlBmmNoEi3Ew0jkQUBS+arxEeh51\n",
       "g+y8C7kG0I37pQSEfWjQ+Tw0P8BJOZdwJDTtBBgpLIusZAhJkA3gufLDtnqU9NtTdmDr0QgGQJYd\n",
       "44fS98AdU83pqfOyw/UsDV8Wol6ogQVsmXj5jDjJ5oOoJ0UxgMLesMqqrSCo/XpI+jSe5HanYztV\n",
       "r+QJ6Ah+MKVur5Ju9cX2qEbawkodQLAk/oAXGx7HHF7uRHVi5qwhwe+BApBh0uEhQjH+l0MvaZgr\n",
       "SwO3DcaJIKVWG21zX5SUwDGGNTBmENYiEbbJVxb+ql/Q7zMbM2O+eGR4ZWkcMcdomuvitCQZ4ayS\n",
       "GZ4j+0yEB1OqV4hVTf6lEl2TiJP6w250O5VOR1mN+vKjmzyNzeIRro8kQ/xv+dEt4cSG8HF0EqgR\n",
       "9tTZ1EdXmjhP8KrTTk/+pq/Au0NXblH3kcPQlGUN4UWIiq+pMhDLxOtBNG0kPAidtZktvQV3ylpT\n",
       "Cpkv9HIj5V3N/eICq3ymRwQ8eXbGOH4AxLPou7IjEFU8jMm+fU56wzT8AsWObrR8uaVWp1fuPUAQ\n",
       "N5jjUpTV6yHMeoDXakhpIIIdKrZe1WeqtpEt49bghopYOc5TGELmUNKzw/xPsKV4WtqrnsFCcFq5\n",
       "PyS9T1gW3YbM3uClI0aN6XUKq2Io1+Nqd+PKiHzLwB7XmNeEwkIPKILz2GeU4wzudCLnNTMbgYS2\n",
       "OMNKPJ4MM+nei6ANdTBxMyrmuI2fY/sRg/awOQUF/LpDLq+54M9jEZUUtEkOCSxODfqBcSESOXrR\n",
       "tzhmH3wRrkr6b12TQzAon6AQJzVP87UwaTfYaVrKpLl/hyp4ws5gQL9zB3N95Kcm/GHLJukG6LOk\n",
       "HhN9gsv5CcxuvlaLhlRcHzlPQkLYqT/TSOm3EpJ+tIHQUAxl6Ix9RJXCMLWXiGI7bMURztOxq0SP\n",
       "cxZyfd+y1LAIq51s7do588/h5Y6BRIRsYnWdpxUzN4rbF5EBfvIjFOFRlpuPf/6KphtCa1peT0aa\n",
       "rLGxx/6zub3+5q5MK/KDTbKfa7JQSgAfL8UbzAnBK4hAr8T/khbU/kLiV2AyDZ+Wy3j5/6AuZfJK\n",
       "MFAIkkJGpRWHb2lLzNdiyaC65YuHgMIHIjvCgisAeLNDU7lrUmdno/nT/3C2bII9DzH0T5EhRgwM\n",
       "LlsCDZ0DYLhgGujPGEhQxR1g8WCPRLjnYW1YUMHcWtvFmi7+CWeoiQJqj/TFMxpZF6MLSelELU3j\n",
       "oBhZUpdxzR3oW6gP9Xa46gFCDb1PSEQL2L0PINrCPq5+F+LueKyvfqg/5THaWxwEQj+3HCXLPNVi\n",
       "vvFmcMM7FFyeCEGpcW3OeFX6WZo9VWKjfFCfBuIlBXR1+fiBZMvNxIzJoknoa/TEEmB9uhuHlE9k\n",
       "uhorTXZZWE+gCSmWBEP3+qPVJs0azsQ3Esqbi29ALKWKkVWH3gAmdQLGQRpYxVrBu2mumKtWWP5Q\n",
       "4ghfgX+Fn+0p8ZijQA4oxa79eSZNxpssTByzG/ZhgAfgviSpqBjQYmTlkOIS95z9ZsLoM7YC5BXk\n",
       "DatD3fYcrvAMrQoZuMWMpuvyBHMdhtobQ4TNFKx6cXNvZhMz/HGJYoslQSgRdsqmwEsRzG6LitWh\n",
       "PYxY3RmHD7G7slz6DJSIYbmJ94V+hgrdWZLtvXC7bRur4R55ISNfXNaSAHy3J1uqG/+pXcBbGpqH\n",
       "ZRD/eI4Xo7M+Jc9Z4BuismIz+NibXiYfo1Q35E3n5iSl6hV59PVXYXNbCsWMIwj2yC8S/vru0Df5\n",
       "XQzYX4Nt0GHN4X2h0Fc5FY9YHbqje4Nx1/SvL6qpEGPWECMZ/o96MBstVP0rwOXhYxJssV6iRn1b\n",
       "RDeTxPT7jkSdBI6VhAVi0/xPjbd4XW4PKbJVvyzIg5FMZc65f2uKRl+uQNmr7C9oylbu47fsvXrc\n",
       "zx2mgMBdoJ8zG168SoSFbdZZbxSeKkGnNyink6uSTw3c5W4sOKK+xSsVfUllzbYuc/GNztqA6TFA\n",
       "yoCczvwwffMLgJxcwJ4071go0eGcgL4HoVa0g6AOqPuGrXOvkdJyR/ogWX3YSjEgJokf7CO8dv4e\n",
       "ABYFEW8IGWusi9I6TNDvnhYYbWF5y9KfJM8vTgoFSKs3PDeLDEDJpfbABwMi9nStxUqYjJFCdTbc\n",
       "35mJCPj2zG7ULObjOHNOKyAApVtEPJi3x083WOhVmyFUqGcg/9k30HKYo2hfFBCraeubKwEr/p/z\n",
       "4VbcWLcy9aYYm56k0RPChba3AAJk8Eox0QI3LgXnm8pXm9fNMwWH4DIqElzGr5wDIXY3fYZyIYTX\n",
       "ltVfH1XlgeSLlnyPGHqHamY2fZnqT1QIFKZ04CDg+vRIt2I9e3JuzDFuV2DkY3EV4HiTfPbvvFEE\n",
       "KItoETg8VaKU16SlZgpvgRYkXZH7fAcX9fYAkJ5sZPwCG7I9bo9U1y5O8y9zhstfrnqfyR8TxZ/1\n",
       "w8IkzFhdo+r9DC1WalVbLfsFMLKdPMvUADxaxQ1nqS+9bzgofr/6FnpfD44Vn8XtjSKC7uHgqLWq\n",
       "aDgrVMek7dchEu3m4vHPiL4NoQEMILklntjbgEW24OMKo+aYSC+oZtBCR0YxN/fjyGXzUCxd81ZC\n",
       "wfJ0gxfpvzDlREDtCBPupo8vTz0V0qRqQIRK/xvpjIRqdSjx5qTYHECcHX+dkaDn4rNqbASQi9bm\n",
       "g7MBcFsfxH7JkqCQxJpOK+g4mjAmRredLm7+GkRjQY4WaUU4S9o4lB/elJZRIIuXnyfOxG4i9Xwq\n",
       "+d9PfY3xGxShfJrH1fEOF5VOyDhdPG0TY75rSYJsor4MNRSpLdJxL4NTIs1j5q5me2OkWv9c4+4L\n",
       "fq5vLQ8skkhVw8Pmg/BqQgiERgRAYC0ME+hcPEBRtCaf6nza3cy1GcCHFY1r8+uRNuvJBqhU6yF3\n",
       "Jpludk+kzUkFGeB+aXt3DUEX/zCcH7lnQzApaKAVikKMWAZ5WRh9A+GXpmYj+ix7tCyVPNHs+hHO\n",
       "+r2SyzHvnu6ZlJyY4zpgBeFg5GaoFMScOoePkOF/+NHeGxAln+lB2+1X/1Pv24PsutZHcUHtMFvd\n",
       "YIMVUjYt0Yta17L4ug52lKuLOq+lwhSdGX1TNHKKSxnLGIKY7LtREAF4pNizJiRccOt8wkCvCCTx\n",
       "3NXGhm94lQR0qumq+IkmgQX555C+z2grhevQKVbPcd/V+JKW7B+ON4NTma36SnEkPv3r2VO0vuJ3\n",
       "7bJYxJEZraOElmUz3nJAUAIxv0Qa7OzCJyMtsRfCuBSCDQLC9YoM+8qsxXcvpsBQ44kvcR6Npn0k\n",
       "7e3kFi/NisVhl/xlpI47tm5frpzUx3MYUTN0zJ24V0667JKw28V0Xf5eQg8Mp6RkPrNTDn44VNV5\n",
       "FpSTgaBNTzwPdJyw+iZXAh6D37k0RX3G+8m29IPfhD4TUrtaGpugwCcrFnniGEK7UlHu5QSwhu9G\n",
       "kqE18PfVz+Gtu5s6Z/b11MUh3ErkX3solKG+9NES5ogNx5RKs9hrmpj6ThDSfjds+2oaN/uHWVC0\n",
       "8WdJVWw9bA3R3HGEpcB13ytSFMTJhKDr1qIpjD1pMUtC08z+n2r5VPs/0Vuts/G/1JxfH+ZXBy94\n",
       "3HBAUDEpM3l+307czPdAr/5ctfsLHBwcTxmI/2I6I7X1u83oR26pRHfUyiYvByI9wcb1eRQkLkjl\n",
       "cm/ipjBLxAqirAU6XZQjoG1AKuFC94C7hBnEyfSG7hRkSx7T31Hne9WJ7vhS38fOBgtB7amNqvKJ\n",
       "FDN6SpVjG1K5vjC69rmqSqDhloAXwQMaNyB6qiWefgEkqNQoA7Euelxpi6K38kQnO/6UdzjmOr21\n",
       "z3fq2m/PqqgMQkHvFqg1fVVPXxY2t5TqVxDZuYv6MW1yg6ELmVdn1MfmUSx62N7wyQRwHBbNPdQs\n",
       "5qDBjLMc61syTmNdgqLBad/dGSoDIHzPKaR12gzcRhXbRdMnqmXtfxMrB1WXSBoaFeXKv7F6yqMu\n",
       "zy0sEehbEhm45PspPdSzU7t+4NpjO4lOi3N6ON9/HAZ4u3d7lCnjSMC8YMPoH+5vjO7kZfE2Y/6F\n",
       "JSnJNu0nT8J36UjEDW/MOxte0tGYsik3Hn5EmXgTdqhScHBB3yc+wLgLkWpFpvelaJW+j+5UqQYQ\n",
       "LcjCBlqSenZ3Cjl/ZdF8aa3s78UrCfQg8zA7zs7+RAYbu7U1oPnU/EoMC0oisgfJbem0kPj2C/v0\n",
       "9clXday0HPIWkBDzPhVBjSAbyVsT/xkaZZi/kLhzdfSa8kRjCWEze0hXE7glOqfW0Y8zUU2s0gm+\n",
       "ka+qB4vuoZ214vqVAJHZlPuWK+3qi/mBSxGP+iPF/liwMa29jmTS/NXlDsZ3P5oJcNRamOZUgBmX\n",
       "O9OOyRkgfQ8s1ilcWQaUKlWM95efgulRJzGfU5dl/nyxp+KMcpeq1XMFgu0JlzdiwI1tl4FPaAdh\n",
       "qx295Y0FFqaVZB65tsp4R9slqxbiWdZshdaFEU0myxFditwBRVZ6OUz5Hl5AbcUYqneTVPdrsTEw\n",
       "jra+6qrAdkwh2V689yV41y2AO8OrSHXJ6SHul52ZAzmYu6A9C7661O93CY986bczT+KusO7+XygF\n",
       "+YLidbWlbsaefuJA2fsTswiEsiuHzv2rJ2lj0TtelbJF1VA+WwCwPjtsf1m/tbbHVGW0A9F98jg1\n",
       "UPM6+L2ebqvYCxHWtxWVYkJtQmQYQwoynZZpXE2eonZiT0uPQUMsQMH+3I/h1SIx1oy82eipQNE4\n",
       "4C17nVDSpR0Nc1rdx5AOOf68qE1R+dm0p4EworVzxkygpk0PBeaVLW0PU51NrYHfqiqj+bWtbePa\n",
       "oEf+RKRq1TUeRTCXN7B4N2KSVVO40GRQZhfMrsro0ix0m4eTSnL0MmgMaqCzZsdX15E2eGwd1Hns\n",
       "+GcC/v/UjqwAk2SemKw+DbII+NAq0RUzHNCN+q4MLeLQkBcXRHgwSdiqj0D4CsjYd+O/ytvCTjRm\n",
       "ONcK5CL2+RwSBGYKdWOQF+BCgb2brF7VTQBQ3yvz45eoIF/h++03n+OGsnxNjuBfp/O0rYbge8Wg\n",
       "AgRogWglqBgZSxafp8NxaJWc9mgQNcb+gBKE8bQvH7RWcOLdRTBlWtBY8325iAhoDqlnOvYabU4/\n",
       "3/oibzzPC14VOck9TjbYrlvu4upwBVRAwDYBbGZZ6TGEIVAvxCGcbgvqPRgwa7sNCXtm1ykUQdiN\n",
       "vmcqs+9GjIYomoh/ITVgKylRPzla8EF3l1Ef0R5DYVHWl/G9GLBlOtL7gZWHc5gPv/mgXp6z4ChY\n",
       "eyEAHhhVaonrbijbsoMxWJUXKDoDeF8IrdRAhGJucpToUgUFqs2+u+RLByqCtFbpJBFTi6fYxZr0\n",
       "0GGgPt2438pEjUTKV4C0Vl63j5fSA7nRa+eXkqkVgxtw++R8JCv3wOhJ+HbbPj3wiZJuV+7ED/qK\n",
       "93vNuJXP4qkwbdpJ62Ovl9AH0JCp6ha+3dlVhE7b5MaA1wMpzjj7eLIsJoFiSQQo6MsKY1i2w751\n",
       "oFHV5KAeleXGlXILe/LQzWPZGhRzlobP63D1q9qEVD7rEmADNqj4uQcxm/c27CbwVhnwtmOfKVDE\n",
       "/3xdZ0lF4rulF3Fwdglb8xu1kAtI5r9wDWNSyAU6oCSTtlI/u5ngQMOlczAXATHY5zD2P5gaF627\n",
       "MTj1r3N6PQTLNh7J3gVD9FOe9PkKwmaITgGrfFObniH9fOm80naSugSpFSZaB6nR9bf34h1Q9ds/\n",
       "UmcgguYQt68y4/JfhCbrd5UzSkVe1vO9yyYIy+LzzKCaNBwo43F0oKnJjV4SAX5gShz/jsejeRsk\n",
       "dPhpT47t6s2myKjcyevQSLsJga+W0IVYzR2EzxoB0AwXdd0Ns45I/YXw+Y8WNlu5HqOFo73d0Nd1\n",
       "T0QGekSDtF7HztK2Atrv3es44YxyVQnO/e0KGf8hNWv5mPyOIY/ODkR7qPfzaHxhcK1asA9IOXRi\n",
       "8pQra8dOSp8XlsTHyWKIcAdYwiiGu9cP85W+wZLOzxCGO7OULuZiqLUCJlsvtVVgiT8RtzHg6162\n",
       "6oitirIzSBNFrhnwhSpHmAjr+mHFXMgGFWwxzjSxeBF7Dq62vzqbsCKeHVfX3vSp3hXVk/AIf+D+\n",
       "yFcxXru26ObKbC/Z6U0xYbAHsyIRhQMDgJrTui4PcFbm7xwi3AhFVEoqzi2s8s7/bpFXGyxKRLMA\n",
       "3s34odAx6mG+ofid7F8bzWxRuQ75FpumfxnywvDjfb68v49XY24xStfIgq/cdeSX+TnxwH+UD6/q\n",
       "T8y5Ktb+7MnjZQDDBO05m7UWpGBUhY/ul7rUv4pOoFnjrw/7lQDepENJwnbSLiLCw31xCY/dv73G\n",
       "CigPMH6bm1l3Zs3u1MfpzwZWabMLjs/KY+fn+eDJeYrYn42gl4R1EI+kDRR8DPC+/MEHcqnyHbIz\n",
       "u4lEB9mLV+fUGNW9VhUsc20hw+bzqjUgECgCKHBvNjp/ziBzObbz4rPg1mqhIAIyvRDVAa6f/+Wf\n",
       "WlJsw8XcOzjbq/flQm7WJV1OPB1Oq3krv3ip63B7/xh/cmBqBL1dyxZD3ONdMTPdNwR5g2vQfJdF\n",
       "G8FAcClHLBza3b1xEI37pewlPA9ubq0e1fpST0KvFVfjn3THj5bOZ6vueiMpPn5Vlv1WkSKepMSJ\n",
       "P/mMADUdaU6MsFKpz4c5g3zfpvwXsgOCcqcAAF+57P+eF4YcjuReMpH03GVsJlQHUogV+B6mGYIv\n",
       "tvqElhn5mc4W0S+zIaJ3hF2hQ8n3JRbJK7gM4zd2Hhk02eRgUu0tjeP6cSt5iuq7knE0TAzPRfID\n",
       "RhyGWSQpwT2mynbVTmOMiJnPN0GLwn40BbwWie/Jh7c7oPHL04lfVkMwgOjMiUKB3BwcA+OmR4dq\n",
       "GbH+lwW6cRsqP/VANocroNboVzRF4fr3yDNSjnzHoJ14SFfV206n7xBztHhCan4NyvgKwkZkCEfY\n",
       "2vlXkykh4yimRwIdPf3H1z3E5mbdFrm8GR77RSpm2I8Ye3RsD/ghHFzUQm2ybkesqETnh3K4skos\n",
       "VHmPUjL+tRh38X2lZuj6G8o3B4w3s7UIIRc6BorlZ8xAJsT9XLwdtW1fRqH184THcHv425Za0MSp\n",
       "9mkyEVyUlSskYfVr3GgVBriy5FFbtLJ/eFA7lgfPrj+JOKkXM/5S117DAzl+0X6xG+jgAz2vV7Dq\n",
       "gvBBq9lw+lCbLGRqhuFpM4+a0LPqOT2rVuSvPQno/quwVXTiwQnjOmm5wNnvwUrosJ+B+Ljr1yxI\n",
       "8fGTiUPGMyE4FkBACY3x99jNWE5rWp7bQG/EpJbNWUX/1U4DyQkslFZ6pO0ZIZ6fWJR/8LRuFLZC\n",
       "XPrOWUfvRb5sMdMwxdlOURGGQuSIFLm6D0PrmiWuOaLE/+jN5gi5Tpf7/VfL7guuq1hTAnGP8i3F\n",
       "ug3r1iXbS4q8DUTOprNJPjg2L8/sgqy5hyq7b2QMlDkqhiEOYxmKRPiKZi4PbFDjDAQxkai41aBG\n",
       "Q3CiJz+R+vyLS675z457j2o4qfZgyNfUqYX0qrJ61Q/OlplvKy6RDi0y4mbPh+1p5LPyFVpghZP0\n",
       "Bl+Np4zmqjBUGGceImQl9g9nl1E6nWjN99MCgsQiP5N1quZrnMuFvpXwAysUskDoloHY88op4CYn\n",
       "3qE5MuA9itmcEItNRNQp2J1n3Hb+KynkVSwIcPzd/ALk+bt0eQg+KCAL+oBm3IXY/gE+CyVREv3W\n",
       "kN5I8e22EkanD/1tkp6qBTPwikSaQaNbhXPze26Sm7MjiciKokhwo9noyZfGgA0FRqf/xu+R77st\n",
       "AsXyg4+1ZVSR5uAMU3+Us4SuisvUZnq9vuMG9zq/Ru1/m89BGfOxo8Ux2FujoGD6JVE48zaLnw7S\n",
       "9twgZfJMiiI9akAOS0o1IlErNu6MD7hdj/mZH5eCvvKEOKPiHMYQtNL5dPteelkeRsVJHIP5wzBR\n",
       "jkewB1zQqBEuvDskXfbFuzx4wfoE+QR3SNvYLk4Gu9y0HQnB3Y26bUn+BGa1BnORRXPYtfQLOc80\n",
       "kxTAtty2bLLAHnzcWqciWuJgBnCOjrYXkKiokVyMz25X252R8IPsRXSsvPx2BMx5wcDVC+R9/9CQ\n",
       "6RyIJU/W+lnMk0h3IPJtmP1rotnNJ4vDktp5P2mHw0Ty3REs9uICD+Ny0lmb08IA4Ah9VWRs2Y76\n",
       "A7CtUZYRFGyRklvbkD+O94+VlxbW8gfYGL/MwYmC3PBQCj/Txmff4R+QjkBkv/6WiH3ihUoiavS1\n",
       "8UX1tDZfpN7kdfzOAsZpnqcBP1H7Lykt4uTa3xIiHld/YHDPeqW10ll6SG1ry6XTbLQtrh2wdq79\n",
       "09uZvGGsNG0Ri87zvkjax4m5HODqXnzpft/3Iw95kU1zt+hvgrdtfrBLyUWzrlQSxmDVoZ1MEB8g\n",
       "5uxfjFb7ZJIfa9F1VY4xV7t8S6hNx7A8pPpIVEkWxQ1AtXQmdSPM3qPIjBdWNzr7GYqKAHQYlPxt\n",
       "gniI7/6Nb33jtEi2VFNnTht7QAat7YvGq9nkxgOnfhXjoeFKA8uc5kQwijkaDS8RDtBxVEphXGQd\n",
       "iba1X6CBqFSVwBwSX43ziQxI0xOy8xyCS6DbWr7vZYTixUv6Gcp8Bq1vdT232K9x4w30p63kqcAC\n",
       "xcKolbcrX/0qaFCNT20sS80/XXTlLzbO0qVCzlpXJIognZ/A9Jz4FUq+vua67CMNkKAHj/a0fBeA\n",
       "qznYTzR2Com1QnMSH/wOYo9kb/4Mxv5gIGkBZtruraLJFbn6gxNiRs5Ts8DzTU94EuAQ28kCDxBJ\n",
       "buBT8uq60KSdWaAUzG+L5RYvPA62sRgCmFGNLBf3vR9XsbMt7gUbK7ZrV55ZedzswUR7Q3Odi8oT\n",
       "GxzDa+dhlt81bkDbNOkju99/ltd6g8BNm+hSQLykrbI135BBGUe/+/7V/CrKYfFvcf1CpeJWJcMJ\n",
       "28//zkjm3Mt0OC8lH7EpDyHKqK6ZmsqoVr5JwkVU61+euh8baLkhranl2rj85tPKqn12kLoiSiG1\n",
       "JBmLkUjsa70LgS9HdmLb4I7KcVK9R2910rFfb+8PN0rh4IK1VnXAWfMvEVDLkasOV74klLZ/2ixy\n",
       "FdMNjWAy5cT5D9KaVXzsBxlQC4Z/+8ncIIsZLVM4nMIU2bxC/FpudhR4PmKuwmfomt5IjhZ9Llor\n",
       "z4nVvfQwUsEDipOCowfAJbSGQMFQ995BA9zXo6t5qIHld/193FFum1xsv3jxELssBFUMtf/13QWN\n",
       "W6O9MwjNvmqhx2Lamy9ttIK+XeocF4usTXNEGe9T43ejBqVrgAAW4k6rK5BtOZPASJboTDB9YPB3\n",
       "gV6hcnIO8kOwS/+O1Yjy5JKkNfMwU57tP8CUT751ZSh0sfE6rauuXgP0NihIGYz2/nK7r3rgLzwl\n",
       "kCK7inkhPf6nTSYkJjiCjZVLd2hrLHqeSLBGXocWknu0sq0V31ZL53EFNFET+l3L/6Os/DWfzeay\n",
       "54s7hiuWF+JVxXwOKx3vOcFytvUKLo/K1APPA8mC3QUZQ1A5C3NKRY9jUMr9LgM+xVku4sju7IkO\n",
       "IV0PXunjVkX9kv53FyGySTerSWE0XaL8Iv3C8EJlzgL3KmUZLqYvYxkdyrfZpSjnjOeawyfaUSAt\n",
       "4XCXIBkRdgHXN7cYtKpxxfuspxW/fPIN5KfcOsvc/Nep8WtBJ01Wo5ANteeDwbxtA6GnW6VBrMMf\n",
       "bgfe+nPGxRe5Nczp7yGnzypdZvz2nIM09OQ++RVevsqTwLrbwMud0sxWgP9wg0iXB/X7f1D5g5Xv\n",
       "rokEmXqcMU973rRgAv3w6zfGcZd3z3Y1C7WnwgFv95f2d9a9Pb7hK14HZneK0FVfabt2PfHnTHM/\n",
       "hJ+cZEENBwS7+/t54M0dccWFqE3X7OLuBczIjZd4j0SmCAhad5rdDLab1mif/nCx2alKCtYmqErD\n",
       "GHYzum/TMV6mNzrEYAd7PAxMboj+vThU8GxtiJw7KBnz6uFrSebcw4qBeItWNOQdyF5klJCfF2jE\n",
       "A7VQ6s9uoCnO46rnojktdnv9pHfst0DNTfkOapas5JS5j0ed95/aCfgahxL1lz3//9yRq/43yyFs\n",
       "sDLn9AzqcsR1mradMMB3lEDH3G92bgC7/JzybI7UCXpAuYq2JCy15S/9V6kjS7hEDXQLDRWlSSJZ\n",
       "zZC5d4UxiooeoMk68BemmI2tN3xTJlzUjTgQyCkzhLK5N5M+T+2CTyWX1vturYz4wYcGlbrAu1kK\n",
       "eVO7zfu/YcDn3CwftZP99bucbKX3I+q0y9fKITBH1PLf5K3f3Ro6HH8GtnPL+HY93H7/FuaA6Np9\n",
       "M4uiKHcf2fU4NmFtFaY8uu0wbxPZQ5A8rI8eB3VbbmKNFuUGHqZcAjIxJXI73G9Wkis1cj++NnPA\n",
       "QO9GjQU/xEDL7QA2dA+WTMmC4UyOiOlFhF6Z/32/4qoHBmLoGjCssPPzTZvGJE3uxQqHl9qP5A15\n",
       "Qi9GErnJD5aHzRJQRCojBBSqxEZnlxfjvI6onoIWm2WwYsb7q9NgKyJFGN0huP3v2rOS+xj/2pNq\n",
       "NHYGHNOj5Xzd6SIpmVszlmGqpBX6jQ5pmaQ7KsmpKe4LyEeZdYaOl1r4RrTazkOpsIDAV/+rToBd\n",
       "ID9nX0e6LWcjbYIgzdXUUEx1UZFX7TzU1GsxysuEJTcJ3upXuX1gy4Xilr/cY/qUgtKO7NZsLmlG\n",
       "kmt+x8APpaMwDNqQKp5/C7lyPrQaHB9DNZsX8YW0Txy9+vusniZrqPljItTiVrNOhjC3vQ0Gybm7\n",
       "guRpORv+gBXKisSKEI4aC5yrZXyOoL6zH0iTc3eFWr/aGdlMdEniopwd9+AExPPxoGoxlvHXXPuD\n",
       "Lq82D+c+xoYjKCzbwisSMegHvHpfFYQtiUfkh+Y5+G5ax0eNpFSlX//wAsCEjF0clUphwadHuWqq\n",
       "/fajkn2vyQRVTjCm81krSwYIW8F7CTZDBh5zxUfLmaNO4K5FCmu3A0AuWpU5/Gre+Dtgox3VDK0b\n",
       "cD835WDHcKwRrIQIVnNVVZ9Nj0f9xf+GWdtQFsNJHAP8cOG4SuhixkMcOf30LCuu9mGyByGVuizl\n",
       "0StH9eHQveaxtPNzkyYOwFKGSLBBHEmqF+3lIakACw2hBxvM5zPGjkRuLYsXL7Maeuw5nz7MxFQa\n",
       "OpKayTpr5fS1yJbpMwLauUILR9LhVdTIcZLymPAK7GN0Csx35P515C/77y5BBH9zYfQccD73oKtE\n",
       "hzfELXW9JuzsEFS71P/JQJiWL+gcZn/vmRmvBPEp1GC5eIA+9BxkTxqeayKeVwtVVX0o/ZWfUu0y\n",
       "oCx+H4njG2ZfFaWv7d2orhQlwHmfYw8VMHnMSq/yJd1yUa6O0vQEj+zP6N0HDmPrUsseLWOKVkih\n",
       "zDBNvTS2eZWV6rnplHkuSXRnjx+5TYZ91sdl1LUng6LUj8dywqwp5yw2y8MgZqBLmOSr8LPaPAPP\n",
       "ItIpl3RldTyGOIyIrpO7rk4wYmXVUXywLUc2WAcSjEqrIWlVshq0tO6WakwzQySUSt9MU6BRWTqo\n",
       "zcdMWrV8mc6Oh4LovbDJ3DbQoOaUn9IRb7V51igM+ot6ITxOOeqgANfJlJ09uyM+1ZE2/ek8fMcJ\n",
       "1NhysM2DuG1+zXYUPdCfjmjWRsiy6EFlXqPUPvLB0SBR3/KxQuxbeO/CNpaGj80TqZGUfKlWnocc\n",
       "hk8hsIFpMAMF/MO18+FspuSBN8WRDZL0OCU2HXFjUucsfi0+Eo6xlBGAnu/IIGz+3p6U/VbLhKS5\n",
       "wlqeycWhR06XJH+fVDvAMaEAAAPhQZokbEP//qmWAAOOyb6gMFPIRN38xXA4TNGEf54KKpsl07zk\n",
       "Y/VkCAgZH73b7TAVQ68UZRdrqUk7sPLO6Nt8D8FdJxYR97fofJ0cgTVdzFs0xHRCvC7HLazghmi8\n",
       "Svh8tk0AGcGizAatdjVzqst1AC89Rk39tVTtoN6edO9D0G//8dzfVXdn/Wv3ld/q/tuoiKrn3VMw\n",
       "pEE1q0SS7ejowSpLNbRDqio9pQV8wFV1O+O0hVBgRA6r1n/JbjqnyHmm++xlPYJrES7kDzqXfjC7\n",
       "GgJCBIuAUDg1TN2qg+MxRrDjp6lxrtC3/GDHo2w3nlzG7biVMwNjFfRqlvkdmKnDR9JzoNwxx4v6\n",
       "cTia/trC+vFm4qouL5OXBNfP7Qh2pE3i+oQkj/pOV8hC3oEL7zszqhD7iAkXkizJdBwny/Yg05in\n",
       "JZCxBxs6tbV5zXfUX94WTK2dXoUwRieAZ5wQY+FqIP68xJRaZIXDeFsmxwBymbOz+EO7c4F4SzE+\n",
       "8N+s72kn0W2zPvTOljBeLZt2xjcMy+zKer5qWmlyUHQObBi0hYO5PpLCqAZO2u539kNA4TqPZh9b\n",
       "WZ0C5V/1zOFWCtvZuwaR0plQxDnZpFJvg4ZcXIFviphfwuCwROAVrPZnW19Gk32F8ynNVhA+ITxw\n",
       "bieqqpEJO7h4cHvOhF7+tS+3vq8Vy8YE1AmirIc6e7zNUe1p1+SXE98ltb2DgSkx2eOtRpLZyyTp\n",
       "+r8usi6FJkR9OP/e5EQoNPxZiaXMbU6MVLIYuA34bJupdx2val4qlHaY7URW3e4nsvfSpOcel2mc\n",
       "C1CQClSMh0CWg/eoxSZ6S1O6h3lxuvg82sGG6S8AMGFp+5pKW/1WbLJagi4AEksRMvyAhoiBvDMy\n",
       "GzgaxU/36QkbqiXU+ROBn6EdeJtUoudgP7nKwLK8KLLUkDuXqf1gWvNb1hYdb27xAGC6ImLwXqyt\n",
       "vUOOzbrBt4iD1YaqRautJs+bIQfE/ftRFN8nk7zeTHKMC8IEIEqKNosBPNzFMg1VAdNsppTlyaBv\n",
       "U9TP+KLPdYkF9ze/E2bh9t4oxZHhHtZreJqaul7/vbM7TggYJf2ewjGoHCbmMTCwNCmJJNbgfEMl\n",
       "S4Hx6O+pjnYvhXlECMvlXU1UnAuMvVkC3L3Dw6QMwhbOzgaUthZ/b8QpNH5qc5cjqeO2CNG4EFtd\n",
       "GC7t47oI+sVwNjxokUhTL0wRvCBTUr4VqLdWUA+uACzcni7YNJTl9q6xvoa6rdJ4JWP1l71a8LIz\n",
       "FSr/vAgWN4HOcu3aOwO81VX+tNgx0T7un5DMw4dH9ZI9U3KOHWmTXofSYvZUAAAA2kGeQniGfwAA\n",
       "BNYutJPmxJ74E+0UUAJlYhNoFJY2dVt6noTxea2J3G4+ddEI6lfihkdTyD1xflHh4/xyiIvYi2k/\n",
       "HZ1q5CDyHKA3VS9oBsF6CG8siy+NyXn4MwfaasMdu/moTjz9WKXgXmD+82flzBoOLH7CIeK0qbHX\n",
       "cfGZWUDL0qtTwQna/cGEhDTl2t2Kr8XB1XdYa1uhE5u8bp6ZL9xO14p52u0ztk9yiTRUy2t1qkty\n",
       "/kepgI1rRfLt3+LCTlmWIw+InKHn/8oehMd7Hol/c0Y+UHktQoz5AAAAogGeYXRCvwAACOumxapa\n",
       "0gAuCTewIvMXGQ4gqLT7cj5rE0eSpBPJr39ZYa5XRM3ofmpv6pmImkrz001f1LHa+A+HFBsfqsXa\n",
       "w8FsVl2elUB6uRtAG5m8I7XQF/YaovgrASKfDiA3eOAm8syFYgM0BRHrSbsdqwI7ySoPyO4T6MGt\n",
       "xIBII+xgCjats1l1qjlAp1Y0atIKfuFlaKdrB9X/keB0wAAAAKEBnmNqQr8AAAgMIONy3fxwoASz\n",
       "xs6yP0bPPRIUMIwOZfYu5JMXL3+RyuCkwyXPu1ZoTvr6UwvoAt5m+hG3CiBtmOVqScYZU9t8znKM\n",
       "X2aP8mnb9//wuEzlaXrw61ELKM1D0iYLs2P0eG3SPb/KcfvvHLzwW0Jwu/t30Lk1OxHLXyj/7+5i\n",
       "WHnu7xIjlQ5OXibkHrU26w+H/TBXJn4GXjs07QAAAp5BmmhJqEFomUwIf//+qZYAAAu4TZ/qADtV\n",
       "wdQAbIVbG6Dnww1XEisas2pdmXs/RSuiGcSm1zVgIb7x5ssJRREtwX5/VzgPkYZCTSbA4fsrZIYM\n",
       "SL6wrd+utJzrKGZjH9ELsBEQ6s+YXcPe+U4VuWXnKHO6FypVQW7a1M/RtGaO4XNrtWvcWBkJ5uGr\n",
       "9UrkbBx/VHvk4/KTcKq84P94FgsuesaNi2otXkx2Motel2MvDtlNU1T+u+C/wST9XSxuWy3o9IGe\n",
       "pIIclGtY5XsHYU4MtdTcM4c8P/FAXX+NN3ZyqIyfjBcpYYa09gGhnCS5j5OeC/0IvY/uDM1yBNTX\n",
       "BENW2zk/gIRDF2RmYIZYL4Nn9VZwjXHbC8aU4qbLRbeyHlSFbV6Aq5lmEYEkzIEHwtk9YnFbjgb1\n",
       "ev4fSGPJdPmMW0e2RM+iARLGTZxJR/FjuVj9rKQAkIh4IpMPEMohYBfflBAg56+B8PPfNNAMY2SQ\n",
       "XOhdCqev6oKTEJBdyebdJbRROSeumHOEPe1IiDqh4rhFf9zo/kRkKy43s6rKRmjUoOjjdWazuBb+\n",
       "xDsJ1jHlPU1AcJbNK2lylPN8u6JtjY6MDMSGjqxQaXETN1KAqfjysGyLHh+gk02jk+d5QwVVvyfE\n",
       "4UoWAHSXJWhXuMHRRN9wW0SKd4QknuqKQZd3e8upo9IrWixXVkTBc+hKvXdvA5AkkNxAV/w44U15\n",
       "ecjZHL6ILsrJJOBOU7QDyaWgq9L3k7SjBY+C8eJNfZgc5PrTIopwYkFZhmoMM9pNnInV283UakvG\n",
       "y/QNT4ld1IBUCxWjZWoz7UfgQYkK988gvCoo80MyAF7WrYiy4lkfWfCpryFG5IQiXnwckKpniBWp\n",
       "XXhFBU7A5nxZun99TMqN9IVdAAAA20GehkURLDP/AAAEZIEiZz5dWN7pyoX7gBNXu2pnsnOWziFd\n",
       "6Sbp3j3aI5/B9oiXIRS9J/BdR5SjN6+jn50mMp/K6hmnz//vzNErjUnNw4mw7Dz+d8qG7OTfVrCM\n",
       "rOsDxZ4PepTmHlydjbvGBJRCMOhfoY9vQ74Y8jXMkXoJfC8OFPGyIpzQ1hJ0wI6N1nGjiAfmfMHe\n",
       "6zyI/5LMcANn+EZ0fsYmTt4SeJaQvApcEOSb3ggn4XArCR5L4moxuulfBBq88iblCfesv98j4riG\n",
       "rl818VS1dMkbtUakgQAAAIIBnqV0Qr8AAAgNSLvMTJO0R48AAlqdAFBnHKhhvvBhfHJLuH97ZYNj\n",
       "7L6vnnj2Vkm1wkZ+6Dfqmmp3d8Sqbit6tFdT38NA367yUpxm7H46qxMZkR+kVwQb/2M2Hg2g5iuY\n",
       "rFPDR3CvZAS1W6HZA+AuWbb8dDKzZk6jPpROemO4aS7hAAAAeAGep2pCvwAACBDW3ViR6EALZX5m\n",
       "Im1FrAFkQfFUHrd1FBZ2bUiT9drfskhrg3HaMRrf8JzMgW/eqFlh8US3Nerxb24p4Qc7WoEE58rv\n",
       "PCE6K8lq8FG1qLbQ6199HQkjoGPZlLchQr+PhmGU+zJYJSoCLPlro7eOfAAAAtpBmqxJqEFsmUwI\n",
       "f//+qZYAAAUtvIc9XIqgAnGpDzfKaGD+15yPOCBinHACNpmTSeYN098qqTNgOGVeeHIKPgiLLc2y\n",
       "znLGDAFM4w52hGnq/45YzTZIj0NTbynaRardDgfySp34SEWFWu+NrYtM3rUlyMK7EP4oblirbvYZ\n",
       "UFJCOd36W07xqu4hSqiWn4IWcfKIYdkfcd3ZtKBk4UBMIvukkKkUrPIi0+qamj50LPgsK5N2Wy5Q\n",
       "/6xnTIeUWuRlJWXOvTOIOJGfoE5rQusz8U6pzzUsMQSNEZfSbPespN32f5REimZD0paPFA0Q5UiD\n",
       "BvnckpRxc9rMz9XdDelg1hoVRtXtSMv9orxmCt6uIEHoHGJsu3aYPB9g/ErX6VD+U3pBLNH4ycG5\n",
       "mkOljkNxGQjVqf79I42zz53AB9g80p99PIR+EPuQDvUAhHXrPYPlASm1dCaLawrb4db5DuUKUPmO\n",
       "EgwOXFIlwqD3Xh7NBWM3QuML/SloZ45vQDlL0FUt6IW6sDFoHW1ngfd97Y97/rtMwoyMMHa+ZXBY\n",
       "/61x+Wh9WW+a0JZ1v3/mIBfhDLKbqzjT7UKgl5CFzsHJzy6hpkzq1IhJU0O6Dgx6Cfds7w1t5wXr\n",
       "R4X4AkxnkEhh04OAeYCJNvAevqg1CzbV03XNqZ0/+RMrF0+YFpCoNUT28RRniQYnhv8PR85/CZi3\n",
       "o96Exw1xNS1hPQlPyFJl/IEBTD6ymwWQEsMOnVO4RovJ1dkgMoKz8Tyalz9+6+PjYA3Ub+Olwibl\n",
       "7g2qN/Lapop5xO7GsiEAM3sK1McQu5Wylf/RAVN+0hVaMv76IrYnsOkbE8H9HSCWL+zLRW1uZQlb\n",
       "bqzttkMEyr2YnxZSCyCgzuk7qMCtei3H9NXWKUYshWV66DZweAtQ+T1hJFoh2+H57KJwXyrTmqEz\n",
       "ZOxvKL+MnNF9b3iKosOv/qC2FVHhQ9Mrf3BOps7Dcu1cAB6wAAAA3UGeykUVLDP/AAAEc5rvVRu6\n",
       "gBGUa2ex+Mo8hpWMJSDRf8g8QYR5fy7hVLjGgLSqT1OjFYKf0jWAPJKhJOX35Glzs/QIoYJIrZy9\n",
       "3NDvSj4gRSHOkCoamoDT5IVqCjw99MeQzs/RE0MVeJBQMfUikyfMGCRSwf0oCT/UXUE9DQ+ko9II\n",
       "QGERUOfvhWLfe22M0kds0q5aKvs5pNKsGcSQaba9YUv6wFt81YfPpaewibzuqbVZQPZpLl9HN/Va\n",
       "Fb6sfJthTjxliei7cas1E/Mp7ud4CZKm35MRUItTdXHBAAAAhwGe6XRCvwAACAwp6Ru5vwMvgBLP\n",
       "93TKsWfEXz3FL7VESmAlfVV5yx/W9hws3FvrX5qL1MLB1J66nQtL0rVmm/dvbvmfwK5SopVUBfRt\n",
       "hoDTkHc5uM/Fbw6CCGAurvL0xIn3YTctxp04rlJ0251Fb9gb2mACk1P6tfsF3vkbg0b17C3Z0G5Q\n",
       "QAAAAIwBnutqQr8AAAgvVqgOAFtx615VgoRjAHBNJeHb0qV7Cb83HZjcPgs6Fi3ZdLuZflgFJ3nj\n",
       "Spu54cYbTpG+4g80QG3C/2x9CJRl/Re3aVcWmrxatYTqoyNMP1iz7hSf3zaWnKu1diIzX+OimiuO\n",
       "ilnkiTQscUHik96e/UXdwAfkQnScUiITwRGBrvTegAAAApFBmvBJqEFsmUwId//+qZYAAAVLjBIC\n",
       "FVwFQEIWKWCAh7QA9MXhVcI4pIjV+Uvwui2l+bAyLdBMvzVX1bXfzP5mdbA3N4g3nbZEd4QsfFmq\n",
       "SqAi7e8zmeSUHAoQ45pOYGX4CD6Sg7sh9pSV64b9vVIbubIz4Cp7+ELgwMKM7k1H66iPnyKK3NGn\n",
       "7aXR+fMHsMj3bMefWYElwzUwVpJnutKCWCh7n+R8OT6i0Lkx5j3qAXtC6ldwiW3pStrC2l9TpiXF\n",
       "UKstvRZghh+l8TWI8QWrkNM1aDMt7VxD2L80Z2X3Vu09azu94H35OQRT6tB/GF480gn58ESi7Dou\n",
       "JXPo4knzXka8y0HRoK7poLHXX1bhk/IGtL82s9Ys4Wdawl72eOogi1KYtsGbcTZ1VD75HxWdvRQ6\n",
       "CsObM7RgXl176SDh+UNtk+baStJo2ta2Qu44QhXxdFLhfw2hIE64YQE9We5WZsNXsXYUXykoRj1V\n",
       "vzPRHvyi+1H3BS1HEWoq1D8PRzi1dvpBHU7BIJLZP5+nWgb51Wt5vvTR3XZHOgwnYKiPOOX0a4HM\n",
       "aSKsLdPX17QVzcKy7pr68xJ+nqt3yB6fgV8H5cSZ1YpxygZndBgkj5Q6v90CXQytgHEqMZ/CR54p\n",
       "pk/XKAPRMv7aBSYD2i6f+gMwiZNSMdMUNzerfY0ElZieZgvnjbPu+MVdB1Xgbh7xXoYUc9TQMzGV\n",
       "BVMOVSbYxxcnzcyX3sEvK0fWaz+4reGTA8CWSFyyfaYcV4zdktcjHMS0m1ykAgsFzBY7qpgZ4v56\n",
       "hEUc5qrt281R0PKKupUb7lNt7TAlI/oA/0qP544afOt3DWNoNHrsUezArs7DjWw71AmoYqE0X4NY\n",
       "0aja5MfACRkAAADYQZ8ORRUsM/8AAASW3y2EcSHkxSk4AWTgPeSqwPKN7rDZnNnP2Zsc3hEp9H4c\n",
       "Hw2mT3sDTQjhUw3/QPq0tPXtdVkokIHJPZ1P4U3Thl869eTQWb7Z7hHekD5PIXS9SW2n6SRIeJRL\n",
       "vx6Ax588g7vpGkRseijfxyS7fNrmZ0eP/dPbAftehT1ukLcCUBt2+8dAxD//TWBRyS33VvXou/8c\n",
       "Z9z9lKxyjePvA6SSkIzcMLAwWug5jSJfVJnLsJUldfxBQN74hPfBZb6z0ZyGFzlfvVr+18mmynFx\n",
       "AAAAnAGfLXRCvwAACCxO82gAuVBk5IbLXrXUgykOdOr/djql9olzzA11mcPOpm0f6LBwSnGa4kWc\n",
       "c7jmigsL+wj+EgrxyRXKvzfVx/KU7qLF/mu8jzdUY9Ew+TbepRC+4txDg1UJWmBgI6wXyYOK73ZT\n",
       "TLwA446i/lldHTuIDcFoQXXshIQ4nrlodDz6CqvEm0fUSip1JBAR4wihOusgYQAAAHABny9qQr8A\n",
       "AAhwYLdZLqcpiADg9qubM9lE1vd52upWUp2vGn74NWdXGP4svrS8eymRU26fytE5PXtMRSwXcpzm\n",
       "Jqf/gSpkt1n+Tpv8AQb4RMEa+cHfkrMX9X3F9+Aduu/bye8Zjia3xXaapNdrqp7gAAACmEGbM0mo\n",
       "QWyZTAh3//6plgAABUuMEgM34aVyTRp79bLhrAGNJUa8/I7aNy3RRxrGygXJOSc8xE0bRhexEDKF\n",
       "ufiErcc9teB1voknN4/Gk0nbCAWtb5VQR5q5zRwKAiPnh/CLLLoE83nnyiYNWoJFlkkC/Pruj6t4\n",
       "b/emMy7bMYuDwuZ2SQXNBwgsAROcEWTnCkokMa5xTx5wnO+XHxvbYs6rlTa3iXo0P9PQHeXdtxvP\n",
       "WgIELwGWFgvhqr0jElQVMDhIBzkeGfy1gznXloNikWpn9/jY7l+waMt4xogO6UCpFAVoxewGiiep\n",
       "ljwS3rqtdVZ0iBR3fvIhKdFmKFyIsiqGGjycmfd800UUCDNtUyTDaiS+sw3MwWwPX4l/1fMBQE8l\n",
       "6RjZaejZUxhA+tasX4cEgpOaxUvFzqD6xTu4pt43GTPOMiu3BH1PXi9f9VCkxrCrSTgy9aMAMbHZ\n",
       "uv+YAZQucSGWQc64SxRDbpgpodDMkUdWsuRbT3YlnWY8tN23S9ppfbSDB23QEjjCgWarZEfkP9zb\n",
       "L01EyR5rAiYjMu2dnSToTsp7UdHCDqZkMGp0lfEZSUPDW9O0NJdsJ3A0GKldgHCbq/mtBW20Bc8r\n",
       "q6KLNaOFmvad5sSP2lhVTsZmxEFfl73SptJX3+KTEEuasrDgZOhJAoi4CKBNBoTBItsO4L/gS5dU\n",
       "cCYUUO2S+a2zIK7gTN14tNrQ3G7MLej1VSsHCrhJw3zH4AUBfXFzZoVDsYmtfDqew9gvNdzbKLN+\n",
       "R01zM7P6dYDuyFviR2Vv/UyjIQOLbizvKsUtR9vwzw5idg1/N3qoeaIa/SMijkp5cpm8PMltppgN\n",
       "cP9CQQLGPVSGlcU+mJTP13+ZczjlJLzlA06cxCvACRgAAAC4QZ9RRRUsL/8AAAZJXMgAcbZB0k4V\n",
       "WOjkFpCdlkSSgQz+p3jxGKevEh8W7UayLEQrpwt2RwpN6ykJB7e/4nwcxZHqnFT58u/YPWNUeN2E\n",
       "tuzM6EsRT01GEivXeXWGIqQRforc2y8HnrFHxv4lHGTmEGpc6hFYhW8ZADonAi2bad71+BWIMJLh\n",
       "vewdP8iQkM4cTQB8vJD+zmpEZHuAAAADA2//UDzrM6SnpaJwNBUca1Wptkl5J+js3QAAAIoBn3Jq\n",
       "Qr8AAAhOmzaACPeTlgBd+qJGWg2lcc6jYAbOxUHtc7wSDemiGHLEumFufz81Hqk4opBuXZfqzMWa\n",
       "zFwQs9ReuH2HggQQqe20YMkdmraC/up57A/wbg5z2OKC17fqu5TXR/eE3E/DFDyxRPtRckwWo0yj\n",
       "tqSqXICWtS0mbHJMmmZhQcMjLuAAAAKeQZt2SahBbJlMCH///qmWAAAFTE5LYELNzcEIP5v6QzKy\n",
       "TCloSBFt9XGsMyhStUKdjSVKLyWn1IKBRzvo/RD5B2BMkKidoS6kTRRdXqcrn8Z5kshS/a8omxQJ\n",
       "mOPOs3c/yszI/mM6SDXV74Dxv+Kp1M2iYdiAP1bfDg24gP1wJQOieN5apMYDn/hQQdXWKncKqzu+\n",
       "WeD2YZZ3Ww0xDEtN7qYGmSl+ozolPToArmoQiMp8cUvQZDkanOfqWuJxtyJCZWTNXb+VZmuspwAI\n",
       "MgQkY9QOcJlHE3IMg7agi0pWHXoyYlzVdFf7zzHI955L1UA/z6Dhw5pfWoH2sJgIbqDRG1W8Il8N\n",
       "csjGv7Kd0GmXyEMjZA8+OYu0B6EvRMwGmhU0Fe1OxqQu3mQgHmtzH7PunaGNtftUGgmm5MkgEh7a\n",
       "03vRzy5x4g+gMYWuVEsqX6UfSaNTgdVNAfuBYvZJ5nEuIEHgS6rlw0ePEAZfjTyYWmsdOSe0Eera\n",
       "oqddBTMJg5wQ0hQuLo3I+lj/Rpzr7oV46X7hpVn++CN4+RZxIBjnLHaDLWTgU/LmH4pVc9cyhJWv\n",
       "P49C/QHI2gZZKCbWOsYOeM4NmiSrrmc97qYwK0y41teyq6stN+qC2g4oS8Muarbi1njeMPzL8Gfk\n",
       "DIBuq1M/0id6R+p+uvEI3U7Wt4mGg+GvRty4k2WSVmRdl+1itCeJ3shTfxKN3xMo4XJbHyPcL9Os\n",
       "COCF6yLirx64BS/7j+F6pXqPx9ARRZGs+gQXdVTqo9RL7F3mDBNnI2mDrsW/F5c1zqqNCSRizTtZ\n",
       "hApDk5IplF35bJB91AgR7N/4Zuf5SF2f9KCukES5TT+3piEND1ApXM5jGIrsj+pHV5LzomHZMGwa\n",
       "S0iTVc5vo+oQcAAAALBBn5RFFSwv/wAABkgv+LTbVsoUADTsN75FrHqAgQLIAG/h9zaRLFOz/esc\n",
       "m69Lpi7mXJrEq5unvOYYOjUifjjJcM/w9lG0d2tN3GwIJkK1qKgM0IPJ264GWsPe715puosm71F3\n",
       "xUIVf7li0U9vCQ3OAPRXvpEWM8Odnm6ZFpV8ZdpvcvVf6imdK6/GY+6lg0iCRxIoU/3L27sRMxPH\n",
       "ILup5j6I6lFm+VzckffTiCl+bwAAAHEBn7VqQr8AAAMDEJlpRgBZoy2nM8Q+jzyjcE5KIxYstdow\n",
       "d1jCSh3JdYX5WWfwIIycebqb+AJJA3NJhxAdM4GoXVT0jZWxvYrBKcO4HM9ZJbNNY6biCRT9NoTL\n",
       "0aUDZPnxr+BaZUJQjNzZUtp0BR6eDwAAAl5Bm7lJqEFsmUwIf//+qZYAAATiggCeSAD/VJPkdgGg\n",
       "bh5RiqTyibdBOQ5WHnoZ69/7WsQ1BUj09kX8AMxLZWV5uJt/9gOoXiES6cleQqPrelbx8RpsEcn0\n",
       "9ukduxA3fO+/99ISUYkIi4nAoudZh2oBlvUcVB1DzJ5+SZMModXREPV8a9F/vUIH5IPlEEoBJglp\n",
       "nWWYVPaiikzPIkx+mD+7Cy9xvzD+v+yb4LpxDudQ5C1v7b2o3OHpcAjdeI1zPXcpEUbH+CcJIwjD\n",
       "SZZNXTi1R6PL4++fp2J+wmskMM6dGTehpJLfAIJRl/20b50VOScJVI2xYeTDbkL0qFxMDSnUKsPn\n",
       "PUCkXrwBqiTxbOPEvGtQ9aM8rp93TE7RC2ksHfDU3bl6eJCFIbVmqSCpG1YKCdTCr47I5XVuXDEe\n",
       "kEy8EH2lRYz3LC2NOx0AacmPVqvW41aJG8TSTWir1967zkS300aOAw+lW1Kdg/uu4YfNeQtQcyFt\n",
       "wfpqHzDOEDu9IXU6V5q/jsTWZw97NvUfq+Xr6bOgG9h+eMA+hYXsT6EzSo8x4AFBcS67hB9v2auC\n",
       "pEnizkn873765t26yBSAQOUpsRN/dP6pVszfvUCh8P9uKWHXMQAyko3pCcYn/XBZRABMZP8dccyN\n",
       "iaQDXcSTWY5JZlZvS0gFLxzoQhT0UnwNrGEDFWP9TWLEuFrlFuoY4MRFoakXl3BAgM+s6fyfNnlV\n",
       "GFS0yNjYHfaPpzKF7/4N51KftEMkL04eQJBM/Q2OKngHV6FpQJuMzYM3/aJXZIIs6y8DainqvmU+\n",
       "dfCgAXcAAAChQZ/XRRUsL/8AAAXSBx7g9EM39V4egAkQS7AL2Xr1gz5bx+qwoFshw7eY7hdlevat\n",
       "g/5TuoKjA+b0eq9tEhjGs2wPaj82kPQV/4CpBTP7xvyqKsnmuRsdgu0sOt0r/087YaTfrsAGTyVQ\n",
       "N4U80hwRxJDsFRn+K23gOuqemOmLApGW9RQGIBhCyu/9/wdUvCxwP6gUYjsly/49PJg47TtL3oEA\n",
       "AACgAZ/4akK/AAAHxN4iKSg8pJMgBbwE0MQp3dV+rcw6YHL3sPEL7luiYUYt1BsgWWK7/cd24zNr\n",
       "12Uu/fRTUdBzp6TDeShmDBd2bBvLgPCQMNNh3klTm68CaZ5Q0/2Sa4+txNPinfJgv44FtXCaqdCu\n",
       "E/4lA221gYvbTofAqLXKbTHluojYr//5/2miFPqV9kRv/4x+YqsTTAJ3KAbSzIEWNAAAApBBm/1J\n",
       "qEFsmUwIf//+qZYAAATigf17jABtIao7JHXDKnqCXmR18YjF5xFjyD9VikA6rieB5Do/sWiqtgMZ\n",
       "yXzFBmCaa/h9vtoehydT/hJXaGKB72bLMi0ZRkF/bTFcgAgQI8V0KHL/yrFfaGOui/V+4K7FzegO\n",
       "JXuEVaVFI232ledYOvlmOZ4her+JYYyXfYKsrzCZVDKOJCG66vNHVoeYOOfgzncLRK6oflE/MlFj\n",
       "W1s3rtAdncqIZvSeWhQmDfEht0jyi1mCA7o2aR/VmqKBhYflFywvxfcnZh7UwwhZTgQOCOsGL24N\n",
       "iiduZBYuPHJ7SVOL6MQiSVxafKZYqoqyuywjjP6EmKuWZzY9JFaY+Xa+fjecdNuUL8XlQQZJ/bWB\n",
       "u92iv4PHstRHJbLmIad4X7756jntSitBocwrWygCEjwyupcuCjiZuwNSVGBW7Fe60A2KdmL6EKhI\n",
       "7jQ3RjVUV4BgSg9sG55D8RPPc+Enrd6lSukoPtH7J2Qv06jDRyu1CpT3w4+Z7wSPmo6SfRTNrSZg\n",
       "PBXJxDckiDw53SB2GUt+c5sgJOnD7Hi1E3dMoZCY4HWwer4pBVrSHZHtQ/aCNJZzHtju91jCKHqw\n",
       "Q/bXDhJzd2YeTYOPqZ/7A4ny37jEzqKaL6XjyYOl5AR4AJiigrwcdgxA5avCIVylhF9V26f7lh2C\n",
       "J159bW8MQ0+Eg0SoNt+0wvG6/zSXOYNAzyLn5IRymtyHYG3Dbqjckx2iK3wo+Ukvd0Ol1UfmY1OT\n",
       "F+MGzja27twQqbhxe3Yb2RBLNWvxuKJ8zZdR9aR5ytL2qAIihKVyD6sUMP+DTEhfK/HvWh9iDlOl\n",
       "4qATbVhcAGyrndrBBct4Ch9mrR7nKWAEHQAAAOJBnhtFFSwz/wAABDcIkH19Y0AVv1RR2mCsI1EW\n",
       "Nowo3r86iWX0DpTt9TFWdK0Jr78MUioBjTDkHVT0VaVKxgjtMN+40WQjFKeoLSvnZHEEAdQ713Uz\n",
       "G3vTC9RKOBUr0LbZJv408eqUAFz8+mHUycZuyUpEgrD21XB8e/jZpk6e0R3zSwQxIxRCeaefeGrz\n",
       "+T/mRjUPzv0OWNsHk8+Wnu7ovB4JVRWQ8hNTlh0W6LXi2NkDH8V33XTYkWQv1iroA2mdAT7p0AB8\n",
       "BnK7UWRvA5v5ScqMMWmuL61kcsQW0JMjMgsmAAAAbwGeOnRCvwAAB8PpECVokqAHddgBGH2Say93\n",
       "guPA0SJOnZXiMfDXPA9Z4DNOUCyGL1vHsF9587Cm0XJlEEjC9bxZzgslhqq/6aiUO3t9HLvaYH4a\n",
       "W5r74sMWgudIT0aXqcGZdCqdwiyJ8VXic+P2UQAAAIEBnjxqQr8AAAfF/GsF1t9jL6wALRVbKL7a\n",
       "AKK6Dr81XMvSvfNcvdOOzOrd+ZbwOdOTwGTzQRfUe5EJohXXR6J3znaZ5LxoCIP9b12xEKNryEU1\n",
       "V2VhBohIx0BH3solRehi8oImg6RBave8NmceSSgdLE9rd5c+VWkM32PSWiWzLAkAAAKdQZohSahB\n",
       "bJlMCHf//qmWAAAE4whjZuCaAIxQaNEqWQlKZhI6TQr0Lu8vo0RCvr1IfyHfHvsw6s/gQ0nMQn42\n",
       "yO96Rn9+pXGM/Ba+uS/BbLc1v0dI6+MrdwRGGJ3DG0FL/xUJkCM5JEMuKcg4QqCHNFJP7aTCm7dr\n",
       "ZhCFi5wYLfXaJFqHvKZzS40uE3ISv/gTliw1XX4LgoITo6v1EWAhH3oYLlb1v3E9B3mFY3N2+RGH\n",
       "TxsLnJ52xn5xcsOvM0ga0qMNJrFIyt1xiP+H740RwWKSR7d2RgKfWKBRZX5imcW5cNOefMHLfowj\n",
       "BiwrA0Z2SBlaFqeiIOuWLI38ZpAh+ctXm+ad2ubPJEBpR1bVNViYYWRwsuMSz6T4BTyNKz7pVyf3\n",
       "E1DnrkjfuuHwESatYH7/1lz0rAb1rx5xh5q+sdIzFyWIZU9aiFYgacDPWZqr8Jmyua0ONc16oWKf\n",
       "15Lmwskpqamw1Nx7wcfenHn9fXD+fH9P65KnSo4hyau8lliENMKTG5kwWhnuCBpi4jVZOgG0y8RM\n",
       "VRqbMnEA8g+KebsEQskzzApSbJlEuPA05B7JlTw5pvMnnC+SlJRDlfKz5gStR6jhPrSj5/zDnAZ/\n",
       "Qjx4w9Jydl/sX7xP7WSwzUoiUlZXHrumqBza4IVJNvIwg0mfJmKXpoyVlkrf2vmAcEP0aB/XaDDQ\n",
       "lc4oBQgZO0BddUoEe/whRjQ6CbzWcPasIc1lgSv9byypkbhXV3ErjICCDjePOtJ3Bzs/9CvJW6B/\n",
       "3+aJAVbjtHM04UyCuUhIeI1hpRq80Dt4srJYbNXuaH/8r3D0OQVJDT4zSELaYenpPc4if65V6zRT\n",
       "GwQdZAju1jRBzwop3NHVJmZwMOckumvZuPxx/tQavHhmACHgAAAA0EGeX0UVLDP/AAAENwiOdc1a\n",
       "m0YP7IAM/7nzv1TpEZxt+QUHMFJu44hgvx/+JQrP0tjyPrDzb9zyvWL4AK6qZ2IQGXqQEsnnZ0gb\n",
       "tYzzwLy7IzQm+iH+U2Km4j7EHqnFAyw4ReAQ1NrEehuA9XJYfIKvldmeXLbeS5Pi6vzTmD6MFjBZ\n",
       "w0mjG7ecASsD9NvdA3gbYQh3LSnlXfnbtgNpOqIEHGUWinh6VSTC6pNKLr73mAN1gxG00E7Gk8qj\n",
       "gBflr/w3Q91yFjPrY3NazdOTCkgAAABrAZ5+dEK/AAAHw+kPtAZjbrYIWyAGYOTyFNfdnUnvQrT7\n",
       "nU2HgHFYX369RBTT+RjOqrPasilRXzHJl77+kIBAmCsSnd5ukO/XcrlslzLvMi3cLPUMy2RfmwgQ\n",
       "Fti325mniqhJ+Z6SnlKAyoEAAABtAZ5gakK/AAAHxAN4AZu9aC9NGANfFue9+gAm/ZJIErmav97/\n",
       "THhf4buxzLnyeHYdrytN0hbJSioTR00lvkb4i+0NGok5NHz1U3hw2hBCo78NzOzZQkBrZYOU3dBw\n",
       "NZ0sCpyFIlJU5GDjhnNRMAAAAoNBmmVJqEFsmUwId//+qZYAAATigf17sACIuQY9fr5poRAbtV3M\n",
       "C2jvLfEfXlX9DUhF0pIP81nMsSAPM1zO6B18+Pkyg3PyG6UYSI2CqG41AbpEOuIJKGms9O4IE+F+\n",
       "oH/sa9BIDDwiKjcU1wiJkrlRPAHUuGa8SuwCznW0GFlWV69qFlzFejlmLEQnlAVSq6Wqs/3uMdWo\n",
       "Ht53Flh3Z8XEUGGebTZKTZhuI0Efm8G/KGAJlKcVaipTmLqpZAUdlRlliWYJayjZmNPNJjPPrZK5\n",
       "J8m9CzVkdzG5L97vOPxdk7nIqjwQqrnYF0q82ms1+NGrQfzHKTdcoJccj6udfTfxTDp83Fc/SAHE\n",
       "91B0fgnjd3ADC3T/RGv03TJMaZWr9D0qtVNLL5+EWo+U6xCci3n8ucwOH2LbIrtGrjuNHHd/cql/\n",
       "eyv7Lr5A4gExKlg1cbBbP1usVpevfvK3pJo0LDkiJhIpCy5ixL0LpULMK4ZF8ePMKDMbEh81bKYP\n",
       "g3N3qgDbb6OkpKYac1zmy04ZGO/fY9lDvwOD4s+XlsuWN00Ag/pcdzObpK0maKIMzxje2JmYQGIs\n",
       "PaMxAlXeWWXyyFjFJlPmGTRS9JMh8fWKMFUnfOWw5sWvpJx9dvDwDuTkMabVNZfaRsWPzgCgoRn5\n",
       "7eBmj1tzNWYAYi/gsvUgn6oCnZoh+Q/zQ5NR548Kn+3p/4s3vPMoHAs1ihYbwHJQ+hUPSdY6Atwi\n",
       "3XWsmM3MJBh70YabwjZKu4iOU8nsfEVA1ZoJfX7varYGJ30Tp02MxAgFs8VVBkE+luNhu9yD33ph\n",
       "DYddOI3nYS+4BvD+VSkNDtR3cC0GmR0aCW1WzyLpgk2F4ASNAAAA3kGeg0UVLDP/AAAENpj+FIlT\n",
       "TrPBYARuqzbn3d47/hWLkurbD1Ei7KDlHGCWM4Jcr6ReLf8TMlEBoDZqw7rBH9qZyh59NZG0/ryn\n",
       "dP5Dtu0wuh6ikiVEMplzbF+fYNt3eTJCljs5Grz9/DDBF8V/7vJtk7ONG3c4mvMfYgdXTSLL0nX3\n",
       "E3jvnL+5sp+725MQ0qnzhTZZC62eMVm3Ii0TEmhX7XdYP5ua+9k46qJ8d1Lb1wmzUtid+CNPLlas\n",
       "7VfjeZNJR5WAwudDy8NxWALuxYZ2eAfCM+ILEBci35xfMAAAAFEBnqJ0Qr8AAAfGzGhVu85iOhe0\n",
       "SipBR2pgC+2kv9QABOWP9tNxsy+yMYgrKt1mdCU8ApnA2ysLBcCaMlHD8y6B2RdgUBuq2AGWWQ2E\n",
       "UHmMsCEAAAByAZ6kakK/AAAHxZASFN2HQAzIJVQoPHx9Xp8AMUKpbdU9mcFYVA310l+VuPGhCu4k\n",
       "dmxjQ3UsSF5C2qrwEip0F2sr6Cr/iW4E+qQ6WM2hXZYaGKuwT0ziBK7J70InskK6OIDL723WxOLu\n",
       "QN3KHOziacW1AAACPkGap0moQWyZTBRMO//+qZYAAATjCGNgfeAHHXOdig1L+arydW8G4TUC2v4Z\n",
       "mltD2HPc0TMR1bsl8/noQZKu0NrQ/wzPJTabX3KckjXlCO7GU4sNFQ3OlqNcezNgP5qHpoxA+Rli\n",
       "3m1zQaA2LpSsyfSMqzJRfOLAr2ptIEqN+yaCKtLW9ouEYy6W4q+B2AeCKu3VI1j9OW5AaE+szkQp\n",
       "W4tXe26suk462bzp/5HbVkIcohODJIia1QmXKS0zs7F7tpg2gy3MqQxk3g4ob99yF1SFNVw3IBnu\n",
       "u5aaYYhu3wzjkJLB8c9x+iu1kaK/VSFIE12tshzF6V8ZiC+Np9JRsSjFImLH+VeP0aHdF/I3jh9Z\n",
       "9SrpxgzAg6PrFrXcEFg5Z3DzRDjmUoULHV/cXKC2FnZp1/iEkrZLRhqdxzLjZOs7eIUTZoNIb7EG\n",
       "uselYKb4A+k/mtZWrngdriaaliAx+EmQ27BHnBS/81iHBqWx+SnWEmzpM0agLzQgY87bfSRHlP8V\n",
       "rf1w4xEzISTabjGpGLX39rHnfqFaVkRRxh2E101Z5u9M6N4xuwEzoeOW3MBynNHgz0rnIaZk80VS\n",
       "Bxv568sTAxnBocwARk/ybYXLpips0ZaSsgsq8of2Il2tPwfSsvhGXKjYSpieErk9TMTDtLDQngln\n",
       "DTU3/EAJIB9hWLjNyJJHHJTWmboYU2Ibapnm0s2bVwm2C57J0KxfQS+jsTzUmFS295XtbgQxVh7T\n",
       "UmcATckuf1B7V5NrCeKAB80AAABzAZ7GakK/AAAHw/bKr2E4PowANB0lcwe9uch/fb65KFdUs2uS\n",
       "QyMkEV3/4FGlqoqT3etIosCLZTESwN/iHnzd/bcYSjkpWOJkXgqQ5gIOvw4Op2R4ENsk3M7gyO21\n",
       "36BeozKnMhnWuP1cKDVDMo6qNWAPgQAAAplBmstJ4QpSZTAh3/6plgAABOKCALAuAFtIRFOWaGtS\n",
       "tYCJ95xTJ52nD98u1Sn7ursXZNhohrpz2M2HhQ3WyvwtmbguSD/4RpCLhlohKssw234VWjBucJRs\n",
       "/m6c8JMep4Qxhocxa1zSwJYdfKTr1Czyhwu9ygBJMpwO+2pojpwLYHiaK+HFXKDJ1ehKndJ221i6\n",
       "dU4jBfcfHh8TGDYcj2yAwOVXubh8ESo/P1jRW294f6/c5eMMQehn1PYDbT5bpI1xqZmzpIVYYEWO\n",
       "CTPK4y8GQbXhK8Ix/+GjtZC6DmpEsYcUKs8g5cXMxzJ0tSgyil2hHOJlXNHliCGJcHfQjRh46GDy\n",
       "QfxGqEkbozKNAdh4ZV6hkp9Cgk67xY9482yAJke1xQjz9GKcNSokazCy8AVyvFiGLHSI9vZiI+C2\n",
       "UMWRmWrSCYcGWGTmbKL/tYyDhvPWXayqiFvXpj5NFdPseA9BDJ3ehFJjPhRa1P1IpwXiC9HDgNQn\n",
       "dkN3+dplgQCjl4xF7UF6kVXSDETLYoMW8lb2gaBhOc8WazpbJPikf6Dr4vrMo38S92TQCVEQJH4A\n",
       "/3GcmN5s8HdY+H1isd0MpBt+FSwOoppyaZmMgVPe/b4Y+fTIOfvwGqMwMmv6nrdTqnaD6jAE+PuN\n",
       "O+QhTkue+anaLXE1F10T4xK1AZdQlZYSs+xm/2dP4MH6+LpB1jGGKYlNbz3GVToDNSFBEgxZhGmj\n",
       "7K8UqPorsze7Hj2XUQRrgz8jpYBhofLnN43oiE/hhCts0ZlYqaimUT+CVqeZX+FNrslxso2ygOHw\n",
       "bxnI9nns3Pd7gF/PhjWkZw9xnJTw9Q7a6Y49Ze+GBKTnhOr5F27btRchHJbgyuFFiPnCsEKiSncy\n",
       "YmQlewAg4AAAAN5BnulFNEwz/wAABDaY/glf+A+tNACFBi1DT7chl80IMDTdjIkIBAy8vJMj/BF5\n",
       "/Sxm7tEq+4DocrHN3SN3Pj30Y7mP4pouOdy/8e5FV+NSqeirXKsVrvSIYAKfNWx9OV8Tn6UPJAWD\n",
       "NkAtvh0MYEFtq9/nKl/GrA0jRMcfK40Y6clcx53UeeQ1zbV9HdL6inq/p3xwzefJiKXimq6/2fbS\n",
       "9xta3T1Zr+4JHefflC5gyaPQlCcQLz7vcMNcPNBev45/lvTjgcILAtvuQ8WFfJB28PNBACQdiuOh\n",
       "QyPiWVAAAABmAZ8IdEK/AAAHxsx1npqAG4DRzHT1iTOXgeeiXc12tchTuoAAzVWhfeXh48ZIxZeg\n",
       "V1btNBOXXkM+Mj1sinenN/81CzwVhZI398jNzj5YcpzggLqHrUy6gWSQyrMB7Zt51DD1j4GfAAAA\n",
       "bQGfCmpCvwAAB6x/ZdHxqwAWDGwi4yN7Mxq+dlCe9COMyXby2zUSdo7e120+0pLubqkezmDbZeuf\n",
       "euHofTNPKMiNlv4Ebd6OW/kcYhfewATk+axROCN43xENBwRghHXC4JnfQETk0MDaSnbK9EwAAALS\n",
       "QZsPSahBaJlMCHf//qmWAAAE5tZerqNx6ogBXJCASv/m3EUNB2ODDdXBwbnuUqlKYFhSzNATqKDP\n",
       "Zgp+SjWDTMR4MyGWbnunTN+4DqCih+G/ALV0AwJjPVV+gItzTMHfpBf+tZbfxs0UzY1Cc02KXS9o\n",
       "xQRAP80NiZY9nN+cyXAewi2mftqJk0tj0h9obEawcSNRvR/SjDTyXIlfCBoL+Gj2Om13VZs1qXAQ\n",
       "wCpueBpqn5oKd7JO9K9UCxU0npjP4Bvcbd5iS5AwRI1eKzyBRtrfzXSCflb6/kVOzcQiD1UCnpul\n",
       "tjIxmmBpJ8JLzoX6UMEvGT8tfB9QcbyWoBh1clMD/oU5Rf8WBKo1L7HvKRWw2sIrGOs1Llpg1u2z\n",
       "ZxVet9wWOK2QS4hl2a6zUuYR/zDKdChqFIycJNg0mIUj5rEsDawaCCisroj+RmCWL9vG4rpVH2NF\n",
       "v+AF13YTXulpwRKOiLMjvZ+IZti0NRRSv3mPvX9H7Ak1R22GrwxNdqr6ODl5M05D2S7VkKItNWKo\n",
       "AG/dMz6YZVVScSP4fDrqAH44VvXK9NpescmNKp/ecWH0VFN/A31c8A9xiji8MwZbYobmcY9955eU\n",
       "A2ITDuX9djqseZ3QMqwUSfShInJe2RePzvLa877y3dLQUTZeUXE/3bpR2gVlMzUY1mn726AfX+Ew\n",
       "ses+N6KoekpVqBk9riQHD5G9DkB0f0tMyl8aKXVwzLpf/Lk9f2qcah6kQaX+SRu9Z3BepP3i3cGP\n",
       "m8hyyaOij/AE7bliG72BsV1sm9nNbcpYo1NJ1vwf01TgTfIYQ84EO5+V1ATS1BLuFODrdN/j12xs\n",
       "bvatwmyVjaCEORDgUY4m23La4lKUbBpWlj6scXkg7T6J61yE/ytgDt9UXOxIe229ofVASw2KNwEq\n",
       "I3FP8u88kq7mUFY6KnAM0R/OYylfqfbiaoEXDd2yAFcgWd4ANmAAAAD5QZ8tRREsM/8AAAQvMrRd\n",
       "wGaxwAmUdSl6QEamVlUWngo6G3g1JIIaxndcH6RBP+BPxaTgJDkLxUiWCKylftuha3X8ZRaT0GH3\n",
       "08eJ54HA9wptXI44854VEbrmlU/Jf4cfJ7oi5t3XgSnB1bMCPjfRoSbzWYmQJY3B/R5L/cLT6FSe\n",
       "8BCleFDMLr2wi6I41iV8nlSBcYOhUj4FeWTC4OLxEbJDolo1/tmEP+PgpjDxxVE4HrqSSe2/1lp9\n",
       "6TqoY93H0K0ULVUObe5lEOjGLNc322EdJBA0JRk2+bWnXkCh0pDuJqC+tCXvCSzaOnZAN/AFUtqr\n",
       "qGckCMe7AAAAfQGfTHRCvwAAB900C8Uw0AJRrR2S0+oUDRJtxMZN+OdtqM/wSQOTlC9HlEXqcfVF\n",
       "F462GnIN8FCE+1ukIZwxcZueg+cJJZpF3W7sRhqeegREk74MeeQhqOhwv0pgV8WbB2UdC7KqnGFB\n",
       "Rzu0APv9aJAgCV3/RoFhxapKhrVrAAAAfgGfTmpCvwAAB900EdPYUAJTBkcwP22t7yyD2JdqugY1\n",
       "xD7l3825llZRNm4FefRc+f7iVYcqE00I4ubjKVhyFPHf52WA56yw1uSol1OItNzGBEI5IafVpqt+\n",
       "vbavOPpd/f2wmo3P4Yf0N145aLYwn98wvqCknat1mCQ3GR6rXQAAAjRBm1FJqEFsmUwUTDf//qeE\n",
       "AAAa+2IngBx7kI+qh7+sdSHlxKtg4Me4ROP8/HkNRFEP94+R4JWdXzAnstmIx7iZxKLJNapdHMYL\n",
       "ryESV0zZK9GiJsoZaaGoSLbK9IZcPG+W4i4C/0Vc7AJ9NuQVZsDfBdqYMXBaqMVdenDSBYDkJ7NN\n",
       "Yn2XD/itmDsmsOzMul2/FZApZCa653IZhykRhxZMpXes76oLI88Xtbmle2/1eiyG+Ji6ph/v8tYQ\n",
       "pI8g6x8+qKdIAezQZGgoV5md16ONnrzVr2tPxFUlGpAFd9Iw4tDNDfZnSPCFKxTsMoA41DxNL1hb\n",
       "UKF3D7UJxHJ2HAS/Q1ivxqhqupkb4qYpq/vewXzagkigwaSmBoadj76o5ZFgEP6D8j7wNKlkSOa4\n",
       "HjA0MHypkQlwzGOJWS1XQaJXIqR7F8NadXmqUFeK52QtwDnr5BhU61bRaS5LqNeFvdAc4dmP2aaj\n",
       "fs7AR2nPV6Lq+RnqOAUqQQy/QTJQobFjuaMFsGaPuLZ/5BcowBKE8jVgVgYVMdnVX2oQNroU3kSO\n",
       "jU3PMUElbqaGa/Il0/gSNb/FnlrVkICibyQddrq6Wx5WCMyMi8XMK6dpf3FaHEmGEPaCQfOBpkin\n",
       "LVBg2eAkwPFoBNtntMGdgWTTUDOeQmLfjG5O2WyhgwVXX57tdYf8KzENWb0oJcBqNRX39L5AQIrf\n",
       "lN6KwKH1BWsw1RFGAZpEZOQ3REN3XOOlYkmnIiU5PedAAu4AAACAAZ9wakK/AAAV+WN6QAOMTHuB\n",
       "o/SX3WAOXVskSLKvs8eEXBM+E+mhuckTOypU5947jNJfW6IhZLwXL4KLWMlXK0aAWGmU8Hue9YbG\n",
       "jQY8gui9LFvmltF/7NH4eDjPHrVmdECcPXwpLEV8tZg0hX2Rk48IQtbSiOR5MAmyclP4RcAAAAGl\n",
       "QZtySeEKUmUwId/+qZYAAA2Y1OOAFvXQCVbXSFcnarGsA5lGZC37uGpyG7D0zqdUYpMINRJvyJzT\n",
       "dLZBUwZ5PBDpsEUXP9Y66/XjMtFqGB3BK1tjMkX5oVj6csafcRpFqtVSGlAcBF+qi/ZDwOFGPr94\n",
       "lcO7oe8XQ7NSrbRfYw9xru4ZRFFjzBcsEaVIs64wP9lZaSVIFLy4wMAF54XKjnS0Ewi1JNfmRj9V\n",
       "DQ07GhGkpU78Vhsn4qIqMhcz3nWX/0+kPscetvsOy72gAT6HQdrKOxfWi5bCEM1TfWblkd9xwHgM\n",
       "UsgSsPVY9B93YbPzF2RUthygS1ufUc+qdbrCmIGnmIyIYVKYoWwFgH9nc4JCWfCswVHzCguIbS56\n",
       "fOTXmyou5yAwfSrMySQE05lv5Dm+S+ZWeWC70p84cHqUfITKAPrcm4brKhJEId+GAYayesbohYkI\n",
       "sxW2zVvyx9d0T61QUF2sMhsHqDzBXK9Wj9IQYnMFSat+Njy9LjXlD1Kegupibxw1i9LL7KBc50Rn\n",
       "mBlHvvpEOV0fH0FJbpXUTZGQIAD0gQAAAZFBm5NJ4Q6JlMCHf/6plgAADZon76AC6rW2gtxV9svA\n",
       "xONTkPWbbuV5MuGX1gYiASjsblVODQdMULkEjC6MwZCigdPvv0/lHRGOg8eE2s/U5d9hsELnnHpZ\n",
       "w6K1D4yf0KNeDUTnPqXHPCL8OEmqwUKYHsUYX2xqGlTA0QkNJb5o80LLfKChch1syMOS1V7A6Nr8\n",
       "/Ra5XUWc2x/5+dv2AFlWwHLjPdB6MepmX0IKdrsFNSGYjB57xwiajHrbuCO29dYxc4nKXLm/Cl2V\n",
       "3aNPcVDZKTz0HCDNQ+eKJESeHa/AO/WM3X+KjP5W/cvlfim/91zC+/YwcVAt9AqrHZqxPG7CYfy1\n",
       "wqoRZgwtcMVv0gcd31GPQ7b1KuBV7aSsBY24iBlCojixXzUPZQPhenTwXHt83tFHuxEMyEUL88qN\n",
       "LmQXeIjfcDhKxpSEjwSbWzXyyejiQVzvvbN02WrvwFaDjqn4NNJcCV4vfojS/MCFHKWp3oFTeH1F\n",
       "exjMY6U3N0R8629T69Ap+huinhjRjRQoDAAb8AAAAo1Bm7dJ4Q8mUwId//6plgAADZY704AW6LZ1\n",
       "wkwudwJ4OG81w3+QGueUU0xqUe1Lgo3RJIRdOzzL9N+qEHcfZFEjNY0DcYrGwlcjbyEzvRRT3Qn7\n",
       "4TWV0O8sOFJSPVRid3MtA5fdsZeVwO6W4oNW1yaIg7Cd9zrWjnGmIKAIZ2s5jZ+442L99XR6HyS3\n",
       "jXOKtVMcC4M6PtyRYpRAP8DuIRvZnu6rjXl704tn9vjBYaBme4TCVEDJFiCDRDkaodhyj/kx4tia\n",
       "Pkq7Z2eiZHunAxc0S691bNaucUAAZ/uE/Cps33/4Yo41vlgBf++W534H0Qp5wKnotMLxMdRaleQS\n",
       "w02W3BoUssyDPP+RDWJ5WZBOh6JWwPiLGymTF5tPy5j+RetZYVsm6fcruiAqUDJ0ghEtiCkcnEoc\n",
       "tLHHIsFhHfqP3QOnGr9tSt7n8Bkz98Ct+ZiOycHQDfMOEWm4ItHWIAy8s011QR1uSmdjtUvcgcza\n",
       "qnxcrVYbopXo5lL0Wt8cvqfFW5xpwqAzCKRm+JU/AuXrf1Uykycpr40z5AlcZCVJWh4JboND0kWP\n",
       "IV57W7JMqgzHq8l1oVXjwQYvSgWvKkdKhPdDRlDmW/Od0WicRqVgNfwIBENwUVF9vduWA1iDomWV\n",
       "mluVUiGB5DPA73i4uFOK0k0GmgGJh03l29BkTPAV0ZSD/roLlGQnZ7LjGWXvAgNY+k24N0YiYFeS\n",
       "Affvbebe9xhIPDIKdfDhxP5GN/WY53Uw8BYKaF2ijIJ70lsiMocxHq3rQBPBmcUEdROQHcToaOhf\n",
       "kGkGv6tFQnXafUofm96VGSY9oO2YukkvfxymjNJFq6I9gVvDeVLUku6oh/JY5d59mw7Yq8gVBAA+\n",
       "YAAAAPJBn9VFETwz/wAAC8eGvb5rjABubSBn6R+pSMj6V9pEavZMJ1Vv5g5HxSqdz8xYdPTyxgxm\n",
       "uMD3d7UJ0eln0sWQ/Ryff/hWwoFycJhq56eCuEzcXNz/K7vyMeIPiMe6ax43oFHmcavLxCIi9+fb\n",
       "WTzoK4CiYQmQedt/mwe7RM3KWhosOahobRdUzq7Z6WomPJfnAd4fYCHtxgdBQDrT5ihCj5Lqu08H\n",
       "dio22hSrArPg8flL9NX8rcYdAHQikiJfBH9o6Lu0nMNcttgZms7RCnl+9jVSTYPh3MdKRLu8f6wj\n",
       "YF1mYju8CUMlM6xjh7xDneghYQAAAIMBn/R0Qr8AABYQlq5/AsHsXT4EUnrwASqckNS1m9H4Layl\n",
       "5heWxypMYm0htaVbAGqwtP10Ayq5OILHS+r2o/b7OAROS7HGrnP620O3hfrIh24n9qI9xnfXwBJy\n",
       "S+0X4xuFB6621LXa9WQ0vrGzEKw/kBwcn0oOkGD9bsMeN3j2exzhWwAAAHkBn/ZqQr8AABYq/2ef\n",
       "GUcXJ+MAJz9Mt1wUBTz5tkJYdEXECpF3mRkLgFd7/MsafIcM0fvStkYE6xb28I7zbiVI+TN5idF4\n",
       "CxPANHbqjVjv3Xr7010ArmClbThGXiyjUcq5zsVw+iaT6bRNZZgHpR2NBGgeQaW6wA1JAAACf0Gb\n",
       "+0moQWiZTAhv//6nhAAAGvwSKgA3FGcrU5YUXTRFrT9SIj8mEkGkC19O1CBBDnpuNmJ+GXRdZwlE\n",
       "9TR36Mzgfw7zjJRQrcVq35eIj2PY1TQwkU2xridRpStJE/Z8zVgCxlhYIBJwggWQs0wVw/u80J3Q\n",
       "vvHNd5/pEatjayBNdHTl6O2zHf1D0GXlEsT79M2T0CsNUNJO6H60rAXIheqSlRaaYkmP1Mf30hqi\n",
       "UO1+ipjrGT8VHxMRmw6CUqnOasZGRZms/Ku7IZkJ+r74QJB5j3eAGxQjOg9G89TEhFgHvazREOvQ\n",
       "1EtsIxp/0Ik1zym/qWeaGNISjt+80Oks4BAW5FSnSx8ZNAqxl9irP1xmv+e+YBj7YYMkvjjyd+BU\n",
       "Vq+kEN3cNz+HFMYdhznCTEawKqc2TRloTnzISybbQZp3nyZ0FH6UbcpuXpwjugKix7SQxBXWJhZW\n",
       "+5iuuqwXFR9/v1tNqleMbVeDu9d+732em1CnMYJXKBCzPVDcQQAvuypyP0OytHTHtwNloo/lauQ9\n",
       "CTy8YDpj2uMdw6xuUxZNkPFbO3coXGp5m4O08bo4biM08eYIwCRsVHqDS/PHZjBgE3JNyUqwWvTT\n",
       "L2Tv8W0db87xaDIsuQedV9vhGcsidK1X5Iq6pxTo9zhj5XAlftVPduSX2LIKGEIz05hHl/GJJ5NH\n",
       "wd7LvtIHKCxgCaxnXZVZH1NjoGWuwGgrq1LNQugyhV6YbJ8XQpTccW6IrmnbVK/FpKdeeM6iOVvv\n",
       "KLQlnaYH7xAw8DzBWN1Bn/tr9RrqifNEelZhyG6xvVL2qB9XH8GlE2JDoPNkY3QVEElRApJmHy7D\n",
       "tHuSdZqjiAD1gQAAAOhBnhlFESwz/wAAC8d3rT8vWz/pjADXAxeym8yAD4G51XLghmN4l+h/jeDt\n",
       "jSO2ojw61TLd/Rp+lt7Qpz/0lgvZPTHTyXPOj3ywXcOq1zU6u8SB4m91R+T+7BJjAMzCm0SP22Id\n",
       "XzK6YHROwySZ2n3EerooL2Fh9ukKlEw47hBdVHVbTQ2V/0j5r5pics7QxqO6bfDaEBhAfmJZv+uT\n",
       "PbwSqVvHm8rKOJ6oN7iqOgN+Q9M/YOR9QctsL2lfn7Nd2qlv9miPQu9ho5x0eL9YJEVmb32OfnvV\n",
       "QHt2surb0JGzZbgrhVHAAohYAAAAhQGeOHRCvwAAFhBPfXMANwD606o2O0Q/RZIWOjPHOiwjHzEQ\n",
       "MAE/3Oj4UsY4lkMTpiMoAiVcfhPjigF0cD/Hf+EaCgkeGyr39Iv+ZPF8rjtHGfy9/OAYPWQCqPuW\n",
       "9kp+jJnq8X8C8Jh0S9ES6+6eFhEj5SULfP+A8Mp4cUFDQcpYtVwAk4EAAAB/AZ46akK/AAAV3fmJ\n",
       "iAG4e3oWDaa5ci68AczpK4Q99NYNKxPywwhL3QBEGr7DL1oV4UnjumvggR0vXanRNistDg4QM47H\n",
       "60lV0fodPnMvjEAYbt1PAyTFftsX6mhzvftQIzBlV/m1rX5r5iBLjUfqFGGg60L/o+jyfQFiW7QB\n",
       "qQAAAXVBmjxJqEFsmUwIb//+p4QAABsBWDeUABcCNKkdMOeIp50p3deebLhLNSRgnPygUdbIhNXN\n",
       "2ZaUglP8dmujb2tF4hmBH8ZBzPmTmljKFqFZuJkFnt6RH+XLx7b42RCe1kVJpUjTkcxrD1vcDN8S\n",
       "g2Na+VWqhFl/Sl2VScf0s+Wo1iKKOSJqPc/12MeIsvPNfpHLFoApw4zdHt2n+Qaxaw4H+Vyu7QIx\n",
       "1UyfhdUlGiBaUNdoDitiwiYMdlPe+WfSb1R2mKQbxMjjg8liDuC9xZozqJm5kqfx7LYStRyXvQzD\n",
       "g5wdFQYYa/Ox+YpFr4KRfKX7lG8J/swmc3w62vKt8eYbreOzzc8tMKbb7NXWqXX5wZ5KMXz/68Z8\n",
       "pRFM6sUwpj/xfTSGgfAqXQsww4eDISfMqWQeBJrdZlnOozeGJpRsM9XsTV5cPNe3O8VOcj4stwWG\n",
       "VViiLws5xLKc197HEYUTkExhnV5h63d+GszfRJkgaerAAEHBAAABaUGaXUnhClJlMCHf/qmWAAAN\n",
       "kmxDylcIAWhr07c62WLZrNw+T2ZdR5W55TsVcqUKvOkEd0F3V+YqDZKhUkLK7MgMlf9ZZWw5DKwB\n",
       "Qz/tBQEIc2OScSPFfs5+Qt+HiBt1eJAbTEymZkcw9doCDnuhIiqc7mTMrth1D6RPQ0MvUvssWq46\n",
       "1H8AD1lc0isUMam4RtGUypzCjS2cBzw1jnStq1fjiMVv7tOeC+NKMLM8xrttTCc/oZJqQ5CS6zMg\n",
       "HWwNoFMsHY99ApdPZvpv5N4kz1QftplMG/+lwt84ftMy7CddNQ0+/pdhmSf6LoD8wgQxsLUVm4ug\n",
       "GAyMJucUcKw73QzHB1nW0QCSHm6U40Z92Bk+fVVdhywgRK8XH2EOCC/xGePMeRTky18lb6GHA+Rc\n",
       "W7lsI7ekkAFFbij05GxdTovisWx1YkkBQyNoza+LjfMvhh44uLrX4LlpP4kUn8nzsRUYGdY9TjAA\n",
       "ErEAAAGwQZp+SeEOiZTAh//+qZYAAA2YxZUoAP6QsuGOZ/vkz9C5sldjbvcYfhv2Ei3oURz92VUa\n",
       "J4SSCHVkY4TQiESRyNpFXyAlGNzrjfGz2mYqMFrH6df2k1Co3nlFvFsJ0TEHIKVpTT8cgtEsOZeO\n",
       "SVzC5G5z/95dIzUMxLTfnr5vcNbJ5rOjsxGrGRK1eyc1bbmPFYvhJzAnef0KULY133LN4DnCGdwD\n",
       "TTRzPJD3eDULDNmRl4dZ1LgjGNzWdgWn34l8I26LODSW9k8iyGcZWqLqU6tZk/LxvViKutQkvp50\n",
       "GCkSmC35jj7Ug3/vWxA9JpiuuWK+K5TP7YDCM/jGoCVJPYjzCsr1CnicR38pzdKcNfqbKcIRty5J\n",
       "FC8+doYJCv6JLjypECEc7ZyItLKZ3v+XRFU04UEfTFJQV1QJre4kfRVQcE2eeAkQGsXA8FyrTpV8\n",
       "ktTxzgL6jFllP3CBac05RS8paca3tSiPYCzpDAJEJyWLsvT98WQHRQiaU5QMvnfAyllhUrplK5Y8\n",
       "LqyIWzn1K5zOHK52S3STN2yCNXutgg4rt38pEPYZAbD9OYFEAALKAAACUEGagknhDyZTAh3//qmW\n",
       "AAAN8K8+w5QA5Z/kwzgsLWDqCe4VDjwvpFkUZnASk+glVkIP+CWkN2E15bAmoa92sZMib3z8k9OZ\n",
       "DmoYj/bDnvV83TcXbFAOP3mizQUXrTSNivFTGFtLu/Qg3rRq5RnHeu7oJT7nfk0J86OSJnVbgUMn\n",
       "Gtpma6/t2vmd5rPE6wmQpLsCWcj9PF7Or+lD8Vn7DjrNiHLlkS8cua/h0IXdpQzjIGb5i6qEgWa/\n",
       "KPhqqA59lkLxX8hArW448rWRl8wKsO+ttjGvqP5MWWLCxGDlhU2q+/Ujdb2CldAiBXwDUf0fZQDs\n",
       "QXbehSqARXJNZ+GN3rBZ8/g8mhnBmWAGa8Av8Uc24gI1n4RGYIOKLGMpYD4Ohqd68L3u9izd2lHl\n",
       "OjB078DIZbk+Oy9BWixxssygisw1FzI3vO5eBJM4VEruWXGwz6RcibjgZFCYANMEl8aGe4IrF0cm\n",
       "4Z2TD5JZKmocCw2MgOvNQvP0Hs5rU4psHYlqpK06d9HYYe4Aj0riAa5N1IUZ5bAO3/Ej++gGfrRb\n",
       "j2mtIWH1hSf36tIUTHWaCw+eWGpCoBP+u0sX7QIdrEwS33VR3er397GRybU7PUWLM1X4gDE3IaGW\n",
       "4CB2kJqqWpDAG3rLmcWfxT1SgiBQ6hFZdqNCDmH7oROaPOQJJ1+bNXMPLkeMbtc1oKkRlBnZHACn\n",
       "WTQwjnLRG+vSrB8h3SnVA6fRS9txNWNPya7vyR4dulsn2QVs1zpMTOwopV0LjsyvTqyQDb5cqXYQ\n",
       "Yqdva+wAFDAAAADbQZ6gRRE8M/8AAAwy5aNusATdsFN4/WNbOIltHggzf2XIF8Q/N4UYiMesuK3R\n",
       "RtJj3yv7wFkqnGv2VekyTwlzs0f9QXoMqhuWRQCpIu1Pbr/PSurkiujgtjjUxLrzD3oso95lU+Ee\n",
       "ssEU+lLcBRKTrL6d5CjZbo3D+odEyIfxqBVIyN9jFSvBfBGQIYsSMUKDJFaty+4gJPrZyh0US1Sq\n",
       "O0JCPh2uTiGQhQrR98GcCkc25/Z4BduHuKtCVVIKcLd2oDgIWpuD7jkhZqNqkeF5tKqNj6IvWUcA\n",
       "7y2hAAAAigGe33RCvwAAFgiP6Us4ACrwk2jMqY5XAQS7kph7PhhjvOYxvEK2GTYpAHuNYQVYKm8/\n",
       "nnmA8XANigAmVidVGBdqjNl+XhVjTLY4pLG+nPVv/Mw5d1O4pOGtfNZ09yIiy8dgdRljZ7ZbGvAo\n",
       "yna06vkfJSFZ22gaCpY9eVYpJqUyldoz9jPX+SBFwAAAAJkBnsFqQr8AABa2ieNocbwASbiM2LTQ\n",
       "3YZ7dHN8LcNkAgLXkgNcmWrOwZicNgrauFo0rfxUxSjaIvcBVSlPRFS2SH9WQ7X2yx2vgafdHcg8\n",
       "6a3YnV+Mn0oecawI9RthU4rSbeyH+bMA0NQJJ5tOrvT3g7WsMGqnFxpSOMf6O5B7YhbsY3DNAgpF\n",
       "nE0/Wceai6xhWasJFiUZAk8AAAJDQZrFSahBaJlMCHf//qmWAAAN8cBpwESAIDGNvHQkJWY18VlK\n",
       "MaNK5T94MCblsYAeCIuQpmSBdjrDZvxmOy0g8XQ0P/p0f7dyxcbOo7YvAIw0A844sE2tF7p5eBHC\n",
       "Z2eqL6ddEJb89+Zq6RNOoKuwxRWKDjwCrOkdOb5mvxTpv+1FOB1fxz4FUI3aC7OuidHM64k6sBar\n",
       "vwb29O3HiOCqNjneNA3gFqU4+ARlsPjS8NUtL8CC2GGX7FXwOzVFoV5WCd6nndSgjur6GSrYpE9B\n",
       "YXxFnkVU3BEOZBn/6e5Bq+QDR/hhzuSMAb5rhFsofqZWxJ4GXMXk8VfPP6JhiZ5qSTexzKNc6J3U\n",
       "QE5k9xZMMe4V3Y4FwpgZH/ZE99yG2tvfcnQjevlBrKmTRl5kJZUdES3Irr3n8xYmPkPp5Ff2aYMA\n",
       "tPrIebeuhCYw62PSLEeTE/VDzOJqWrKdxR0nbTlFTYHwmaZQXY9p5fyqq1qcy2w0icRmO5iJ21rX\n",
       "lt5zq01SXLWZ3frp1zV1BV1vcC/OCWZnZN45Q6t+JwhQZM8Co0ap2s5rqLat0zyjNK3tcAZeTwwy\n",
       "LyvG57YoWR4YX5u2H+9x7BqTYqaXD6doR4GKrogBG7U4XhTNxxXHMRPIe/AjH47XgJhTr/X8c06D\n",
       "l2dPIPuvDPHKlpjQeN5H29jZlpWsmOx7KMU3MPYrp0U9DP4yf15J+kmOKQwknWPk9EVKw3ViFxum\n",
       "Tbbq7LPTG845Z6xn2Mrs+Rsxo5uVQ8xBGWLgAPSAAAAAtEGe40URLC//AAAQVDnsuAHxh4hKl9+U\n",
       "vfkgP64hLcsDJeWaVflkqUBoT4VZvdZWAZ3UZ572b+P1tN0V4H3PvhOdvpgRYnL4OIp/+bNqYOls\n",
       "lmSVNGXLTt6BIMrW4z1Qd2qMCzqVStEIjZ2rG14Wj7vyFHti9P7euWLw8GPGq/GSFL/Kdwum2Gte\n",
       "nHGnEUVYJ8rerhAAHIXN1ctT7SdyONdAdaEb3VQA0kTVObAA/QSOz3FC7wAAAHkBnwRqQr8AABa6\n",
       "9y7jqy0EAKpNLOgggwfmUJzm2uJcIBrmdKeclgswnd6yH8TT83D/WVm+CSWwmlrP3pD6/FkeEP+z\n",
       "zcRLw3PKUZn1NweOXr2JtnoiLv5p4oBUkaSjc5ENgFiyF0M91OakYqk8Lf0sDO8iO9VlnAO7AAAC\n",
       "eEGbCUmoQWyZTAh3//6plgAADfCu8dQAbbU8RDHC7UHxPiiwD9WJ5vJxZkL/5+cz0y1NQ9x5bjSg\n",
       "q73Is8osuQEzIGAiU/+MDjWdnokpGMiFZUC49Ga0DJ+JEUyyK8pfDiW+oiFtB2TalIIn7G4MBBQ3\n",
       "cX5asi4a/5yHLk/1eWJXHC1+3ht8GafwYKtAdKCBHr6a1Rb98uXPIJt8+iLcSRODZJ2QBzbib7zx\n",
       "2d32GSM/IMh6Cr82blOCqiulSps7RtRP4TTzVreyYX8zbeoGhxMSwsd9lcpzO+q7VYsmiXR1+olo\n",
       "s+6s6laRK4sYHV8+adNNlk/8Oh4fkX4Koi+x5lweJg3SHS+iiV2Yv2JEZGYy9ULYE7e1gmug6PKJ\n",
       "0PG/zW70LmNywXKFQdBJHr9JWBRce06avsYSl5g2bKBxzT7957dMl2zv+ic1ldrE/VKIGFKv4Ye+\n",
       "yLiFFQnqfFnVo/qiG4p5q7suRTs6m/Q31/yZeA9xnbX7+f0HrsnVnTJ/xdxQkSHZF6SN5RCsWPpn\n",
       "YJp2ajCUzcUGxWbzXVOFghnhLLItESDIcAD1rGXztlqoHEi9rYJZGI+bRMxst4GCEBMoa0ZS+KGq\n",
       "6YFEMOoJHDfbr3iIppb/wnUZKZA01n3B7zUTQUkXFwcf7aG7d0g9MlslQhaPVrs4L8uJwa9Bs0M2\n",
       "n2h+q10BByvO58pe7N0COgLvVy7z+dX+pk4MmQzi2j0TkG4iTaYBr+8/g0YGNDlETeBn8/rFylx5\n",
       "aRhXdbdAC6fod3KELhcEKxWAmpq6ch3hMJzTDI1I4Rt2UIWcoa/9JmQ5zW9CWvmMJUzkoH1L7q1L\n",
       "gV2IAPWBAAAA5EGfJ0UVLDP/AAAMPEWKIADPtWGRl6vG/KiSzEVFPadb+LtTp+GJNeh5Zm3mxDWf\n",
       "v67iAaWz098H/GHAn/l3bVd+akBskydRLNFF42PFDvAfHmv7C7rEdGM1c6vx1L+oUFdb6eclnwpt\n",
       "12IXqIqcLmKEqk44hOBX6kqNzcu4zi5q9gOuTIsvvUb/MEiC8WgdOYqt+3dTrtk5b3jzUeCMOpBN\n",
       "ttTdkn/eDL7IJbo/zhrgliJ45QCyJ+sitr9cl4bWsycvscpBKKnpDyVJGpFUi+ylqK/qPxw33OAb\n",
       "1LXHEuEAQ32B8wAAAHwBn0Z0Qr8AABa0mo4JXgBuU/FXc2n8NjEg61btvkXyfJa0j8d5fE5smykE\n",
       "EizKR5Tv3nEshUZ8bsgIRNd0l3ggz0ix+ZoG3KG/JyEuh6zFcBFcDs3vJ2Gr/heJ/UzBJ2qpLAfe\n",
       "cgar3aLFAfoUmTk8iyVdhBvyX7M6OKSAAAAAgwGfSGpCvwAAFraJ4FIXQ0tCAFuA/2llRPbcFdln\n",
       "23n42mbNQzmH6CTH++gB/E9AKh1xR3thagwyMdC5zaC8N21j1ylYZHf5eL6sXWCFT120R4T9M7g2\n",
       "GRSskpbyF62jCCJ0ymQdwNJFiRmEfBwL/NlXjMOxOEHQN4AdZzdukphqcGfAAAACb0GbTUmoQWyZ\n",
       "TAhv//6nhAAAG7ErkIQAQ9eJNgbhO3H/n/A6wGqKpqsP58jHybUl4XTMwBVfBm5DQMPUmrbQXhGb\n",
       "pR/gsSYnH5rUDCos0+v8EFWhvRLV/sU7BRdWMurLMR2v8uxWaD+fBOC1GRzjU0HF//vjFgt3QYdo\n",
       "HZfGABg481EgE1p8p1zRVWXOpSdALWO0KtpjCNSfcAm7Qlqs4Iq5ydWl783jfeaA4+FZG8fQG6HI\n",
       "+ZHjtkRjsNa+3Ud4UAJ2YPrDyVmm47vnTMeNRA3u8YCFEjqMkcX+OYHagz0visrO8RyPzeOQpjlh\n",
       "+hdb7XeXCphg8C2UyLZq1PZm4HKTPZ9bjcZfQPJ32h6aHU3AL9vNY9JhBCyy0zhrw+6NXjmBpoJh\n",
       "KFo7lMnNOvY3tdhuH2mfgHSBvasgb0o3Dahacktj8bVaW1WVF2zg7zn4nUop3Bx1asLh4GZ2tMgc\n",
       "EOvJrZkFaMjZtm/vMT7IavZaEf3v+EliUHQ+xKNQCYyokJFsEB3KC1h65Ih2ejWU4LfsasMUQ+XR\n",
       "yGVu4QxtIAuZNuJ3n3Yg1WFg9nbzbWs9FV6IyQeHHgY3EiWScUKEPJDeB9PmreOkVk/koNCHsFMh\n",
       "ptPTf1YMQVIQaw5JTX3S1JIEZ+pCdkEE6IAoQiyVctUa4aLIZPAa7URABrzQUzgMJ35e9W9AEcFh\n",
       "ll/WUub0ulS91t6KHfB22he17cuAPG8wxh2IkmPZRjEvNNo/krFlQeaMprDlGdMFY33OGJNcTX1y\n",
       "n6gNuBlmxjHNSlQHE3cygQf60VV+CSX+XUuPYMNKZAusZYo+Z35Wpm/yAC2hAAABIUGfa0UVLDP/\n",
       "AAAMPEWSBwA3XrvhSqflZrm/b5xXfI6hFWf1WkGlRFj1i1GAVZO+dkPpq0Twsa4XCt2Kp9L4c0wx\n",
       "cdlflEVZzkFGE1YYni4fqHlGzyrUU4He8QAneko4M1mI68703xcSKL8Vg+6y7SmRVUOwwRj4cQci\n",
       "rR04y6Hlj9X7+kMeoSqbw/LyiAM+a4L/43xVjedEEa07gcU4iezkp8hVTyRD+n1FInIstkhrSgVk\n",
       "3feRLWQ/SE0bVlRnJ0byI0lMD6tKbskRhKMI2eHVVuZyBHjXdzCBd0lgOSQqMNW53nv8j/U0Ij2c\n",
       "z5yPi6mQQFGMJuI7u9Jyyk5PABJ1Eou//ddOYvmAqt9gl06Vt2Kt1qSFUSaLZ24ShiF8DZgAAAB0\n",
       "AZ+KdEK/AAAWo2qwQmAFPmXbSzXYOWovbhLR6nwA7niKvBj2hr4+1TqLY5nKXBxr1AhIeHBHzxrn\n",
       "YTs+jqPyD/o6uAG4HN5YETdcZI9Cmzm07pQ+hkObqxcIFBdLfk1ZuRoL7e3/8rz3LtWuIRYLkSx0\n",
       "Az4AAABzAZ+MakK/AAAWrltN5swA4oqoixtk+SyriEEoGh4teclAEhTl4QIEa+ZS3FtiAxPbTx8Q\n",
       "fe8cNqlIqB9WMTRbalBXE1enBj/FMiS0jtulfzZ+fQeNKOSYARGyEzpw8WzcGMZeiOSHKOTwSUGx\n",
       "g/CJhwAD/QAAASBBm45JqEFsmUwIb//+p4QAAAn58S+EAG6ueYF2JInmye9wTggNXzIjffSfos0l\n",
       "Ad8l2ufdIXQ5PjGhkdiZdv1DHTFXbEXq0EN8tY9pAWJYCl6P5xXFt/0KgN53H5W7m+Pjuyl0h7Dv\n",
       "nkb/E9BnzkVacuLna7XLqdUzDR1Zxjc/ELHPcgWmAWT0gi4H+Hgk3c5s6sK9Oc0Ekm1SCI1luqMg\n",
       "JayDkBkXpqjpo9QVIRMPfIqAwNpMhJXjlCb2SKnob/2wO4mQn4B6ECta6lu4rG+wmY9wyo7KWXcQ\n",
       "ABjA4zjpX/XUg5iKE22AG+Kwt9t3mzLRfTUls12BWOR1i9N/XDbyF6glysURMe21/2FNw4o9by/v\n",
       "92w9Y2I6cCwX6sHAA48AAAGzQZuvSeEKUmUwId/+qZYAAA3wtAfaEAFe/w1oqiVGqs5fpr+/ltR2\n",
       "uA05RjMz08hIC6HnaZylWlldZrbi0c5Pau9O+BbzPCUJWGjeAbhnfCL5h/4/dptKHhRw1emlJLsg\n",
       "XEmLCKTU9qBj4n5nSUfHeT6RXlJA2DX3T9ar4J+GQ9CYrPcrVA5aqonUpXggqdXAt1w43A7LProl\n",
       "FJfXRWS9zz0xSuuavh7C+MqQN8Sji64kkOQALBeEwpVLFcWxoSGJIK4yj+s+mkG9S4B1PwOKTL18\n",
       "2Ofp8HTQRV8JcsHNeCl+IO4XPmQkHaFN+hz8Hy8fSCkQeuct/5f8pXSjcBdppiAoz/QPiiZHkrur\n",
       "q0fWIYD0zjVaqwj2DCcrcA4OGv35ATHkds6J969BEIXp4abhCckHOaUUqy7cy+cws82uex4l54kr\n",
       "LuoAI/XpLaCGtkdLXLrdLGMxWOzi0ri+a9Z+hWY9nUKwupGwNADvmrU5KLuUhO2/ntAickikfTo8\n",
       "7/3LbgVcMuC+ptsD7Sx8RbaOaH+oqw+Pyn5fh+SQCrY5oOoWBsedLSk9TxLIemtiVvB/gA9ZAAAB\n",
       "dUGb0EnhDomUwIf//qmWAAAN4sxDw/IgBcGj1tu1hF5Ge2n8VjufwI0k2EZACkt6W2neQnKPg8gQ\n",
       "KyZQmLyW99Irjbwtv8sFlh8qkIGWBkdE4ACVQ0iZTwj2hqfXxdpHKMh5t4xKGI3+utTem7XxNVeZ\n",
       "hXftI3izf+cfQqMBS19hJxyWw7SKukmlJhlTHl3hwuq0dW7n+tJH5+cNL+KVVE5tGOP+0qU+SVI1\n",
       "N2yanAO22U+qptKyHs9YNXekbyS3bcVoUJ+97rBg+jnIz8jqgtBDMRdeqA8vX9ZK6JvLiLbBqyMN\n",
       "v4Nunqw0Jlm6CltbHsod2wLfDoiZlp7VM27BtkJulDTVZXQJyzawwg6t/WyxNa6yRS6gi0vgcY9q\n",
       "3FJALg/HoJlHCtXmRj8KW/mZlCrRJBmSuXvDbd2sObrxz9vlF3jrPNXL6CCgIdEZkuq4UM7P+rAG\n",
       "JThOO8JwCQgleewQkrvS6NFYeM4m8r5mCphvCdKIAScAAAJfQZv0SeEPJlMCH//+qZYAAA3wrz8u\n",
       "RACU5qOYIYIhnUHQQcZUeGFhpsartnVT6hQbIKybW/oMOdE3uZ8cpuBYGC/ndHwUog6CroX9hxzL\n",
       "nT/agqFiA8hq8xoFXXEuJsrtHwU8P6mtBRBtIT9vhd0PozZQ7ZbEGLa947tpvdRfvunRY4ETxlBl\n",
       "w3aFwgSiNtKuqdWVHKeApuoesC0d9rHD06JS0Vq1vWqMxFArZZY6uh6yF9JMhkziagMdzeWmdHfG\n",
       "rMUsEwOQ1yWKLh72oL9Vcmui3NrqY0xmSZ6PqrKoAA96D8qffXrKd1JgmVyiJzyWiNVwa+bAvHdO\n",
       "+tXQoAtJtxm0Vf4E0fpLBRkxzECiXZFZtLQu760tPZKZntlDKm5w83TwtaMle/ZQe41Htyb80PhN\n",
       "EFS92AFZGM9QNsPLpY9lrDnQDZssqNoK77PMesdaEO3m085f3gt8qNiL2Y1Iw28VOLIDU6MprjFY\n",
       "AXt+KSxgLnKoOe45GWG1YoSBnDsfqhTmD6Akg/5rei/88bMwWv/W9foEh5q3rK8pHPy7GRpkgw/G\n",
       "8SU2epgxH2cI5rcwB0zlE5pUu53w9JGJgCCmT586uZ1Uu6CoKA42sIELgdIs2zYPsfQaclpEMXYV\n",
       "kUZ+BUHlMPeyRWEFkCdCnRqpnw/ZmNDMFzFXpntqmncNKzPSeFCEX9A3nHcTBKAu4Su6T9YBp75l\n",
       "GkWtoTgeXBTbOlF7LJ3KbNbHflopDNVwSI5JTudDq9YTRuhjUNbeYJ9rBpBkWVPMjiSk/4zrZBN8\n",
       "UxphG6+BcjCUFOq/HIAGfAAAAQNBnhJFETwz/wAADBe/ctxbiNxwBEhu7pDmPES3eJWfJxnZBS66\n",
       "K0eGZSi56f9TRiRd277I3QUUG/Ku2LOXvkK23h31UALwS88RLtipMcadrfaNdcy042ZLpwiNY01g\n",
       "S3WwucpqqSir6/Dx6i44yDEL/1bl6rIF7ij1+zeZNAz0elQEF/L2lqZhCjAbj2K2E21UaUaOswX4\n",
       "HVR0sCk/PZSw3sT5GyYEftaQoUtjWpFZA6MNKzCXUMD7R66/2saKmQJUFgDIXcmWdd0SHjPPD+i0\n",
       "L011YQsrC+TLQGNdwNTDww8PPbZ0Qm0Krt+n71h+yIURBBpz2ZOeEjy5Zz9rl7d01iyhAAAAkAGe\n",
       "MXRCvwAAFqq6sfAAz88BsEllyovT9hvQNpSdFwhxSVQGTQ964dpk94/mz3X8uUxmW9TIPBUH+wot\n",
       "K5wLCyCNf/jmpAJfWXKDTjq0lq5PEhSYQUpF4Pt+v8ogwG+XiASU2CjkdzvvnYwwnccKkkg00K+K\n",
       "+Su28O1PoFZ7MI9jX7RIrIZ3DWj83zIYaoAk4AAAAI8BnjNqQr8AABa69y35bVkTV4ALVGmlEeEY\n",
       "soyRF5rJ+lf9MxwxNXrB+hmof1NpgURwBsICu9/EllIaACcN00oMr6MbTaI0ux2LZHHUO9p/JYK3\n",
       "SKYHu93cBsunJANaHq9CNAzEHn6tWvpCeYHRTY80sMUwFvDwIUhnfiIf8henlWLD6/SKPXAX3TA8\n",
       "uUBWwAAAAn9BmjhJqEFomUwId//+qZYAAA3inqcOIh25ugA4tWeTfbsL6nIHYA2VwQidzr6RrikL\n",
       "3InHroo3eRUzbXgbLTm+l9ThchK7qbxsPm626UR0B4UWKd2wsgqgW1UBeMKaXgQBol8WhLapVMWa\n",
       "8E8mmWNQsFc/VF69AGlnlypVMbRpAXzwlmkcjrjPf3oZU9BMNopLOwr+2uMgcdqwGDTelqSTNh16\n",
       "0rshwvC82bFXQnSUuxRB/62+KigYTqTMMxrkGw3X7EHkgUvwxPKylX6yDEZVK/wqEkXUmOwrCpsF\n",
       "dgejKDPKkge+CbEjwwgLDkgxJFGxMMT/vx52q34lrpPyNC7v/oykN2aVqFAlDhXqK+ZponmgkrWW\n",
       "UiJYc3u86KIW8BI8VnjHQak01OQcIxFZmpFh092wmB1urAOLog3L4YcvrEUJ5fX6EgeBvHLvoMp2\n",
       "cmifLlFT0UcjLFmhMMUkmileTPqZr0bRnubm49nkpuM8IGHzNl8rkus8rXBV6KNTbbNiOLReWfzV\n",
       "KpNZuZwJP5RvpHgMggb65Yo3e9SvNCC3qCzUjF6P1/kRUg5duLtYusXNVvXU+O83w9vhfcTUVCAf\n",
       "M7lTTVinYCTLOXF6DxGi8Ij4AUYEhpiCVDhlr0EyqIt+Zgbtzi4UCnP/cbOX4txj20bl2JNu/dDZ\n",
       "oU018PiOCUEMlhUK6++mSmmReFccV214DHYwFibLnakm6+glGgLl/Fj6RzG3ux3D20MdF4iuwkVA\n",
       "04gOqAvVpxaW/5ocblHwz48mNMf69+9GupVZEnyQ79+WnKyoIQq70KbS630WvQQsxTFqmU0Y7JE5\n",
       "ECZ/0TStE/F5J1rmuIicNHHgBA0AAAEGQZ5WRREsM/8AAAwXv3jZdtdz7ADiBcbEI3mmPFHyo2Ja\n",
       "c8gBwahAb306Hrm0z05cCROKQZyw3OKpcHQXtuofZAUvxEXKrnDbxau8IfgSqjaTTic5FQdZs6hf\n",
       "UlbNsxY1nrgsfdDoGDoN36cRlc+P7NO4zXvoA1LAYcAhRWEkVTIagawaGgsCokvACk4+HAQXB77i\n",
       "KmdKxR5tnOLZMUwermhiCkOLTT+rj10l0JZ1GGKiLM7cW4dmKHP1F8HpaHMuIpxtGIE32YYJo2KR\n",
       "3HYXGpzWi78H+QxQkrN/ZSKLjsVM9s9uU/cs6nsrVTiRLAk4u4t4AdMC7saPUO/ShWccCY1WBG0a\n",
       "kAAAAIkBnnV0Qr8AABZuBA7wALTSitaF8K9YvGzd3ZhsSoPL8Wih90YoSolIfpu0ifCRn75lhBLR\n",
       "SrTpgYDuWG68NwChNdMh4FVZoSguHxcynkxa+Szb9q8ElhvtCr2/RED+Pj02UsO9PLlWQLsahYlu\n",
       "jHcYKdkTjtlgaeZ5haRdygihmuBYxnB6pMCtgQAAAL8BnndqQr8AABZt/Wta9scAD+/PteFemE/R\n",
       "FG9EOisx91AQVor63qEpV9GYV+h2ucTvqDvfQE7ngX9+qsp1cx0AOfMEM2uDPvlNDv43Rwvfudgg\n",
       "99+RhM5JL8/TF+jgQUkjWXwl3mWznr20NrRQkiXuFoDL+1DjTXchNzfADm3+aIfgk1c2Qot8Okm9\n",
       "o+tL99xmrBNBqzlbaSpuTzPC6xWjYOz1JT2MzTytHJ37m+Gx+ucmEY2kUdorLQw6FDAoIQAAAmNB\n",
       "mnxJqEFsmUwId//+qZYAAA427IuD8GWH8Qx5EAZTXOB78lbqw1hCPj8EbGOl8ph9OI/vNyhNdpD+\n",
       "ILjxot06Fc7Aj5Y2qtkhN0Fgm/YMKQQ1Q/cDAGDPh9XjASmjy+fEqr7JwRH+XzS4GyCn/1Karzab\n",
       "0ULa0YocgWcbphi8jt789Uu7nvlAwWfVVDXV9KgbXwOV+UBLLuc1+oMWklbbi55KzJKRXgK5HyIt\n",
       "lkxL+eGhQKnXeJxpI8wHdJahhmU1Vdca0mghFOPl44zeYCLMr+A4ixwVIGUQefUyiXefBf3eJAUL\n",
       "6sMrm5PEjyv4TAum+zsUrtqiVrco3C/c6fV0aPa1CHompJ4DYr2Mcyrn/0OKhChDCOGZEov4ij7k\n",
       "rLshDu/bwu704Rnj9iVsRPz1EMLVV8Hi3nIwIYQQfLhI9GDBb2aHlQiaN9MnINtIIMB2YMfgiYKO\n",
       "1iBINraiiXLfVemn2MF6oimmYmgCSbwrPVnGVh1lFBtfTPmwSpp443/67uWxim2v+ZprGU6gm2up\n",
       "GGhpFaqzoMv05PqyZPt+DNeRPvDM9ptpMeSlc4vG8jvoFcEs4TQpmjupos8i1Tv50cmCL25l99qc\n",
       "vcNyk3ECQ31sS2trCFdgQvPNNq4Ky4U86lEEaBsKSBb2+Sc7wHFJ6bJiqPMqcqeMRZmfUonHWwIy\n",
       "sGKtx3E7Sn02DkH7iUEiJx4fPJJIb1ro5LbLW7Hz4t+K7RwC+1Uyo0PoFjpQP9Q4+HXEKhIzMcYI\n",
       "IW7N/cs9OtYrtDnow0gfyUHh2hYbi5hF/Xm5+Stgjo71x6j2WABnwAAAAPdBnppFFSwz/wAADJek\n",
       "AA43lAEiwe6QKzRG4lYMTYOI812RhWsJj/lLtSCaTvFAKFQa51M3vMzhUmYlaMJx/W5Xjuye+JCO\n",
       "Tld3BfEYpKEZACWsprOF5KEXN3AEnGAbVfR/KFPCDMTkQQznRrlz4HiHX2PdMw04UfFpyoUMRRdq\n",
       "kT+X9/9Gs2u83Jd/vkNsb52gK112yM+3/HF4eQRy8xYkPU+0yZ2cbebzrS3p9OpYd9LAgOstBGml\n",
       "SqaN9ZMwfKyf5sEwDqQTc0GgazAZDxHPlFAh08geWsQVAvmUrPs8e+x/x7P1W/5CUmoQuqeiRAfx\n",
       "G2rh5C2hAAAAiQGeuXRCvwAAF0xQAAPAA/yKDKGz4XhEon7wcOdCoF0I6j39qoDWW4pQdZQ6QdQ6\n",
       "VewoO9U2/6IBIgZGk4GxYjvcqu0plXwCz6bl0xBWmxuRlJ8uzI0YC+7gR6en5HYHuYxvO52d/RR4\n",
       "8fOuKaFBEyehVOKRGwaeAccPOsLpiUABFhTKYtUtDYOmAAAAlgGeu2pCvwAAF0aJ4par5TjwDbMg\n",
       "BbCN/vL7oKJRNDRRS/BW/CJjUUA4gKWej/JyEN3XIfYt5aTro0efoAWXr5fJ9NaJ25Bf55kBdKi5\n",
       "Ol3qWoX95fZ4C1jzuGHUZGX+gNd7tu6Sr1loX5DgIOgK4KSKdS9HdJSRvm4AUlQzvsDPELnYsI8k\n",
       "imsE7SkAvqHvvqTSwhAV8QAAAfRBmqBJqEFsmUwIZ//+nhAAAG5t3mIzbOjjcr640wAG4o4WX/6G\n",
       "P4VqZb6k3BDtnfF3G4pTn0zzlv5epSW6HItekibacQFQdX7MI04DMk453pd6w2tftm6PlNqm8Z+v\n",
       "kGxCcjgLSwX8UsHvimA9bIzeV1DPBTNnetv9DVBtO5XXULmmisQaljkiDxxexGc7fI4rD9F+BJ4t\n",
       "tmNsGf+pQzBK9EmuhHKz46UFsXOAABRnK3R0H6k8hOp+/dQTJ/T8p0TT7mEY3fRZEwuBZqjJq4Qe\n",
       "NtvU6ScY36gPYUGeJJLDlkm9lARb3Aq9PBF2mOU5QkeaAJnWLR6s6U5TeWVuDGgV/EPhcYSZLMCU\n",
       "vMYsvdniH1cCYyftFQoIishcpw37kk/ZAtRxfeZmjw6VFE48bTPOIgiD6Hegky/6YH5RyAWrm0wi\n",
       "tH/6/DQXbucVnWsH9M384gZU3299tN0ap3UH3hLxgzy+27q+z9rKlhlalodTutpwrHvWMUwgch3O\n",
       "WPyVHhhbIgccA4RQ4fOYd4zz5WWYhfAImZo7SvcB+9e7OdIcux94EtyW+vEoGN4foKupKwXrZP6u\n",
       "9TEZy2pK9jQKJZ2ImI6ldpLR5vgPJumFIHWcFrVveBkU21RVRZ0Cy1hRU4VpqhPFZhJ+HkXfO+Vd\n",
       "QHREG4AakQAAARBBnt5FFSwz/wAADGfT+Bjf5M0gwADim7496glZKLUWJiNygtrMXcTC9Bhuj7Sq\n",
       "FBuqj8g3pzgLvyXiOa21QbjIWGhBga08gi9w7qXBE1du7XFJyOcuhVPwT2FTDwG/A7/1rl8cVDK1\n",
       "S2MvgDvN0Vn+LXpWM2fcu1xNRpqA+x2nH5jt3hu1mqYaFzLMEkt8+ZW2VdoZl1CAdn6OOYs6fURx\n",
       "GtlCutbeb7ZyPA8BqbRZHLSDzlwL4FyfDvULxYLDXALO1rScTyQVcjuTN2jgtkukm/N172JRBuAq\n",
       "3WXejtrXekWFSzlCLePnDcUmDSDW8kQRvDBJerLazb0z3+Ww6st1FWytjHMckDs/MZu091MVMAAA\n",
       "AKoBnv10Qr8AABdEtjTWFXBianbAAFWcm16cSjdDsbdDkWcHMG449b3PaMDyggc69NFNDbScV60Q\n",
       "GM8woj0tcb/v3oTwZktB8fV+nYwtIvdaKNDOZjYkqvYTOCCC/dea5s2Jp+k7mrlTa1RHK1NoL7PS\n",
       "K5TGvqnlCLNpQKFQXuDa+/Kq5KEccXiFIznnOp/KdFgPONmolNzkl/nqj0Zk5DpHAm+fCXIyDYA9\n",
       "oAAAAKYBnv9qQr8AABdGmN+TMtEAF1HYJt5cv1ls1/TiIc6NwDaG2igdUlrq1TYrf8kZ27ptHpE+\n",
       "xBQc23ngAe1MI18diWKPvxagiKweT8wdMXmVOGjbTGqon+ls5asND4Hzvx/TfybJxg9LvKcvYHEW\n",
       "UpRgaO5Q/2TGdKevC9E4mqpkWD5gJkfg6dPix2hDTes9YrXmd+lUW3LTw7bllf0CrKC5gyMAOAl5\n",
       "AAABXkGa4kmoQWyZTBRMK//+OEAAAJrRVWY2AEYby6ARfBTWK0n+VeejZzZawbEF1lQ+ondwI7Gs\n",
       "gmOR1bEU/N4mk2D6EJtAM8vCJGEEP6IDOOj6iJzLu2uX15HYqOaBDZeSCzrpfhFOsAcsMGcVjsYx\n",
       "adbGrAUYlsCpRQWbPOOi6hYGWvCQ9fge7SThKvc7HwsBaCrvqnm1m1rK87mka+9RAd42mwLLPP4/\n",
       "dfmQRJr1+F9eX6jnF5zuyYjY12o2JCFVAIyQPILQZwUusPO4ZhY9S9Y+enAtVWqHqVnpXVLB4G30\n",
       "plhkBKmAq+Vpx7vRrWKd1dl+wmFUpptRsRyMJkyA5ffRTmvDXLMhnW8qLSqg7KAVwdzyG4kMjl3S\n",
       "sPOdZz4h7W1oJptcy9vguDIWzA3sBotHH4py0fX0/pJDOzLZTFLptg7WAQeka8SCEgLiRXqPQYpz\n",
       "rCNNPQm5e6GbQBgQAAAAjwGfAWpCvwAACA+kwEwAXUdUcJGB9VmXduJ4Q2Ed9bP6IO7mpaPUvzxR\n",
       "UKPZWT7xX4Ixlvez6g6N80KMPBb+DiHdL6XLARxNNAoXdhNGM85TppsXFkBI6Nwpe8uzcaInMock\n",
       "MloJSwtkHbie4UWQ61WObrSnJ8C8mYP/YRfZBiGxgaEubKGJmgMt4AYL3ZQRAAAHjW1vb3YAAABs\n",
       "bXZoZAAAAAAAAAAAAAAAAAAAA+gAABNWAAEAAAEAAAAAAAAAAAAAAAABAAAAAAAAAAAAAAAAAAAA\n",
       "AQAAAAAAAAAAAAAAAAAAQAAAAAAAAAAAAAAAAAAAAAAAAAAAAAAAAAAAAAAAAAIAAAa4dHJhawAA\n",
       "AFx0a2hkAAAAAwAAAAAAAAAAAAAAAQAAAAAAABNWAAAAAAAAAAAAAAAAAAAAAAABAAAAAAAAAAAA\n",
       "AAAAAAAAAQAAAAAAAAAAAAAAAAAAQAAAAAKAAAAB4AAAAAAAJGVkdHMAAAAcZWxzdAAAAAAAAAAB\n",
       "AAATVgAABAAAAQAAAAAGMG1kaWEAAAAgbWRoZAAAAAAAAAAAAAAAAAAAKAAAAMYAVcQAAAAAAC1o\n",
       "ZGxyAAAAAAAAAAB2aWRlAAAAAAAAAAAAAAAAVmlkZW9IYW5kbGVyAAAABdttaW5mAAAAFHZtaGQA\n",
       "AAABAAAAAAAAAAAAAAAkZGluZgAAABxkcmVmAAAAAAAAAAEAAAAMdXJsIAAAAAEAAAWbc3RibAAA\n",
       "ALdzdHNkAAAAAAAAAAEAAACnYXZjMQAAAAAAAAABAAAAAAAAAAAAAAAAAAAAAAKAAeAASAAAAEgA\n",
       "AAAAAAAAAQAAAAAAAAAAAAAAAAAAAAAAAAAAAAAAAAAAAAAAAAAAABj//wAAADVhdmNDAWQAHv/h\n",
       "ABhnZAAerNlAoD2hAAADAAEAAAMAKA8WLZYBAAZo6+PLIsD9+PgAAAAAHHV1aWRraEDyXyRPxbo5\n",
       "pRvPAyPzAAAAAAAAABhzdHRzAAAAAAAAAAEAAABjAAACAAAAABRzdHNzAAAAAAAAAAEAAAABAAAC\n",
       "4GN0dHMAAAAAAAAAWgAAAAEAAAQAAAAAAQAACgAAAAABAAAEAAAAAAEAAAAAAAAAAQAAAgAAAAAB\n",
       "AAAKAAAAAAEAAAQAAAAAAQAAAAAAAAABAAACAAAAAAEAAAoAAAAAAQAABAAAAAABAAAAAAAAAAEA\n",
       "AAIAAAAAAQAACgAAAAABAAAEAAAAAAEAAAAAAAAAAQAAAgAAAAABAAAIAAAAAAIAAAIAAAAAAQAA\n",
       "CAAAAAACAAACAAAAAAEAAAgAAAAAAgAAAgAAAAABAAAKAAAAAAEAAAQAAAAAAQAAAAAAAAABAAAC\n",
       "AAAAAAEAAAoAAAAAAQAABAAAAAABAAAAAAAAAAEAAAIAAAAAAQAACgAAAAABAAAEAAAAAAEAAAAA\n",
       "AAAAAQAAAgAAAAABAAAGAAAAAAEAAAIAAAAAAQAACgAAAAABAAAEAAAAAAEAAAAAAAAAAQAAAgAA\n",
       "AAABAAAKAAAAAAEAAAQAAAAAAQAAAAAAAAABAAACAAAAAAEAAAYAAAAAAQAAAgAAAAACAAAEAAAA\n",
       "AAEAAAoAAAAAAQAABAAAAAABAAAAAAAAAAEAAAIAAAAAAQAACgAAAAABAAAEAAAAAAEAAAAAAAAA\n",
       "AQAAAgAAAAADAAAEAAAAAAEAAAoAAAAAAQAABAAAAAABAAAAAAAAAAEAAAIAAAAAAQAACAAAAAAC\n",
       "AAACAAAAAAEAAAoAAAAAAQAABAAAAAABAAAAAAAAAAEAAAIAAAAAAQAACgAAAAABAAAEAAAAAAEA\n",
       "AAAAAAAAAQAAAgAAAAADAAAEAAAAAAEAAAoAAAAAAQAABAAAAAABAAAAAAAAAAEAAAIAAAAAAQAA\n",
       "CgAAAAABAAAEAAAAAAEAAAAAAAAAAQAAAgAAAAABAAAKAAAAAAEAAAQAAAAAAQAAAAAAAAABAAAC\n",
       "AAAAAAEAAAoAAAAAAQAABAAAAAABAAAAAAAAAAEAAAIAAAAAAQAABgAAAAABAAACAAAAABxzdHNj\n",
       "AAAAAAAAAAEAAAABAAAAYwAAAAEAAAGgc3RzegAAAAAAAAAAAAAAYwAAUV8AAAPlAAAA3gAAAKYA\n",
       "AAClAAACogAAAN8AAACGAAAAfAAAAt4AAADhAAAAiwAAAJAAAAKVAAAA3AAAAKAAAAB0AAACnAAA\n",
       "ALwAAACOAAACogAAALQAAAB1AAACYgAAAKUAAACkAAAClAAAAOYAAABzAAAAhQAAAqEAAADUAAAA\n",
       "bwAAAHEAAAKHAAAA4gAAAFUAAAB2AAACQgAAAHcAAAKdAAAA4gAAAGoAAABxAAAC1gAAAP0AAACB\n",
       "AAAAggAAAjgAAACEAAABqQAAAZUAAAKRAAAA9gAAAIcAAAB9AAACgwAAAOwAAACJAAAAgwAAAXkA\n",
       "AAFtAAABtAAAAlQAAADfAAAAjgAAAJ0AAAJHAAAAuAAAAH0AAAJ8AAAA6AAAAIAAAACHAAACcwAA\n",
       "ASUAAAB4AAAAdwAAASQAAAG3AAABeQAAAmMAAAEHAAAAlAAAAJMAAAKDAAABCgAAAI0AAADDAAAC\n",
       "ZwAAAPsAAACNAAAAmgAAAfgAAAEUAAAArgAAAKoAAAFiAAAAkwAAABRzdGNvAAAAAAAAAAEAAAAw\n",
       "AAAAYXVkdGEAAABZbWV0YQAAAAAAAAAhaGRscgAAAAAAAAAAbWRpcmFwcGwAAAAAAAAAAAAAAAAs\n",
       "aWxzdAAAACSpdG9vAAAAHGRhdGEAAAABAAAAAExhdmY2MC41LjEwMA==\n",
       "\">\n",
       "  Your browser does not support the video tag.\n",
       "</video>"
      ],
      "text/plain": [
       "<IPython.core.display.HTML object>"
      ]
     },
     "execution_count": 50,
     "metadata": {},
     "output_type": "execute_result"
    }
   ],
   "source": [
    "plotvol3(new=True)  # for matplotlib/widget\n",
    "HTML(tranimate(R, anaglyph=True, movie=True, dim=1.5))"
   ]
  },
  {
   "cell_type": "code",
   "execution_count": 51,
   "id": "8d1cb73c",
   "metadata": {},
   "outputs": [
    {
     "data": {
      "image/png": "[encoded data removed]",
      "text/plain": [
       "<Figure size 640x480 with 1 Axes>"
      ]
     },
     "metadata": {},
     "output_type": "display_data"
    }
   ],
   "source": [
    "R = rotx(pi / 2) @ roty(pi / 2)\n",
    "trplot(R);"
   ]
  },
  {
   "cell_type": "code",
   "execution_count": 52,
   "id": "2f9cbf31",
   "metadata": {},
   "outputs": [
    {
     "data": {
      "text/plain": [
       "array([[       0,        1,        0],\n",
       "       [       0,        0,       -1],\n",
       "       [      -1,        0,        0]])"
      ]
     },
     "execution_count": 52,
     "metadata": {},
     "output_type": "execute_result"
    }
   ],
   "source": [
    "Ryx = roty(pi / 2) @ rotx(pi / 2)"
   ]
  },
  {
   "cell_type": "code",
   "execution_count": 53,
   "id": "3e6a5906",
   "metadata": {},
   "outputs": [
    {
     "data": {
      "image/png": "[encoded data removed]",
      "text/plain": [
       "<Figure size 640x480 with 1 Axes>"
      ]
     },
     "metadata": {},
     "output_type": "display_data"
    }
   ],
   "source": [
    "plotvol3(new=True)  # for matplotlib/widget\n",
    "trplot(Ryx);"
   ]
  },
  {
   "cell_type": "markdown",
   "id": "58c87b1b",
   "metadata": {},
   "source": [
    "### 2.3.1.2 Three-Angle Representations\n"
   ]
  },
  {
   "cell_type": "code",
   "execution_count": 54,
   "id": "5e989fcb",
   "metadata": {},
   "outputs": [],
   "source": [
    "R = rotz(0.1) @ roty(0.2) @ rotz(0.3);"
   ]
  },
  {
   "cell_type": "code",
   "execution_count": 55,
   "id": "cf1dd849",
   "metadata": {},
   "outputs": [
    {
     "data": {
      "text/plain": [
       "array([[  0.9021,  -0.3836,   0.1977],\n",
       "       [  0.3875,   0.9216,  0.01983],\n",
       "       [ -0.1898,  0.05871,   0.9801]])"
      ]
     },
     "execution_count": 55,
     "metadata": {},
     "output_type": "execute_result"
    }
   ],
   "source": [
    "R = eul2r(0.1, 0.2, 0.3)"
   ]
  },
  {
   "cell_type": "code",
   "execution_count": 56,
   "id": "046b7a14",
   "metadata": {},
   "outputs": [
    {
     "data": {
      "text/plain": [
       "array([     0.1,      0.2,      0.3])"
      ]
     },
     "execution_count": 56,
     "metadata": {},
     "output_type": "execute_result"
    }
   ],
   "source": [
    "gamma = tr2eul(R)"
   ]
  },
  {
   "cell_type": "code",
   "execution_count": 57,
   "id": "92ee36eb",
   "metadata": {},
   "outputs": [
    {
     "data": {
      "text/plain": [
       "array([[  0.9021,  -0.3836,  -0.1977],\n",
       "       [  0.3875,   0.9216, -0.01983],\n",
       "       [  0.1898, -0.05871,   0.9801]])"
      ]
     },
     "execution_count": 57,
     "metadata": {},
     "output_type": "execute_result"
    }
   ],
   "source": [
    "R = eul2r(0.1, -0.2, 0.3)"
   ]
  },
  {
   "cell_type": "code",
   "execution_count": 58,
   "id": "fde5c3c0",
   "metadata": {},
   "outputs": [
    {
     "data": {
      "text/plain": [
       "array([  -3.042,      0.2,   -2.842])"
      ]
     },
     "execution_count": 58,
     "metadata": {},
     "output_type": "execute_result"
    }
   ],
   "source": [
    "gamma = tr2eul(R)"
   ]
  },
  {
   "cell_type": "code",
   "execution_count": 59,
   "id": "25f28dec",
   "metadata": {},
   "outputs": [
    {
     "data": {
      "text/plain": [
       "array([[  0.9021,  -0.3836,  -0.1977],\n",
       "       [  0.3875,   0.9216, -0.01983],\n",
       "       [  0.1898, -0.05871,   0.9801]])"
      ]
     },
     "execution_count": 59,
     "metadata": {},
     "output_type": "execute_result"
    }
   ],
   "source": [
    "eul2r(gamma)"
   ]
  },
  {
   "cell_type": "code",
   "execution_count": 60,
   "id": "fb21bb5b",
   "metadata": {},
   "outputs": [
    {
     "data": {
      "text/plain": [
       "array([[  0.9211,  -0.3894,        0],\n",
       "       [  0.3894,   0.9211,        0],\n",
       "       [       0,        0,        1]])"
      ]
     },
     "execution_count": 60,
     "metadata": {},
     "output_type": "execute_result"
    }
   ],
   "source": [
    "R = eul2r(0.1, 0, 0.3)"
   ]
  },
  {
   "cell_type": "code",
   "execution_count": 61,
   "id": "d662beb2",
   "metadata": {},
   "outputs": [
    {
     "data": {
      "text/plain": [
       "array([       0,        0,      0.4])"
      ]
     },
     "execution_count": 61,
     "metadata": {},
     "output_type": "execute_result"
    }
   ],
   "source": [
    "tr2eul(R)"
   ]
  },
  {
   "cell_type": "code",
   "execution_count": 62,
   "id": "77bd0546",
   "metadata": {},
   "outputs": [
    {
     "data": {
      "text/plain": [
       "array([[  0.9363,  -0.2751,   0.2184],\n",
       "       [  0.2896,   0.9564, -0.03696],\n",
       "       [ -0.1987,  0.09784,   0.9752]])"
      ]
     },
     "execution_count": 62,
     "metadata": {},
     "output_type": "execute_result"
    }
   ],
   "source": [
    "R = rpy2r(0.1, 0.2, 0.3, order=\"zyx\")"
   ]
  },
  {
   "cell_type": "code",
   "execution_count": 63,
   "id": "cafc941b",
   "metadata": {},
   "outputs": [
    {
     "data": {
      "text/plain": [
       "array([     0.1,      0.2,      0.3])"
      ]
     },
     "execution_count": 63,
     "metadata": {},
     "output_type": "execute_result"
    }
   ],
   "source": [
    "gamma = tr2rpy(R, order=\"zyx\")"
   ]
  },
  {
   "cell_type": "code",
   "execution_count": 64,
   "id": "9e0c0b74",
   "metadata": {},
   "outputs": [
    {
     "data": {
      "text/plain": [
       "array([[  0.9752, -0.09784,   0.1987],\n",
       "       [  0.1538,   0.9447,  -0.2896],\n",
       "       [ -0.1593,    0.313,   0.9363]])"
      ]
     },
     "execution_count": 64,
     "metadata": {},
     "output_type": "execute_result"
    }
   ],
   "source": [
    "R = rpy2r(0.1, 0.2, 0.3, order=\"xyz\")"
   ]
  },
  {
   "cell_type": "code",
   "execution_count": 65,
   "id": "43843ceb",
   "metadata": {},
   "outputs": [
    {
     "data": {
      "text/plain": [
       "array([     0.1,      0.2,      0.3])"
      ]
     },
     "execution_count": 65,
     "metadata": {},
     "output_type": "execute_result"
    }
   ],
   "source": [
    "gamma = tr2rpy(R, order=\"xyz\")"
   ]
  },
  {
   "attachments": {},
   "cell_type": "markdown",
   "id": "941e7e1b",
   "metadata": {},
   "source": [
    "<span style=\"background-color:red; font-size:20pt\">NOTE</span>\n",
    "\n",
    "The next cell will launch an interactive tool (using the Swift visualizer) in a new browser tab.  Close the browser tab when you are done with it. \n",
    "\n",
    "You might also have to stop the cell from executing, by pressing the stop button for the cell. It may terminate with lots of errors, don't panic."
   ]
  },
  {
   "cell_type": "code",
   "execution_count": 66,
   "id": "81fe596f",
   "metadata": {},
   "outputs": [
    {
     "name": "stdout",
     "output_type": "stream",
     "text": [
      "we can't run this demo from the Colab environment (yet)\n"
     ]
    }
   ],
   "source": [
    "if COLAB or not SWIFT:\n",
    "    print(\"we can't run this demo from the Colab environment (yet)\")\n",
    "else:\n",
    "    %run -m tripleangledemo"
   ]
  },
  {
   "cell_type": "markdown",
   "id": "5659bd11",
   "metadata": {},
   "source": [
    "### 2.3.1.3 Singularities and Gimbal Lock\n"
   ]
  },
  {
   "cell_type": "markdown",
   "id": "c34b143f",
   "metadata": {},
   "source": [
    "### 2.3.1.4 Two-Vector Representation\n"
   ]
  },
  {
   "cell_type": "code",
   "execution_count": 67,
   "id": "d42e7aed",
   "metadata": {},
   "outputs": [
    {
     "data": {
      "text/plain": [
       "[0, 0, -1]"
      ]
     },
     "execution_count": 67,
     "metadata": {},
     "output_type": "execute_result"
    }
   ],
   "source": [
    "a = [0, 0, -1]"
   ]
  },
  {
   "cell_type": "code",
   "execution_count": 68,
   "id": "5f471c77",
   "metadata": {},
   "outputs": [
    {
     "data": {
      "text/plain": [
       "[1, 1, 0]"
      ]
     },
     "execution_count": 68,
     "metadata": {},
     "output_type": "execute_result"
    }
   ],
   "source": [
    "o = [1, 1, 0]"
   ]
  },
  {
   "cell_type": "code",
   "execution_count": 69,
   "id": "b2ae1c1e",
   "metadata": {},
   "outputs": [
    {
     "data": {
      "text/plain": [
       "array([[ -0.7071,   0.7071,        0],\n",
       "       [  0.7071,   0.7071,        0],\n",
       "       [       0,        0,       -1]])"
      ]
     },
     "execution_count": 69,
     "metadata": {},
     "output_type": "execute_result"
    }
   ],
   "source": [
    "R = oa2r(o, a)"
   ]
  },
  {
   "cell_type": "markdown",
   "id": "1e89da75",
   "metadata": {},
   "source": [
    "### 2.3.1.5 Rotation about an Arbitrary Vector\n"
   ]
  },
  {
   "cell_type": "code",
   "execution_count": 70,
   "id": "2577da8c",
   "metadata": {},
   "outputs": [],
   "source": [
    "R = rpy2r(0.1, 0.2, 0.3);"
   ]
  },
  {
   "cell_type": "code",
   "execution_count": 71,
   "id": "2be19376",
   "metadata": {},
   "outputs": [],
   "source": [
    "theta, v = tr2angvec(R)"
   ]
  },
  {
   "cell_type": "code",
   "execution_count": 72,
   "id": "9854152d",
   "metadata": {},
   "outputs": [
    {
     "data": {
      "text/plain": [
       "0.3655021863566987"
      ]
     },
     "execution_count": 72,
     "metadata": {},
     "output_type": "execute_result"
    }
   ],
   "source": [
    "theta"
   ]
  },
  {
   "cell_type": "code",
   "execution_count": 73,
   "id": "fb457f07",
   "metadata": {},
   "outputs": [
    {
     "data": {
      "text/plain": [
       "array([  0.1886,   0.5834,     0.79])"
      ]
     },
     "execution_count": 73,
     "metadata": {},
     "output_type": "execute_result"
    }
   ],
   "source": [
    "v"
   ]
  },
  {
   "cell_type": "code",
   "execution_count": 74,
   "id": "a8e0dc79",
   "metadata": {},
   "outputs": [],
   "source": [
    "e, x = np.linalg.eig(R)"
   ]
  },
  {
   "cell_type": "code",
   "execution_count": 75,
   "id": "c86dd524",
   "metadata": {},
   "outputs": [
    {
     "data": {
      "text/plain": [
       "array([0.93394439+0.35741835j, 0.93394439-0.35741835j, 1.        +0.j        ])"
      ]
     },
     "execution_count": 75,
     "metadata": {},
     "output_type": "execute_result"
    }
   ],
   "source": [
    "e"
   ]
  },
  {
   "cell_type": "code",
   "execution_count": 76,
   "id": "28722551",
   "metadata": {},
   "outputs": [
    {
     "data": {
      "text/plain": [
       "array([[ 0.69442042+0.j        ,  0.69442042-0.j        ,  0.18857511+0.j        ],\n",
       "       [-0.07921035-0.56882404j, -0.07921035+0.56882404j,  0.58337798+0.j        ],\n",
       "       [-0.10726605+0.42004668j, -0.10726605-0.42004668j,  0.79000605+0.j        ]])"
      ]
     },
     "execution_count": 76,
     "metadata": {},
     "output_type": "execute_result"
    }
   ],
   "source": [
    "x"
   ]
  },
  {
   "cell_type": "code",
   "execution_count": 77,
   "id": "72187994",
   "metadata": {},
   "outputs": [
    {
     "data": {
      "text/plain": [
       "0.3655021863566988"
      ]
     },
     "execution_count": 77,
     "metadata": {},
     "output_type": "execute_result"
    }
   ],
   "source": [
    "theta = np.angle(e[0])"
   ]
  },
  {
   "cell_type": "code",
   "execution_count": 78,
   "id": "a569a8f3",
   "metadata": {},
   "outputs": [
    {
     "data": {
      "text/plain": [
       "array([[       1,        0,        0],\n",
       "       [       0,   0.9553,  -0.2955],\n",
       "       [       0,   0.2955,   0.9553]])"
      ]
     },
     "execution_count": 78,
     "metadata": {},
     "output_type": "execute_result"
    }
   ],
   "source": [
    "R = angvec2r(0.3, [1, 0, 0])"
   ]
  },
  {
   "cell_type": "markdown",
   "id": "eae0d700",
   "metadata": {},
   "source": [
    "### 2.3.1.6 Matrix Exponential for Rotation\n"
   ]
  },
  {
   "cell_type": "code",
   "execution_count": 79,
   "id": "6951d4a6",
   "metadata": {},
   "outputs": [
    {
     "data": {
      "text/plain": [
       "array([[       1,        0,        0],\n",
       "       [       0,   0.9553,  -0.2955],\n",
       "       [       0,   0.2955,   0.9553]])"
      ]
     },
     "execution_count": 79,
     "metadata": {},
     "output_type": "execute_result"
    }
   ],
   "source": [
    "R = rotx(0.3)"
   ]
  },
  {
   "cell_type": "code",
   "execution_count": 80,
   "id": "65881227",
   "metadata": {},
   "outputs": [
    {
     "data": {
      "text/plain": [
       "array([[       0,        0,        0],\n",
       "       [       0,        0,     -0.3],\n",
       "       [       0,      0.3,        0]])"
      ]
     },
     "execution_count": 80,
     "metadata": {},
     "output_type": "execute_result"
    }
   ],
   "source": [
    "L = linalg.logm(R)"
   ]
  },
  {
   "cell_type": "code",
   "execution_count": 81,
   "id": "ace7a108",
   "metadata": {},
   "outputs": [
    {
     "data": {
      "text/plain": [
       "array([     0.3,        0,        0])"
      ]
     },
     "execution_count": 81,
     "metadata": {},
     "output_type": "execute_result"
    }
   ],
   "source": [
    "S = vex(L)"
   ]
  },
  {
   "cell_type": "code",
   "execution_count": 82,
   "id": "2d6187e3",
   "metadata": {},
   "outputs": [],
   "source": [
    "L = trlog(R);"
   ]
  },
  {
   "cell_type": "code",
   "execution_count": 83,
   "id": "6fa59f7b",
   "metadata": {},
   "outputs": [
    {
     "data": {
      "text/plain": [
       "array([[       1,        0,        0],\n",
       "       [       0,   0.9553,  -0.2955],\n",
       "       [       0,   0.2955,   0.9553]])"
      ]
     },
     "execution_count": 83,
     "metadata": {},
     "output_type": "execute_result"
    }
   ],
   "source": [
    "linalg.expm(L)"
   ]
  },
  {
   "cell_type": "code",
   "execution_count": 84,
   "id": "38638554",
   "metadata": {},
   "outputs": [],
   "source": [
    "trexp(L);"
   ]
  },
  {
   "cell_type": "code",
   "execution_count": 85,
   "id": "f45a04b9",
   "metadata": {},
   "outputs": [
    {
     "data": {
      "text/plain": [
       "array([[       1,        0,        0],\n",
       "       [       0,   0.9553,  -0.2955],\n",
       "       [       0,   0.2955,   0.9553]])"
      ]
     },
     "execution_count": 85,
     "metadata": {},
     "output_type": "execute_result"
    }
   ],
   "source": [
    "linalg.expm(skew(S))"
   ]
  },
  {
   "cell_type": "code",
   "execution_count": 86,
   "id": "6d77dbfd",
   "metadata": {},
   "outputs": [],
   "source": [
    "R = rotx(0.3);"
   ]
  },
  {
   "cell_type": "code",
   "execution_count": 87,
   "id": "a263d94b",
   "metadata": {},
   "outputs": [],
   "source": [
    "R = linalg.expm(0.3 * skew([1, 0, 0]));"
   ]
  },
  {
   "cell_type": "code",
   "execution_count": 88,
   "id": "70011333",
   "metadata": {},
   "outputs": [
    {
     "data": {
      "text/plain": [
       "array([[ 0, -3,  2],\n",
       "       [ 3,  0, -1],\n",
       "       [-2,  1,  0]])"
      ]
     },
     "execution_count": 88,
     "metadata": {},
     "output_type": "execute_result"
    }
   ],
   "source": [
    "X = skew([1, 2, 3])"
   ]
  },
  {
   "cell_type": "code",
   "execution_count": 89,
   "id": "5444a763",
   "metadata": {},
   "outputs": [
    {
     "data": {
      "text/plain": [
       "array([       1,        2,        3])"
      ]
     },
     "execution_count": 89,
     "metadata": {},
     "output_type": "execute_result"
    }
   ],
   "source": [
    "vex(X)"
   ]
  },
  {
   "cell_type": "markdown",
   "id": "87d0d0dc",
   "metadata": {},
   "source": [
    "### 2.3.1.7 Unit Quaternions\n"
   ]
  },
  {
   "cell_type": "code",
   "execution_count": 90,
   "id": "126b7bbf",
   "metadata": {},
   "outputs": [
    {
     "name": "stdout",
     "output_type": "stream",
     "text": [
      " 0.9833 <<  0.0343,  0.1060,  0.1436 >>\n"
     ]
    },
    {
     "data": {
      "text/plain": []
     },
     "execution_count": 90,
     "metadata": {},
     "output_type": "execute_result"
    }
   ],
   "source": [
    "q = UnitQuaternion(rpy2r(0.1, 0.2, 0.3))"
   ]
  },
  {
   "cell_type": "code",
   "execution_count": 91,
   "id": "7542f730",
   "metadata": {},
   "outputs": [],
   "source": [
    "q = q * q;"
   ]
  },
  {
   "cell_type": "code",
   "execution_count": 92,
   "id": "f7b183d5",
   "metadata": {},
   "outputs": [
    {
     "name": "stdout",
     "output_type": "stream",
     "text": [
      " 0.9339 << -0.0674, -0.2085, -0.2824 >>\n"
     ]
    },
    {
     "data": {
      "text/plain": []
     },
     "execution_count": 92,
     "metadata": {},
     "output_type": "execute_result"
    }
   ],
   "source": [
    "q.inv()"
   ]
  },
  {
   "cell_type": "code",
   "execution_count": 93,
   "id": "844b0564",
   "metadata": {},
   "outputs": [
    {
     "name": "stdout",
     "output_type": "stream",
     "text": [
      " 1.0000 <<  0.0000,  0.0000,  0.0000 >>\n"
     ]
    },
    {
     "data": {
      "text/plain": []
     },
     "execution_count": 93,
     "metadata": {},
     "output_type": "execute_result"
    }
   ],
   "source": [
    "q * q.inv()"
   ]
  },
  {
   "cell_type": "code",
   "execution_count": 94,
   "id": "36709904",
   "metadata": {},
   "outputs": [
    {
     "name": "stdout",
     "output_type": "stream",
     "text": [
      " 1.0000 <<  0.0000,  0.0000,  0.0000 >>\n"
     ]
    },
    {
     "data": {
      "text/plain": []
     },
     "execution_count": 94,
     "metadata": {},
     "output_type": "execute_result"
    }
   ],
   "source": [
    "q / q"
   ]
  },
  {
   "cell_type": "code",
   "execution_count": 95,
   "id": "53410f72",
   "metadata": {},
   "outputs": [
    {
     "data": {
      "text/plain": [
       "array([[  0.7536,  -0.4993,   0.4275],\n",
       "       [  0.5555,   0.8315, -0.008145],\n",
       "       [ -0.3514,   0.2436,    0.904]])"
      ]
     },
     "execution_count": 95,
     "metadata": {},
     "output_type": "execute_result"
    }
   ],
   "source": [
    "q.R"
   ]
  },
  {
   "cell_type": "code",
   "execution_count": 96,
   "id": "8f57ffb4",
   "metadata": {},
   "outputs": [
    {
     "data": {
      "text/plain": [
       "array([  0.7536,   0.5555,  -0.3514])"
      ]
     },
     "execution_count": 96,
     "metadata": {},
     "output_type": "execute_result"
    }
   ],
   "source": [
    "q * [1, 0, 0]"
   ]
  },
  {
   "cell_type": "code",
   "execution_count": 97,
   "id": "7e95c736",
   "metadata": {},
   "outputs": [
    {
     "data": {
      "image/png": "[encoded data removed]",
      "text/plain": [
       "<Figure size 640x480 with 1 Axes>"
      ]
     },
     "metadata": {},
     "output_type": "display_data"
    }
   ],
   "source": [
    "plotvol3(new=True)  # for matplotlib/widget\n",
    "q.plot();"
   ]
  },
  {
   "cell_type": "markdown",
   "id": "32ff989b",
   "metadata": {},
   "source": [
    "## 2.3.2 Pose in Three Dimensions\n"
   ]
  },
  {
   "cell_type": "markdown",
   "id": "1207ddf7",
   "metadata": {},
   "source": [
    "### 2.3.2.1 Homogeneous Transformation Matrix\n"
   ]
  },
  {
   "cell_type": "code",
   "execution_count": 98,
   "id": "220c3cae",
   "metadata": {},
   "outputs": [
    {
     "data": {
      "text/plain": [
       "array([[       1,        0,        0,        2],\n",
       "       [       0,        0,       -1,        0],\n",
       "       [       0,        1,        0,        1],\n",
       "       [       0,        0,        0,        1]])"
      ]
     },
     "execution_count": 98,
     "metadata": {},
     "output_type": "execute_result"
    }
   ],
   "source": [
    "T = transl(2, 0, 0) @ trotx(pi / 2) @ transl(0, 1, 0)"
   ]
  },
  {
   "cell_type": "code",
   "execution_count": 99,
   "id": "9766e56a",
   "metadata": {},
   "outputs": [
    {
     "data": {
      "image/png": "[encoded data removed]",
      "text/plain": [
       "<Figure size 640x480 with 1 Axes>"
      ]
     },
     "metadata": {},
     "output_type": "display_data"
    }
   ],
   "source": [
    "plotvol3(new=True)  # for matplotlib/widget\n",
    "trplot(T);"
   ]
  },
  {
   "cell_type": "code",
   "execution_count": 100,
   "id": "c9fb9992",
   "metadata": {},
   "outputs": [
    {
     "data": {
      "text/plain": [
       "array([[       1,        0,        0],\n",
       "       [       0,        0,       -1],\n",
       "       [       0,        1,        0]])"
      ]
     },
     "execution_count": 100,
     "metadata": {},
     "output_type": "execute_result"
    }
   ],
   "source": [
    "t2r(T)"
   ]
  },
  {
   "cell_type": "code",
   "execution_count": 101,
   "id": "10aac3e0",
   "metadata": {},
   "outputs": [
    {
     "data": {
      "text/plain": [
       "array([       2,        0,        1])"
      ]
     },
     "execution_count": 101,
     "metadata": {},
     "output_type": "execute_result"
    }
   ],
   "source": [
    "transl(T)"
   ]
  },
  {
   "cell_type": "markdown",
   "id": "8af10b40",
   "metadata": {},
   "source": [
    "### 2.3.2.2 Matrix exponential for Pose\n"
   ]
  },
  {
   "cell_type": "code",
   "execution_count": 102,
   "id": "7a45dbb9",
   "metadata": {},
   "outputs": [
    {
     "data": {
      "text/plain": [
       "array([[       1,        0,        0,        2],\n",
       "       [       0,   0.9553,  -0.2955,        3],\n",
       "       [       0,   0.2955,   0.9553,        4],\n",
       "       [       0,        0,        0,        1]])"
      ]
     },
     "execution_count": 102,
     "metadata": {},
     "output_type": "execute_result"
    }
   ],
   "source": [
    "T = transl(2, 3, 4) @ trotx(0.3)"
   ]
  },
  {
   "cell_type": "code",
   "execution_count": 103,
   "id": "4656e369",
   "metadata": {},
   "outputs": [
    {
     "data": {
      "text/plain": [
       "array([[       0,        0,        0,        2],\n",
       "       [       0,        0,     -0.3,    3.577],\n",
       "       [       0,      0.3,        0,     3.52],\n",
       "       [       0,        0,        0,        0]])"
      ]
     },
     "execution_count": 103,
     "metadata": {},
     "output_type": "execute_result"
    }
   ],
   "source": [
    "L = linalg.logm(T)"
   ]
  },
  {
   "cell_type": "code",
   "execution_count": 104,
   "id": "a9e11fdd",
   "metadata": {},
   "outputs": [
    {
     "data": {
      "text/plain": [
       "array([       2,    3.577,     3.52,      0.3,        0,        0])"
      ]
     },
     "execution_count": 104,
     "metadata": {},
     "output_type": "execute_result"
    }
   ],
   "source": [
    "S = vexa(L)"
   ]
  },
  {
   "cell_type": "code",
   "execution_count": 105,
   "id": "4e33da81",
   "metadata": {},
   "outputs": [
    {
     "data": {
      "text/plain": [
       "array([[       1,        0,        0,        2],\n",
       "       [       0,   0.9553,  -0.2955,        3],\n",
       "       [       0,   0.2955,   0.9553,        4],\n",
       "       [       0,        0,        0,        1]])"
      ]
     },
     "execution_count": 105,
     "metadata": {},
     "output_type": "execute_result"
    }
   ],
   "source": [
    "linalg.expm(skewa(S))"
   ]
  },
  {
   "cell_type": "code",
   "execution_count": 106,
   "id": "6c150a70",
   "metadata": {},
   "outputs": [
    {
     "data": {
      "text/plain": [
       "array([[       0,       -6,        5,        1],\n",
       "       [       6,        0,       -4,        2],\n",
       "       [      -5,        4,        0,        3],\n",
       "       [       0,        0,        0,        0]])"
      ]
     },
     "execution_count": 106,
     "metadata": {},
     "output_type": "execute_result"
    }
   ],
   "source": [
    "X = skewa([1, 2, 3, 4, 5, 6])"
   ]
  },
  {
   "cell_type": "code",
   "execution_count": 107,
   "id": "905cfa13",
   "metadata": {},
   "outputs": [
    {
     "data": {
      "text/plain": [
       "array([       1,        2,        3,        4,        5,        6])"
      ]
     },
     "execution_count": 107,
     "metadata": {},
     "output_type": "execute_result"
    }
   ],
   "source": [
    "vexa(X)"
   ]
  },
  {
   "cell_type": "markdown",
   "id": "d2509d69",
   "metadata": {},
   "source": [
    "### 2.3.2.3 3D Twists\n"
   ]
  },
  {
   "cell_type": "code",
   "execution_count": 108,
   "id": "34771835",
   "metadata": {},
   "outputs": [
    {
     "data": {
      "text/plain": [
       "(0 0 0; 1 0 0)"
      ]
     },
     "execution_count": 108,
     "metadata": {},
     "output_type": "execute_result"
    }
   ],
   "source": [
    "S = Twist3.UnitRevolute([1, 0, 0], [0, 0, 0])"
   ]
  },
  {
   "cell_type": "code",
   "execution_count": 109,
   "id": "5be081af",
   "metadata": {},
   "outputs": [],
   "source": [
    "linalg.expm(0.3 * skewa(S.S));  # different to book, see §2.2.1.2"
   ]
  },
  {
   "cell_type": "code",
   "execution_count": 110,
   "id": "e46c22b7",
   "metadata": {},
   "outputs": [
    {
     "data": {
      "text/plain": [
       "   1         0         0         0         \n",
       "   0         0.9553   -0.2955    0         \n",
       "   0         0.2955    0.9553    0         \n",
       "   0         0         0         1         \n"
      ]
     },
     "execution_count": 110,
     "metadata": {},
     "output_type": "execute_result"
    }
   ],
   "source": [
    "S.exp(0.3)"
   ]
  },
  {
   "cell_type": "code",
   "execution_count": 111,
   "id": "fde2289f",
   "metadata": {},
   "outputs": [
    {
     "data": {
      "text/plain": [
       "(3 -2 0.5; 0 0 1)"
      ]
     },
     "execution_count": 111,
     "metadata": {},
     "output_type": "execute_result"
    }
   ],
   "source": [
    "S = Twist3.UnitRevolute([0, 0, 1], [2, 3, 2], 0.5)"
   ]
  },
  {
   "cell_type": "code",
   "execution_count": 112,
   "id": "7d5e15c2",
   "metadata": {},
   "outputs": [],
   "source": [
    "X = transl(3, 4, -4);"
   ]
  },
  {
   "cell_type": "code",
   "execution_count": 113,
   "id": "ace2dd37",
   "metadata": {},
   "outputs": [
    {
     "name": "stdout",
     "output_type": "stream",
     "text": [
      "Axes3DSubplot(0.125,0.11;0.775x0.77)\n"
     ]
    },
    {
     "data": {
      "image/png": "[encoded data removed]",
      "text/plain": [
       "<Figure size 640x480 with 1 Axes>"
      ]
     },
     "metadata": {},
     "output_type": "display_data"
    }
   ],
   "source": [
    "for theta in np.arange(0, 15, 0.3):\n",
    "  trplot(S.exp(theta).A @ X, style=\"rviz\", width=2)\n",
    "\n",
    "L = S.line()\n",
    "L.plot('k:', linewidth=2);\n"
   ]
  },
  {
   "cell_type": "code",
   "execution_count": 114,
   "id": "dcd011d0",
   "metadata": {},
   "outputs": [
    {
     "data": {
      "text/plain": [
       "(0 1 0; 0 0 0)"
      ]
     },
     "execution_count": 114,
     "metadata": {},
     "output_type": "execute_result"
    }
   ],
   "source": [
    "S = Twist3.UnitPrismatic([0, 1, 0])"
   ]
  },
  {
   "cell_type": "code",
   "execution_count": 115,
   "id": "6f5aa456",
   "metadata": {},
   "outputs": [
    {
     "data": {
      "text/plain": [
       "   1         0         0         0         \n",
       "   0         1         0         2         \n",
       "   0         0         1         0         \n",
       "   0         0         0         1         \n"
      ]
     },
     "execution_count": 115,
     "metadata": {},
     "output_type": "execute_result"
    }
   ],
   "source": [
    "S.exp(2)"
   ]
  },
  {
   "cell_type": "code",
   "execution_count": 116,
   "id": "a6c9a477",
   "metadata": {},
   "outputs": [
    {
     "data": {
      "text/plain": [
       "(1.1204 1.6446 3.1778; 0.041006 0.4087 0.78907)"
      ]
     },
     "execution_count": 116,
     "metadata": {},
     "output_type": "execute_result"
    }
   ],
   "source": [
    "T = transl(1, 2, 3) @ eul2tr(0.3, 0.4, 0.5);\n",
    "S = Twist3(T)"
   ]
  },
  {
   "cell_type": "code",
   "execution_count": 117,
   "id": "a54b9d44",
   "metadata": {},
   "outputs": [
    {
     "data": {
      "text/plain": [
       "array([ 0.04101,   0.4087,   0.7891])"
      ]
     },
     "execution_count": 117,
     "metadata": {},
     "output_type": "execute_result"
    }
   ],
   "source": [
    "S.w"
   ]
  },
  {
   "cell_type": "code",
   "execution_count": 118,
   "id": "a4ecbeaa",
   "metadata": {},
   "outputs": [
    {
     "data": {
      "text/plain": [
       "array([0.001138,   0.8473,  -0.4389])"
      ]
     },
     "execution_count": 118,
     "metadata": {},
     "output_type": "execute_result"
    }
   ],
   "source": [
    "S.pole"
   ]
  },
  {
   "cell_type": "code",
   "execution_count": 119,
   "id": "5ecda422",
   "metadata": {},
   "outputs": [
    {
     "data": {
      "text/plain": [
       "3.2256216289351296"
      ]
     },
     "execution_count": 119,
     "metadata": {},
     "output_type": "execute_result"
    }
   ],
   "source": [
    "S.pitch"
   ]
  },
  {
   "cell_type": "code",
   "execution_count": 120,
   "id": "c3c03a18",
   "metadata": {},
   "outputs": [
    {
     "data": {
      "text/plain": [
       "0.8895797456112914"
      ]
     },
     "execution_count": 120,
     "metadata": {},
     "output_type": "execute_result"
    }
   ],
   "source": [
    "S.theta"
   ]
  },
  {
   "cell_type": "markdown",
   "id": "1c28aa8a",
   "metadata": {},
   "source": [
    "# 2.4 Advanced Topics\n"
   ]
  },
  {
   "cell_type": "markdown",
   "id": "79abcd16",
   "metadata": {},
   "source": [
    "## 2.4.5 Distance Between Orientations\n"
   ]
  },
  {
   "cell_type": "code",
   "execution_count": 121,
   "id": "9ba255b5",
   "metadata": {},
   "outputs": [
    {
     "data": {
      "text/plain": [
       "1.0471975511965976"
      ]
     },
     "execution_count": 121,
     "metadata": {},
     "output_type": "execute_result"
    }
   ],
   "source": [
    "UnitQuaternion.Rx(pi / 2).angdist(UnitQuaternion.Rz(-pi / 2))"
   ]
  },
  {
   "cell_type": "markdown",
   "id": "7bed38da",
   "metadata": {},
   "source": [
    "## 2.4.6 Normalization\n"
   ]
  },
  {
   "cell_type": "code",
   "execution_count": 122,
   "id": "1bfb56e9",
   "metadata": {},
   "outputs": [
    {
     "data": {
      "text/plain": [
       "0.0"
      ]
     },
     "execution_count": 122,
     "metadata": {},
     "output_type": "execute_result"
    }
   ],
   "source": [
    "R = np.eye(3,3);\n",
    "np.linalg.det(R) - 1"
   ]
  },
  {
   "cell_type": "code",
   "execution_count": 123,
   "id": "ad37d946",
   "metadata": {},
   "outputs": [
    {
     "data": {
      "text/plain": [
       "5.773159728050814e-15"
      ]
     },
     "execution_count": 123,
     "metadata": {},
     "output_type": "execute_result"
    }
   ],
   "source": [
    "for i in range(100):\n",
    "  R = R @ rpy2r(0.2, 0.3, 0.4);\n",
    "np.linalg.det(R) - 1"
   ]
  },
  {
   "cell_type": "code",
   "execution_count": 124,
   "id": "50153ac8",
   "metadata": {},
   "outputs": [],
   "source": [
    "R = trnorm(R);"
   ]
  },
  {
   "cell_type": "code",
   "execution_count": 125,
   "id": "9cc46fe4",
   "metadata": {},
   "outputs": [
    {
     "data": {
      "text/plain": [
       "2.220446049250313e-16"
      ]
     },
     "execution_count": 125,
     "metadata": {},
     "output_type": "execute_result"
    }
   ],
   "source": [
    "np.linalg.det(R) - 1"
   ]
  },
  {
   "cell_type": "code",
   "execution_count": 126,
   "id": "7d9bd6c9",
   "metadata": {},
   "outputs": [],
   "source": [
    "q = q.unit();"
   ]
  },
  {
   "cell_type": "code",
   "execution_count": 127,
   "id": "499334cf",
   "metadata": {},
   "outputs": [],
   "source": [
    "# T = T1 @ T2\n",
    "# q = q1 @ q2"
   ]
  },
  {
   "cell_type": "markdown",
   "id": "41c8ccdc",
   "metadata": {},
   "source": [
    "## 2.4.8 More About Twists\n"
   ]
  },
  {
   "cell_type": "code",
   "execution_count": 128,
   "id": "21bf10e0",
   "metadata": {},
   "outputs": [
    {
     "data": {
      "text/plain": [
       "(0 0 0; 1 0 0)"
      ]
     },
     "execution_count": 128,
     "metadata": {},
     "output_type": "execute_result"
    }
   ],
   "source": [
    "S = Twist3.UnitRevolute([1, 0, 0], [0, 0, 0])"
   ]
  },
  {
   "cell_type": "code",
   "execution_count": 129,
   "id": "c5ece89c",
   "metadata": {},
   "outputs": [
    {
     "data": {
      "text/plain": [
       "array([       1,        0,        0])"
      ]
     },
     "execution_count": 129,
     "metadata": {},
     "output_type": "execute_result"
    }
   ],
   "source": [
    "S.S\n",
    "S.v\n",
    "S.w"
   ]
  },
  {
   "cell_type": "code",
   "execution_count": 130,
   "id": "707f6f6f",
   "metadata": {},
   "outputs": [
    {
     "data": {
      "text/plain": [
       "array([[       0,        0,        0,        0],\n",
       "       [       0,        0,       -1,        0],\n",
       "       [       0,        1,        0,        0],\n",
       "       [       0,        0,        0,        0]])"
      ]
     },
     "execution_count": 130,
     "metadata": {},
     "output_type": "execute_result"
    }
   ],
   "source": [
    "S.skewa()"
   ]
  },
  {
   "cell_type": "code",
   "execution_count": 131,
   "id": "f9407ee3",
   "metadata": {},
   "outputs": [
    {
     "data": {
      "text/plain": [
       "array([[       1,        0,        0,        0],\n",
       "       [       0,   0.9553,  -0.2955,        0],\n",
       "       [       0,   0.2955,   0.9553,        0],\n",
       "       [       0,        0,        0,        1]])"
      ]
     },
     "execution_count": 131,
     "metadata": {},
     "output_type": "execute_result"
    }
   ],
   "source": [
    "trexp(0.3 * S.skewa())"
   ]
  },
  {
   "cell_type": "code",
   "execution_count": 132,
   "id": "dafadf8b",
   "metadata": {},
   "outputs": [
    {
     "data": {
      "text/plain": [
       "   1         0         0         0         \n",
       "   0         0.9553   -0.2955    0         \n",
       "   0         0.2955    0.9553    0         \n",
       "   0         0         0         1         \n"
      ]
     },
     "execution_count": 132,
     "metadata": {},
     "output_type": "execute_result"
    }
   ],
   "source": [
    "S.exp(0.3)"
   ]
  },
  {
   "cell_type": "code",
   "execution_count": 133,
   "id": "d7dc57d1",
   "metadata": {},
   "outputs": [
    {
     "name": "stdout",
     "output_type": "stream",
     "text": [
      "t = 0, 0, 0; angvec = (2 | 1, 0, 0)\n"
     ]
    }
   ],
   "source": [
    "S2 = S * S\n",
    "S2.printline(orient=\"angvec\", unit=\"rad\")"
   ]
  },
  {
   "cell_type": "code",
   "execution_count": 134,
   "id": "c87041f0",
   "metadata": {},
   "outputs": [
    {
     "data": {
      "text/plain": [
       "{ 0 0 0; 1 0 0}"
      ]
     },
     "execution_count": 134,
     "metadata": {},
     "output_type": "execute_result"
    }
   ],
   "source": [
    "line = S.line()"
   ]
  },
  {
   "cell_type": "code",
   "execution_count": 135,
   "id": "9ad8efc7",
   "metadata": {},
   "outputs": [
    {
     "name": "stdout",
     "output_type": "stream",
     "text": [
      "Axes3DSubplot(0.125,0.11;0.775x0.77)\n"
     ]
    },
    {
     "data": {
      "image/png": "[encoded data removed]",
      "text/plain": [
       "<Figure size 640x480 with 1 Axes>"
      ]
     },
     "metadata": {},
     "output_type": "display_data"
    }
   ],
   "source": [
    "plotvol3([-5, 5], new=True)  # setup volume in which to display the line\n",
    "line.plot(\"k:\", linewidth=2);"
   ]
  },
  {
   "cell_type": "code",
   "execution_count": 136,
   "id": "14b6cfe6",
   "metadata": {},
   "outputs": [
    {
     "data": {
      "text/plain": [
       "(1.1204 1.6446 3.1778; 0.041006 0.4087 0.78907)"
      ]
     },
     "execution_count": 136,
     "metadata": {},
     "output_type": "execute_result"
    }
   ],
   "source": [
    "T = transl(1, 2, 3) @ eul2tr(0.3, 0.4, 0.5);\n",
    "S = Twist3(T)"
   ]
  },
  {
   "cell_type": "code",
   "execution_count": 137,
   "id": "e30bb7ff",
   "metadata": {},
   "outputs": [
    {
     "data": {
      "text/plain": [
       "(1.2594 1.8488 3.5722; 0.046096 0.45943 0.88702)"
      ]
     },
     "execution_count": 137,
     "metadata": {},
     "output_type": "execute_result"
    }
   ],
   "source": [
    "S / S.theta"
   ]
  },
  {
   "cell_type": "code",
   "execution_count": 138,
   "id": "ca81e287",
   "metadata": {},
   "outputs": [],
   "source": [
    "S.unit();"
   ]
  },
  {
   "cell_type": "code",
   "execution_count": 139,
   "id": "311428f1",
   "metadata": {},
   "outputs": [
    {
     "data": {
      "text/plain": [
       "   1         0         0         0         \n",
       "   0         1         0         0         \n",
       "   0         0         1         0         \n",
       "   0         0         0         1         \n"
      ]
     },
     "execution_count": 139,
     "metadata": {},
     "output_type": "execute_result"
    }
   ],
   "source": [
    "S.exp(0)"
   ]
  },
  {
   "cell_type": "code",
   "execution_count": 140,
   "id": "72d0f3e3",
   "metadata": {},
   "outputs": [
    {
     "data": {
      "text/plain": [
       "   0.6305   -0.6812    0.372     1         \n",
       "   0.6969    0.7079    0.1151    2         \n",
       "  -0.3417    0.1867    0.9211    3         \n",
       "   0         0         0         1         \n"
      ]
     },
     "execution_count": 140,
     "metadata": {},
     "output_type": "execute_result"
    }
   ],
   "source": [
    "S.exp(1)"
   ]
  },
  {
   "cell_type": "code",
   "execution_count": 141,
   "id": "97474ccb",
   "metadata": {},
   "outputs": [
    {
     "data": {
      "text/plain": [
       "   0.9029   -0.3796    0.2017    0.5447    \n",
       "   0.3837    0.9232    0.01982   0.9153    \n",
       "  -0.1937    0.05949   0.9793    1.542     \n",
       "   0         0         0         1         \n"
      ]
     },
     "execution_count": 141,
     "metadata": {},
     "output_type": "execute_result"
    }
   ],
   "source": [
    "S.exp(0.5)"
   ]
  },
  {
   "attachments": {},
   "cell_type": "markdown",
   "id": "17a75aef",
   "metadata": {},
   "source": [
    "<span style=\"background-color:red; font-size:20pt\">NOTE</span>\n",
    "\n",
    "The next cell will launch an interactive tool (using the Swift visualizer) in a new browser tab.  Close the browser tab when you are done with it. \n",
    "\n",
    "You might also have to stop the cell from executing, by pressing the stop button for the cell. It may terminate with lots of errors, don't panic."
   ]
  },
  {
   "cell_type": "code",
   "execution_count": null,
   "id": "ca6fcaee",
   "metadata": {},
   "outputs": [],
   "source": [
    "if COLAB or not SWIFT:\n",
    "    print(\"we can't run this demo from the Colab environment (yet)\")\n",
    "else:\n",
    "    %run -m twistdemo"
   ]
  },
  {
   "cell_type": "markdown",
   "id": "5898e246",
   "metadata": {},
   "source": [
    "# 2.5 Using the Toolbox\n"
   ]
  },
  {
   "cell_type": "code",
   "execution_count": 142,
   "id": "97b30b70",
   "metadata": {},
   "outputs": [],
   "source": [
    "from spatialmath.base import *"
   ]
  },
  {
   "cell_type": "code",
   "execution_count": 143,
   "id": "24e5ddca",
   "metadata": {},
   "outputs": [],
   "source": [
    "from spatialmath import *"
   ]
  },
  {
   "cell_type": "code",
   "execution_count": 144,
   "id": "733dff8b",
   "metadata": {},
   "outputs": [
    {
     "data": {
      "text/plain": [
       "spatialmath.pose3d.SO3"
      ]
     },
     "execution_count": 144,
     "metadata": {},
     "output_type": "execute_result"
    }
   ],
   "source": [
    "R = rotx(0.3)  # create SO(3) matrix as NumPy array\n",
    "type(R)\n",
    "R = SO3.Rx(0.3)  # create SO3 object\n",
    "type(R)"
   ]
  },
  {
   "cell_type": "code",
   "execution_count": 145,
   "id": "4006df6a",
   "metadata": {},
   "outputs": [
    {
     "data": {
      "text/plain": [
       "array([[       1,        0,        0],\n",
       "       [       0,   0.9553,  -0.2955],\n",
       "       [       0,   0.2955,   0.9553]])"
      ]
     },
     "execution_count": 145,
     "metadata": {},
     "output_type": "execute_result"
    }
   ],
   "source": [
    "R.A"
   ]
  },
  {
   "cell_type": "code",
   "execution_count": 146,
   "id": "825b3479",
   "metadata": {},
   "outputs": [],
   "source": [
    "R = SO3(rotx(0.3));                   # convert an SO(3) matrix\n",
    "R = SO3.Rz(0.3);                      # rotation about z-axis\n",
    "R = SO3.RPY(10, 20, 30, unit=\"deg\");  # from roll-pitch-yaw angles\n",
    "R = SO3.AngleAxis(0.3, (1, 0, 0));    # from angle and rotation axis\n",
    "R = SO3.EulerVec((0.3, 0, 0));        # from an Euler vector"
   ]
  },
  {
   "cell_type": "code",
   "execution_count": 147,
   "id": "1f5c5fa1",
   "metadata": {},
   "outputs": [
    {
     "name": "stdout",
     "output_type": "stream",
     "text": [
      " rpy/zyx = 17.2°, 0°, 0°\n"
     ]
    }
   ],
   "source": [
    "R.rpy();        # convert to roll-pitch-yaw angles\n",
    "R.eul();        # convert to Euler angles\n",
    "R.printline();  # compact single-line print"
   ]
  },
  {
   "cell_type": "code",
   "execution_count": 148,
   "id": "5684a982",
   "metadata": {},
   "outputs": [],
   "source": [
    "R = SO3.RPY(10, 20, 30, unit=\"deg\");             # create an SO(3) rotation\n",
    "T = SE3.RPY(10, 20, 30, unit=\"deg\");             # create a purely rotational SE(3)\n",
    "S = Twist3.RPY(10, 20, 30, unit=\"deg\");          # create a purely rotational twist\n",
    "q = UnitQuaternion.RPY(10, 20, 30, unit=\"deg\");  # create a unit quaternion"
   ]
  },
  {
   "cell_type": "code",
   "execution_count": 149,
   "id": "b112713d",
   "metadata": {},
   "outputs": [
    {
     "data": {
      "text/plain": [
       "spatialmath.pose2d.SE2"
      ]
     },
     "execution_count": 149,
     "metadata": {},
     "output_type": "execute_result"
    }
   ],
   "source": [
    "TA = SE2(1, 2) * SE2(30, unit=\"deg\");\n",
    "type(TA)"
   ]
  },
  {
   "cell_type": "code",
   "execution_count": 150,
   "id": "d8f4a5ef",
   "metadata": {},
   "outputs": [
    {
     "data": {
      "text/plain": [
       "   0.866    -0.5       1         \n",
       "   0.5       0.866     2         \n",
       "   0         0         1         \n"
      ]
     },
     "execution_count": 150,
     "metadata": {},
     "output_type": "execute_result"
    }
   ],
   "source": [
    "TA"
   ]
  },
  {
   "cell_type": "code",
   "execution_count": 151,
   "id": "ac480c83",
   "metadata": {},
   "outputs": [],
   "source": [
    "TA = SE2(1, 2, 30, unit=\"deg\");"
   ]
  },
  {
   "cell_type": "code",
   "execution_count": 152,
   "id": "f77fb728",
   "metadata": {},
   "outputs": [
    {
     "data": {
      "text/plain": [
       "array([       1,        2])"
      ]
     },
     "execution_count": 152,
     "metadata": {},
     "output_type": "execute_result"
    }
   ],
   "source": [
    "TA.R\n",
    "TA.t"
   ]
  },
  {
   "cell_type": "code",
   "execution_count": 153,
   "id": "39a6e052",
   "metadata": {},
   "outputs": [
    {
     "data": {
      "image/png": "[encoded data removed]",
      "text/plain": [
       "<Figure size 640x480 with 1 Axes>"
      ]
     },
     "metadata": {},
     "output_type": "display_data"
    }
   ],
   "source": [
    "plotvol2(new=True)  # for matplotlib/widget\n",
    "TA.plot(frame=\"A\", color=\"b\");"
   ]
  },
  {
   "cell_type": "code",
   "execution_count": 154,
   "id": "f080b400",
   "metadata": {},
   "outputs": [
    {
     "name": "stdout",
     "output_type": "stream",
     "text": [
      "t = 1, 2; 30°\n"
     ]
    }
   ],
   "source": [
    "TA.printline()"
   ]
  },
  {
   "cell_type": "code",
   "execution_count": 155,
   "id": "b168b518",
   "metadata": {},
   "outputs": [
    {
     "data": {
      "text/plain": [
       "array([[   1.732],\n",
       "       [      -1]])"
      ]
     },
     "execution_count": 155,
     "metadata": {},
     "output_type": "execute_result"
    }
   ],
   "source": [
    "P = [3, 2];\n",
    "TA.inv() * P"
   ]
  },
  {
   "cell_type": "code",
   "execution_count": 156,
   "id": "a9680b61",
   "metadata": {},
   "outputs": [
    {
     "data": {
      "text/plain": [
       "   1         0         0         \n",
       "   0         0.7317   -0.6816    \n",
       "   0         0.6816    0.7317    \n"
      ]
     },
     "execution_count": 156,
     "metadata": {},
     "output_type": "execute_result"
    }
   ],
   "source": [
    "R = SO3.Rx(np.linspace(0, 1, 5));\n",
    "len(R)\n",
    "R[3]"
   ]
  },
  {
   "cell_type": "code",
   "execution_count": 157,
   "id": "e9485386",
   "metadata": {},
   "outputs": [
    {
     "data": {
      "text/plain": [
       "array([[       1,        1,        1,        1,        1],\n",
       "       [       2,    1.196,   0.3169,  -0.5815,   -1.444],\n",
       "       [       3,    3.402,    3.592,    3.558,    3.304]])"
      ]
     },
     "execution_count": 157,
     "metadata": {},
     "output_type": "execute_result"
    }
   ],
   "source": [
    "R * [1, 2, 3]"
   ]
  }
 ],
 "metadata": {
  "jupytext": {
   "cell_metadata_filter": "-all",
   "main_language": "python",
   "notebook_metadata_filter": "-all"
  },
  "kernelspec": {
   "display_name": "dev",
   "language": "python",
   "name": "python3"
  },
  "language_info": {
   "codemirror_mode": {
    "name": "ipython",
    "version": 3
   },
   "file_extension": ".py",
   "mimetype": "text/x-python",
   "name": "python",
   "nbconvert_exporter": "python",
   "pygments_lexer": "ipython3",
   "version": "3.9.13"
  },
  "vscode": {
   "interpreter": {
    "hash": "b7d6b0d76025b9176285a6442c3dd6dd39bcfe7241029b7898b7106bd5e9b472"
   }
  }
 },
 "nbformat": 4,
 "nbformat_minor": 5
}
